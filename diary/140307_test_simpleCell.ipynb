{
 "metadata": {
  "name": ""
 },
 "nbformat": 3,
 "nbformat_minor": 0,
 "worksheets": [
  {
   "cells": [
    {
     "cell_type": "code",
     "collapsed": false,
     "input": [
      "from neuron import h\n",
      "import Neuron\n",
      "import numpy as np\n",
      "import pylab\n",
      "%pylab inline"
     ],
     "language": "python",
     "metadata": {},
     "outputs": [],
     "prompt_number": "*"
    },
    {
     "cell_type": "code",
     "collapsed": false,
     "input": [
      "\n",
      "h.load_file('stdlib.hoc', 'String') \n",
      "h.load_file('stdrun.hoc')\n",
      "h.load_file(\"import3d.hoc\")"
     ],
     "language": "python",
     "metadata": {},
     "outputs": [],
     "prompt_number": "*"
    },
    {
     "cell_type": "code",
     "collapsed": false,
     "input": [
      "pp = {'num_split': 2, \n",
      "      'dend0': {'mechanisms': ['pas_dend', 'hh'],'diam':1.,'L':600}, \n",
      "       'dend1': {'mechanisms': ['pas_dend', 'hh'],'diam':1.,'L':600}, \n",
      "       'soma': {'mechanisms': ['pas_soma', 'hh'], 'diam':30,'L':30, 'Ra': 200, 'cm':1}, \n",
      "       'mechanisms': {'pas_dend': ('pas', {'e': -45,'g':0.0005}), 'pas_soma': ('pas', {'e': -65,'g':0.0005}),'hh' : ('hh',{}) } , \n",
      "       'num_base': 2, \n",
      "       'hh': ('hh',), \n",
      "       'defaultlevel': {'mechanisms': ['pas_dend', 'hh'],'diam':1.,'L':600}, \n",
      "       'num_levels': 3}\n",
      "\n"
     ],
     "language": "python",
     "metadata": {},
     "outputs": [],
     "prompt_number": "*"
    },
    {
     "cell_type": "code",
     "collapsed": false,
     "input": [
      "def generate_membrane_mechanisms(params):\n",
      "        # generate Mechansim objects\n",
      "        mechanisms = {}\n",
      "        for (mechkey,val) in params['mechanisms'].iteritems():\n",
      "            mechanisms[mechkey] = Neuron.Mechanism(val[0],val[1])\n",
      "        # replace listings in params dict with generated newly Mechanism objects\n",
      "        # TODO: improve this method, as it is name dependent and therefore frail\n",
      "        for (key,val) in params.iteritems():\n",
      "            if type(val) is dict and val.has_key('mechanisms'):\n",
      "                params[key]['mechanisms'] = [ mechanisms[mk] for mk in val['mechanisms']]\n",
      "        return params"
     ],
     "language": "python",
     "metadata": {},
     "outputs": [],
     "prompt_number": "*"
    },
    {
     "cell_type": "code",
     "collapsed": false,
     "input": [
      "pp = generate_membrane_mechanisms(pp)"
     ],
     "language": "python",
     "metadata": {},
     "outputs": [],
     "prompt_number": "*"
    },
    {
     "cell_type": "code",
     "collapsed": false,
     "input": [
      "soma = Neuron.Section(**pp['soma'])"
     ],
     "language": "python",
     "metadata": {},
     "outputs": [],
     "prompt_number": "*"
    },
    {
     "cell_type": "code",
     "collapsed": false,
     "input": [
      "\n",
      "stim = h.IClamp()\n",
      "stim.loc(0.5, sec=soma)\n",
      "stim.dur = 400\n",
      "setattr(stim, 'del',200)\n",
      "stim.amp = 19000.19"
     ],
     "language": "python",
     "metadata": {},
     "outputs": [],
     "prompt_number": "*"
    },
    {
     "cell_type": "code",
     "collapsed": false,
     "input": [
      "\n",
      "time = h.Vector()\n",
      "vmsoma = h.Vector()\n",
      "\n",
      "time.record(h._ref_t)\n",
      "vmsoma.record (soma(0.5)._ref_v)\n",
      "\n",
      "\n",
      "h.init()\n",
      "h.tstop = 700\n",
      "h.run()\n",
      "\n",
      "vms = np.array(vmsoma)\n",
      "tt = np.array(time)\n",
      "pylab.plot(tt,vms)"
     ],
     "language": "python",
     "metadata": {},
     "outputs": [],
     "prompt_number": "*"
    },
    {
     "cell_type": "code",
     "collapsed": false,
     "input": [],
     "language": "python",
     "metadata": {},
     "outputs": [],
     "prompt_number": "*"
    },
    {
     "cell_type": "code",
     "collapsed": false,
     "input": [],
     "language": "python",
     "metadata": {},
     "outputs": []
    }
   ],
   "metadata": {}
  }
 ]
}