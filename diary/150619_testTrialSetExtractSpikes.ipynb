{
 "metadata": {
  "name": ""
 },
 "nbformat": 3,
 "nbformat_minor": 0,
 "worksheets": [
  {
   "cells": [
    {
     "cell_type": "code",
     "collapsed": false,
     "input": [
      "import run_analysis\n",
      "import os\n",
      "print os.getcwd()\n",
      "os.chdir('/home/sjarvis1/workspace/co_optogenetics')"
     ],
     "language": "python",
     "metadata": {},
     "outputs": [
      {
       "output_type": "stream",
       "stream": "stdout",
       "text": [
        "/home/sjarvis1/workspace/co_optogenetics\n"
       ]
      }
     ],
     "prompt_number": 61
    },
    {
     "cell_type": "code",
     "collapsed": false,
     "input": [
      "%%capture\n",
      "reload(run_analysis)\n",
      "basename = \"150616_n50_stellate\"\n",
      "factors = [ 0.0625] #, 0.125,0.25,0.375,0.5,0.75,1.,1.5,2.]\n",
      "instances = [\"irr0.100_factor%.2f\"%factor+\"_freq%g_J2_trial%s_NpHR_whole_ChR_whole\" for factor in factors]\n",
      "variables = range(10,21,10)\n",
      "trials = range(2)\n",
      "trialLabels = ['%.2f'%f for f in factors]\n",
      "labels = [\"freq%g\"%f for f in variables]\n",
      "var_format = '%g'"
     ],
     "language": "python",
     "metadata": {},
     "outputs": [],
     "prompt_number": 68
    },
    {
     "cell_type": "code",
     "collapsed": false,
     "input": [
      "%%capture\n",
      "af = run_analysis.AnalyticFrame()\n",
      "af.populate_trialset(basename, instances, variables, trials, trialLabels, labels, var_format)"
     ],
     "language": "python",
     "metadata": {},
     "outputs": [],
     "prompt_number": 72
    },
    {
     "cell_type": "code",
     "collapsed": false,
     "input": [
      "%%capture\n",
      "af.submenu_extractSpikes()"
     ],
     "language": "python",
     "metadata": {},
     "outputs": [],
     "prompt_number": 73
    },
    {
     "cell_type": "code",
     "collapsed": false,
     "input": [
      "# Testing for methods formalized in diary/150616 --> analyse_invivo for stellate\n",
      "basename = \"150616_n50_stellate\"\n",
      "factors = [ 0.0625, 0.125,0.25,0.375,0.5,0.75,1.,1.5,2.]\n",
      "variables = range(10,81,10)\n",
      "trials = range(2)\n",
      "irrs = [0.012]\n",
      "trialLabels = ['%.2f'%f for f in factors]\n",
      "labels = [\"freq%g\"%f for f in variables]\n",
      "var_format = '%g'\n",
      "for irr in irrs:\n",
      "    instances = [\"irr%.3f\"%irr+\"_factor%.2f\"%factor+\"_freq%g_J2_trial%s_NpHR_whole_ChR_whole\" for factor in factors]\n"
     ],
     "language": "python",
     "metadata": {},
     "outputs": [],
     "prompt_number": 100
    },
    {
     "cell_type": "code",
     "collapsed": false,
     "input": [
      "%%capture\n",
      "\n",
      "reload(run_analysis)\n",
      "af = run_analysis.AnalyticFrame()\n",
      "af.populate_trialset(basename, instances, variables, trials, trialLabels, labels, var_format)\n",
      "        "
     ],
     "language": "python",
     "metadata": {},
     "outputs": [],
     "prompt_number": 101
    },
    {
     "cell_type": "code",
     "collapsed": false,
     "input": [
      "%%capture\n",
      "af.submenu_print()"
     ],
     "language": "python",
     "metadata": {},
     "outputs": [],
     "prompt_number": 102
    },
    {
     "cell_type": "code",
     "collapsed": false,
     "input": [
      "%%capture\n",
      "af.submenu_plot(10, 'test')"
     ],
     "language": "python",
     "metadata": {},
     "outputs": [],
     "prompt_number": 103
    },
    {
     "cell_type": "code",
     "collapsed": false,
     "input": [
      "%%capture\n",
      "ep = run_analysis.ExperimentPlotter()\n",
      "ep.plot_fit_FI_bg(af.experimentset,savefig='testTrials')"
     ],
     "language": "python",
     "metadata": {},
     "outputs": [],
     "prompt_number": 104
    },
    {
     "cell_type": "code",
     "collapsed": false,
     "input": [
      "%%capture\n",
      "for exp in af.experimentset:\n",
      "    print exp\n",
      "    exp.load_experiments()\n",
      "    exp.collate_results()\n",
      "    print exp.results"
     ],
     "language": "python",
     "metadata": {},
     "outputs": [],
     "prompt_number": 105
    },
    {
     "cell_type": "code",
     "collapsed": false,
     "input": [
      "%%capture\n",
      "reload(run_analysis)\n",
      "ep = run_analysis.ExperimentPlotter()\n",
      "ep.update_cmap_index(10)\n",
      "ep.plot_fit_FI_bg(af.experimentset,savefig='yerDad')\n",
      "ep.update_cmap_index(9)\n",
      "ep.plot_fit_FI_bg(af.experimentset,savefig='yerMum')"
     ],
     "language": "python",
     "metadata": {},
     "outputs": [],
     "prompt_number": 119
    },
    {
     "cell_type": "code",
     "collapsed": false,
     "input": [
      "%%capture\n",
      "print os.getcwd()\n",
      "af.update_cmap(9)\n",
      "ep.plot_fit_FI_bg(af.experimentset,savefig='yerMum')"
     ],
     "language": "python",
     "metadata": {},
     "outputs": [],
     "prompt_number": 114
    },
    {
     "cell_type": "code",
     "collapsed": false,
     "input": [],
     "language": "python",
     "metadata": {},
     "outputs": []
    }
   ],
   "metadata": {}
  }
 ]
}