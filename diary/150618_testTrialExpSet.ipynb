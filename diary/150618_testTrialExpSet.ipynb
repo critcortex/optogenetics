{
 "metadata": {
  "name": ""
 },
 "nbformat": 3,
 "nbformat_minor": 0,
 "worksheets": [
  {
   "cells": [
    {
     "cell_type": "code",
     "collapsed": false,
     "input": [
      "## Testing TrialExperimentSet"
     ],
     "language": "python",
     "metadata": {},
     "outputs": []
    },
    {
     "cell_type": "code",
     "collapsed": false,
     "input": [
      "import run_analysis\n",
      "import os\n",
      "print os.getcwd()\n",
      "os.chdir('/home/sjarvis1/workspace/co_optogenetics')"
     ],
     "language": "python",
     "metadata": {},
     "outputs": [
      {
       "output_type": "stream",
       "stream": "stdout",
       "text": [
        "/home/sjarvis1/workspace/co_optogenetics\n"
       ]
      }
     ],
     "prompt_number": 4
    },
    {
     "cell_type": "code",
     "collapsed": false,
     "input": [
      "%%capture\n",
      "reload(run_analysis)\n",
      "basename = \"150616_n50_stellate\"\n",
      "factor = 0.5\n",
      "instances = [\"irr0.012_factor%.2f\"%factor+\"_freq%g_J2_trial%s_NpHR_whole_ChR_whole\"]\n",
      "variables = [40,50]\n",
      "trials = range(5)\n",
      "trialLabel = '%.2f'%factor\n",
      "labels = [\"freq%g\"%f for f in variables]\n",
      "var_format = '%g'\n",
      "tes = run_analysis.TrialExperimentSet(basename,instances,variables,trials,trialLabel,labels,var_format)reload(run_analysis)\n",
      "basename = \"150616_n50_stellate\"\n",
      "factor = 0.5\n",
      "instances = [\"irr0.012_factor%.2f\"%factor+\"_freq%g_J2_trial%s_NpHR_whole_ChR_whole\"]\n",
      "variables = [40,50]\n",
      "trials = range(5)\n",
      "trialLabel = '%.2f'%factor\n",
      "labels = [\"freq%g\"%f for f in variables]\n",
      "var_format = '%g'\n",
      "tes = run_analysis.TrialExperimentSet(basename,instances,variables,trials,trialLabel,labels,var_format)"
     ],
     "language": "python",
     "metadata": {},
     "outputs": [
      {
       "ename": "SyntaxError",
       "evalue": "invalid syntax (<ipython-input-5-e5eee8b05792>, line 10)",
       "output_type": "pyerr",
       "traceback": [
        "\u001b[1;36m  File \u001b[1;32m\"<ipython-input-5-e5eee8b05792>\"\u001b[1;36m, line \u001b[1;32m10\u001b[0m\n\u001b[1;33m    tes = run_analysis.TrialExperimentSet(basename,instances,variables,trials,trialLabel,labels,var_format)reload(run_analysis)\u001b[0m\n\u001b[1;37m                                                                                                                ^\u001b[0m\n\u001b[1;31mSyntaxError\u001b[0m\u001b[1;31m:\u001b[0m invalid syntax\n"
       ]
      }
     ],
     "prompt_number": 5
    },
    {
     "cell_type": "code",
     "collapsed": false,
     "input": [
      "reload(run_analysis)\n",
      "tes.load_experiments()"
     ],
     "language": "python",
     "metadata": {},
     "outputs": [
      {
       "ename": "NameError",
       "evalue": "name 'tes' is not defined",
       "output_type": "pyerr",
       "traceback": [
        "\u001b[1;31m---------------------------------------------------------------------------\u001b[0m\n\u001b[1;31mNameError\u001b[0m                                 Traceback (most recent call last)",
        "\u001b[1;32m<ipython-input-6-174aad733f98>\u001b[0m in \u001b[0;36m<module>\u001b[1;34m()\u001b[0m\n\u001b[0;32m      1\u001b[0m \u001b[0mreload\u001b[0m\u001b[1;33m(\u001b[0m\u001b[0mrun_analysis\u001b[0m\u001b[1;33m)\u001b[0m\u001b[1;33m\u001b[0m\u001b[0m\n\u001b[1;32m----> 2\u001b[1;33m \u001b[0mtes\u001b[0m\u001b[1;33m.\u001b[0m\u001b[0mload_experiments\u001b[0m\u001b[1;33m(\u001b[0m\u001b[1;33m)\u001b[0m\u001b[1;33m\u001b[0m\u001b[0m\n\u001b[0m",
        "\u001b[1;31mNameError\u001b[0m: name 'tes' is not defined"
       ]
      }
     ],
     "prompt_number": 6
    },
    {
     "cell_type": "code",
     "collapsed": false,
     "input": [
      "for expset in tes.experimentsets:\n",
      "    print expset.results"
     ],
     "language": "python",
     "metadata": {},
     "outputs": [
      {
       "output_type": "stream",
       "stream": "stdout",
       "text": [
        "{'FI': [29.0, 31.0, 31.0, 26.0, 29.0], 'FI_bg': [32.30769230769231, 30.76923076923077, 32.30769230769231, 26.153846153846153, 26.153846153846153], 'FI_post': [26.0, 27.0, 29.0, 27.0, 26.0]}\n",
        "{'FI': [37.0, 36.0, 40.0, 36.0, 38.0], 'FI_bg': [36.92307692307692, 38.46153846153846, 41.53846153846154, 38.46153846153846, 38.46153846153846], 'FI_post': [38.0, 36.0, 39.0, 35.0, 39.0]}\n"
       ]
      }
     ],
     "prompt_number": 128
    },
    {
     "cell_type": "code",
     "collapsed": false,
     "input": [
      "#tes.results\n",
      "\"\"\"\n",
      "tmp_dict = []\n",
      "for expset in tes.experimentsets:\n",
      "    for restype in expset.results.keys():\n",
      "        if restype not in tmp_dict:\n",
      "            tmp_dict.append(restype)\n",
      "\n",
      "for restype in tmp_dict:\n",
      "    tes.results[restype] = []\n",
      "    for expset in tes.experimentsets:\n",
      "        if tes.results[expset.label].has_key(restype):\n",
      "            tes.results[restype] = tes.results[restype]+tes.results[expset.label][restype]\n",
      "tes.results\n",
      "\"\"\""
     ],
     "language": "python",
     "metadata": {},
     "outputs": [
      {
       "metadata": {},
       "output_type": "pyout",
       "prompt_number": 105,
       "text": [
        "'\\ntmp_dict = []\\nfor expset in tes.experimentsets:\\n    for restype in expset.results.keys():\\n        if restype not in tmp_dict:\\n            tmp_dict.append(restype)\\n\\nfor restype in tmp_dict:\\n    tes.results[restype] = []\\n    for expset in tes.experimentsets:\\n        if tes.results[expset.label].has_key(restype):\\n            tes.results[restype] = tes.results[restype]+tes.results[expset.label][restype]\\ntes.results\\n'"
       ]
      }
     ],
     "prompt_number": 105
    },
    {
     "cell_type": "code",
     "collapsed": false,
     "input": [
      "tes.resultstes.collate_results()\n",
      "tes.results"
     ],
     "language": "python",
     "metadata": {},
     "outputs": [
      {
       "metadata": {},
       "output_type": "pyout",
       "prompt_number": 129,
       "text": [
        "{'FI': [29.0, 31.0, 31.0, 26.0, 29.0, 37.0, 36.0, 40.0, 36.0, 38.0],\n",
        " 'FI_bg': [32.30769230769231,\n",
        "  30.76923076923077,\n",
        "  32.30769230769231,\n",
        "  26.153846153846153,\n",
        "  26.153846153846153,\n",
        "  36.92307692307692,\n",
        "  38.46153846153846,\n",
        "  41.53846153846154,\n",
        "  38.46153846153846,\n",
        "  38.46153846153846],\n",
        " 'FI_post': [26.0, 27.0, 29.0, 27.0, 26.0, 38.0, 36.0, 39.0, 35.0, 39.0],\n",
        " 'freq40': {'FI': [29.0, 31.0, 31.0, 26.0, 29.0],\n",
        "  'FI_bg': [32.30769230769231,\n",
        "   30.76923076923077,\n",
        "   32.30769230769231,\n",
        "   26.153846153846153,\n",
        "   26.153846153846153],\n",
        "  'FI_post': [26.0, 27.0, 29.0, 27.0, 26.0]},\n",
        " 'freq50': {'FI': [37.0, 36.0, 40.0, 36.0, 38.0],\n",
        "  'FI_bg': [36.92307692307692,\n",
        "   38.46153846153846,\n",
        "   41.53846153846154,\n",
        "   38.46153846153846,\n",
        "   38.46153846153846],\n",
        "  'FI_post': [38.0, 36.0, 39.0, 35.0, 39.0]}}"
       ]
      }
     ],
     "prompt_number": 129
    },
    {
     "cell_type": "markdown",
     "metadata": {},
     "source": [
      "## Now with two TrialSets for different factors"
     ]
    },
    {
     "cell_type": "code",
     "collapsed": false,
     "input": [
      "%%capture\n",
      "reload(run_analysis)\n",
      "basename = \"150616_n50_stellate\"\n",
      "factors = [0.5,1.]\n",
      "instances = [\"irr0.012_factor%.2f\"%factor+\"_freq%g_J2_trial%s_NpHR_whole_ChR_whole\" for factor in factors]\n",
      "variables = [40,50]\n",
      "trials = range(2)\n",
      "trialLabels = ['%.2f'%factor for factor in factors]\n",
      "labels = [\"freq%g\"%f for f in variables]\n",
      "var_format = '%g'\n",
      "#tesset = run_analysis.TrialExperimentSet(basename,instances,variables,trials,trialLabel,labels,var_format)\n",
      "tesset = run_analysis.RangeTrials(basename,instances,variables,trials,trialLabels,labels,var_format)\n",
      "#tesset.load_experiments()\n",
      "#tesset.collate_results()"
     ],
     "language": "python",
     "metadata": {},
     "outputs": [],
     "prompt_number": 8
    },
    {
     "cell_type": "code",
     "collapsed": false,
     "input": [
      "%%capture\n",
      "tesset.load_experiments()\n",
      "tesset.collate_results()\n",
      "for tes in tesset.expRange:\n",
      "    print tes.results\n"
     ],
     "language": "python",
     "metadata": {},
     "outputs": [],
     "prompt_number": 9
    },
    {
     "cell_type": "code",
     "collapsed": false,
     "input": [
      "reload(run_analysis)\n",
      "ep = run_analysis.ExperimentPlotter()\n",
      "ep.plot_fit_FI_bg(tesset.expRange,savefig='test')"
     ],
     "language": "python",
     "metadata": {},
     "outputs": [
      {
       "output_type": "stream",
       "stream": "stdout",
       "text": [
        "['FI', 'FI_bg', 'freq50', 'freq40', 'FI_post']\n",
        "['FI', 'FI_bg', 'freq50', 'freq40', 'FI_post']\n",
        "---------------------\n",
        "(30.76923076923077, 32.30769230769231, 36.92307692307692, 38.46153846153846) (31.0, 29.0, 37.0, 36.0)\n",
        "---------------------\n",
        "[ 32.30769231  30.76923077  36.92307692  38.46153846]\n",
        "[ 31.  29.  37.  36.]\n",
        "['FI', 'FI_bg', 'freq50', 'freq40', 'FI_post']\n",
        "['FI', 'FI_bg', 'freq50', 'freq40', 'FI_post']\n",
        "---------------------\n",
        "(27.692307692307693, 29.23076923076923, 35.38461538461539, 36.92307692307692) (4.0, 3.0, 6.0, 6.0)\n",
        "---------------------\n",
        "[ 27.69230769  29.23076923  36.92307692  35.38461538]\n",
        "[ 4.  3.  6.  6.]\n",
        "-=-=-=-=-=-\n",
        "[[32.30769230769231, 30.76923076923077, 36.92307692307692, 38.46153846153846], [27.692307692307693, 29.23076923076923, 36.92307692307692, 35.38461538461539]]\n",
        "[array([ 31.,  29.,  37.,  36.]), array([ 4.,  3.,  6.,  6.])]\n",
        "-=-=-=-=-=-\n",
        "[[32.30769230769231, 30.76923076923077, 36.92307692307692, 38.46153846153846], [27.692307692307693, 29.23076923076923, 36.92307692307692, 35.38461538461539]]"
       ]
      },
      {
       "output_type": "stream",
       "stream": "stdout",
       "text": [
        " 2 <---------\n",
        "Saved figure as test_poly_bgFIfit_150619.png"
       ]
      },
      {
       "output_type": "stream",
       "stream": "stdout",
       "text": [
        "\n",
        "['FI', 'FI_bg', 'freq50', 'freq40', 'FI_post']\n",
        "['FI', 'FI_bg', 'freq50', 'freq40', 'FI_post']\n",
        "---------------------\n",
        "(30.76923076923077, 32.30769230769231, 36.92307692307692, 38.46153846153846) (31.0, 29.0, 37.0, 36.0)\n",
        "---------------------\n",
        "[ 32.30769231  30.76923077  36.92307692  38.46153846]\n",
        "[ 31.  29.  37.  36.]\n",
        "['FI', 'FI_bg', 'freq50', 'freq40', 'FI_post']\n",
        "['FI', 'FI_bg', 'freq50', 'freq40', 'FI_post']\n",
        "---------------------\n",
        "(27.692307692307693, 29.23076923076923, 35.38461538461539, 36.92307692307692) (4.0, 3.0, 6.0, 6.0)\n",
        "---------------------\n",
        "[ 27.69230769  29.23076923  36.92307692  35.38461538]\n",
        "[ 4.  3.  6.  6.]\n",
        "-=-=-=-=-=-\n",
        "[[32.30769230769231, 30.76923076923077, 36.92307692307692, 38.46153846153846], [27.692307692307693, 29.23076923076923, 36.92307692307692, 35.38461538461539]]\n",
        "[array([ 31.,  29.,  37.,  36.]), array([ 4.,  3.,  6.,  6.])]\n",
        "-=-=-=-=-=-\n",
        "[[32.30769230769231, 30.76923076923077, 36.92307692307692, 38.46153846153846], [27.692307692307693, 29.23076923076923, 36.92307692307692, 35.38461538461539]] 2 <---------\n",
        "Saved figure as test_sigmoid_bgFIfit_150619.png"
       ]
      },
      {
       "output_type": "stream",
       "stream": "stdout",
       "text": [
        "\n",
        "['FI', 'FI_bg', 'freq50', 'freq40', 'FI_post']\n",
        "['FI', 'FI_bg', 'freq50', 'freq40', 'FI_post']\n",
        "---------------------\n",
        "(30.76923076923077, 32.30769230769231, 36.92307692307692, 38.46153846153846) (31.0, 29.0, 37.0, 36.0)\n",
        "---------------------\n",
        "[ 32.30769231  30.76923077  36.92307692  38.46153846]\n",
        "[ 31.  29.  37.  36.]\n",
        "['FI', 'FI_bg', 'freq50', 'freq40', 'FI_post']\n",
        "['FI', 'FI_bg', 'freq50', 'freq40', 'FI_post']\n",
        "---------------------\n",
        "(27.692307692307693, 29.23076923076923, 35.38461538461539, 36.92307692307692) (4.0, 3.0, 6.0, 6.0)\n",
        "---------------------\n",
        "[ 27.69230769  29.23076923  36.92307692  35.38461538]\n",
        "[ 4.  3.  6.  6.]\n",
        "-=-=-=-=-=-\n",
        "[[32.30769230769231, 30.76923076923077, 36.92307692307692, 38.46153846153846], [27.692307692307693, 29.23076923076923, 36.92307692307692, 35.38461538461539]]\n",
        "[array([ 31.,  29.,  37.,  36.]), array([ 4.,  3.,  6.,  6.])]\n",
        "-=-=-=-=-=-\n",
        "[[32.30769230769231, 30.76923076923077, 36.92307692307692, 38.46153846153846], [27.692307692307693, 29.23076923076923, 36.92307692307692, 35.38461538461539]] 2 <---------\n",
        "Saved figure as test_linear_bgFIfit_150619.png"
       ]
      },
      {
       "output_type": "stream",
       "stream": "stderr",
       "text": [
        "/usr/local/lib/python2.7/dist-packages/scipy/optimize/minpack.py:604: OptimizeWarning: Covariance of the parameters could not be estimated\n",
        "  category=OptimizeWarning)\n",
        "/home/sjarvis1/workspace/co_optogenetics/src/run_analysis.py:372: RuntimeWarning: invalid value encountered in log\n",
        "  return a*np.log(x-b)+c\n"
       ]
      },
      {
       "output_type": "stream",
       "stream": "stdout",
       "text": [
        "\n",
        "['FI', 'FI_bg', 'freq50', 'freq40', 'FI_post']\n",
        "['FI', 'FI_bg', 'freq50', 'freq40', 'FI_post']\n",
        "---------------------\n",
        "(30.76923076923077, 32.30769230769231, 36.92307692307692, 38.46153846153846) (31.0, 29.0, 37.0, 36.0)\n",
        "---------------------\n",
        "First nonzero at index 0\n",
        "32.3076923077\n",
        "[ 32.30769231  30.76923077  36.92307692  38.46153846]\n",
        "[ 31.  29.  37.  36.]\n",
        "['FI', 'FI_bg', 'freq50', 'freq40', 'FI_post']\n",
        "['FI', 'FI_bg', 'freq50', 'freq40', 'FI_post']\n",
        "---------------------\n",
        "(27.692307692307693, 29.23076923076923, 35.38461538461539, 36.92307692307692) (4.0, 3.0, 6.0, 6.0)\n",
        "---------------------\n",
        "First nonzero at index 0\n",
        "27.6923076923\n",
        "[ 27.69230769  29.23076923  36.92307692  35.38461538]\n",
        "[ 4.  3.  6.  6.]\n",
        "Error with plotting for expset"
       ]
      },
      {
       "ename": "IndexError",
       "evalue": "index 1 is out of bounds for axis 0 with size 1",
       "output_type": "pyerr",
       "traceback": [
        "\u001b[1;31m---------------------------------------------------------------------------\u001b[0m\n\u001b[1;31mIndexError\u001b[0m                                Traceback (most recent call last)",
        "\u001b[1;32m<ipython-input-11-03f9a394d2df>\u001b[0m in \u001b[0;36m<module>\u001b[1;34m()\u001b[0m\n\u001b[0;32m      1\u001b[0m \u001b[0mreload\u001b[0m\u001b[1;33m(\u001b[0m\u001b[0mrun_analysis\u001b[0m\u001b[1;33m)\u001b[0m\u001b[1;33m\u001b[0m\u001b[0m\n\u001b[0;32m      2\u001b[0m \u001b[0mep\u001b[0m \u001b[1;33m=\u001b[0m \u001b[0mrun_analysis\u001b[0m\u001b[1;33m.\u001b[0m\u001b[0mExperimentPlotter\u001b[0m\u001b[1;33m(\u001b[0m\u001b[1;33m)\u001b[0m\u001b[1;33m\u001b[0m\u001b[0m\n\u001b[1;32m----> 3\u001b[1;33m \u001b[0mep\u001b[0m\u001b[1;33m.\u001b[0m\u001b[0mplot_fit_FI_bg\u001b[0m\u001b[1;33m(\u001b[0m\u001b[0mtesset\u001b[0m\u001b[1;33m.\u001b[0m\u001b[0mexpRange\u001b[0m\u001b[1;33m,\u001b[0m\u001b[0msavefig\u001b[0m\u001b[1;33m=\u001b[0m\u001b[1;34m'test'\u001b[0m\u001b[1;33m)\u001b[0m\u001b[1;33m\u001b[0m\u001b[0m\n\u001b[0m",
        "\u001b[1;32m/home/sjarvis1/workspace/co_optogenetics/src/run_analysis.pyc\u001b[0m in \u001b[0;36mplot_fit_FI_bg\u001b[1;34m(self, experimentsets, savefig, settings, polyfn)\u001b[0m\n\u001b[0;32m    451\u001b[0m         \u001b[0mpylab\u001b[0m\u001b[1;33m.\u001b[0m\u001b[0mclose\u001b[0m\u001b[1;33m(\u001b[0m\u001b[1;34m'all'\u001b[0m\u001b[1;33m)\u001b[0m\u001b[1;33m\u001b[0m\u001b[0m\n\u001b[0;32m    452\u001b[0m \u001b[1;33m\u001b[0m\u001b[0m\n\u001b[1;32m--> 453\u001b[1;33m         \u001b[0mself\u001b[0m\u001b[1;33m.\u001b[0m\u001b[0m_plot_fit_FI_bg\u001b[0m\u001b[1;33m(\u001b[0m\u001b[0mexperimentsets\u001b[0m\u001b[1;33m,\u001b[0m\u001b[0msettings\u001b[0m\u001b[1;33m=\u001b[0m\u001b[0msettings\u001b[0m\u001b[1;33m,\u001b[0m\u001b[0msavefig\u001b[0m\u001b[1;33m=\u001b[0m\u001b[0msavefig\u001b[0m\u001b[1;33m+\u001b[0m\u001b[1;34m'_log'\u001b[0m\u001b[1;33m,\u001b[0m\u001b[0mpolyfn\u001b[0m\u001b[1;33m=\u001b[0m\u001b[1;34m'_log'\u001b[0m\u001b[1;33m,\u001b[0m\u001b[0mp0\u001b[0m\u001b[1;33m=\u001b[0m\u001b[0mNone\u001b[0m\u001b[1;33m)\u001b[0m\u001b[1;33m\u001b[0m\u001b[0m\n\u001b[0m\u001b[0;32m    454\u001b[0m         \u001b[1;32mprint\u001b[0m \u001b[1;34m\"Am in here2\"\u001b[0m\u001b[1;33m\u001b[0m\u001b[0m\n\u001b[0;32m    455\u001b[0m         \u001b[0mpylab\u001b[0m\u001b[1;33m.\u001b[0m\u001b[0mclose\u001b[0m\u001b[1;33m(\u001b[0m\u001b[1;34m'all'\u001b[0m\u001b[1;33m)\u001b[0m\u001b[1;33m\u001b[0m\u001b[0m\n",
        "\u001b[1;32m/home/sjarvis1/workspace/co_optogenetics/src/run_analysis.pyc\u001b[0m in \u001b[0;36m_plot_fit_FI_bg\u001b[1;34m(self, experimentsets, savefig, settings, polyfn, p0)\u001b[0m\n\u001b[0;32m    464\u001b[0m         \u001b[1;32mif\u001b[0m \u001b[0msavefig\u001b[0m \u001b[1;32mis\u001b[0m \u001b[1;32mnot\u001b[0m \u001b[0mNone\u001b[0m\u001b[1;33m:\u001b[0m\u001b[1;33m\u001b[0m\u001b[0m\n\u001b[0;32m    465\u001b[0m             \u001b[0msavefig\u001b[0m \u001b[1;33m+=\u001b[0m \u001b[1;34m'_bg'\u001b[0m\u001b[1;33m\u001b[0m\u001b[0m\n\u001b[1;32m--> 466\u001b[1;33m         \u001b[0mself\u001b[0m\u001b[1;33m.\u001b[0m\u001b[0m_plot_fit_FI_general\u001b[0m\u001b[1;33m(\u001b[0m\u001b[0mexperimentsets\u001b[0m\u001b[1;33m,\u001b[0m\u001b[1;34m'FI_bg'\u001b[0m\u001b[1;33m,\u001b[0m\u001b[1;34m'FI'\u001b[0m\u001b[1;33m,\u001b[0m\u001b[1;34m'Background (Hz)'\u001b[0m\u001b[1;33m,\u001b[0m\u001b[0msavefig\u001b[0m\u001b[1;33m,\u001b[0m\u001b[0msettings\u001b[0m\u001b[1;33m,\u001b[0m\u001b[0mpolyfn\u001b[0m\u001b[1;33m,\u001b[0m\u001b[0mp0\u001b[0m\u001b[1;33m)\u001b[0m\u001b[1;33m\u001b[0m\u001b[0m\n\u001b[0m\u001b[0;32m    467\u001b[0m \u001b[1;33m\u001b[0m\u001b[0m\n\u001b[0;32m    468\u001b[0m \u001b[1;33m\u001b[0m\u001b[0m\n",
        "\u001b[1;32m/home/sjarvis1/workspace/co_optogenetics/src/run_analysis.pyc\u001b[0m in \u001b[0;36m_plot_fit_FI_general\u001b[1;34m(self, experimentsets, xval_key, yval_key, xlabel, savefig, settings, polyfn, p0)\u001b[0m\n\u001b[0;32m    640\u001b[0m         \u001b[1;32mprint\u001b[0m \u001b[1;34m\"-=-=-=-=-=-\"\u001b[0m\u001b[1;33m\u001b[0m\u001b[0m\n\u001b[0;32m    641\u001b[0m         \u001b[1;32mif\u001b[0m \u001b[0mlen\u001b[0m\u001b[1;33m(\u001b[0m\u001b[0mlabels\u001b[0m\u001b[1;33m)\u001b[0m\u001b[1;33m>\u001b[0m\u001b[1;36m0\u001b[0m\u001b[1;33m:\u001b[0m\u001b[1;33m\u001b[0m\u001b[0m\n\u001b[1;32m--> 642\u001b[1;33m             \u001b[0mself\u001b[0m\u001b[1;33m.\u001b[0m\u001b[0m_plot_xs_ys\u001b[0m\u001b[1;33m(\u001b[0m\u001b[0mobsxs\u001b[0m\u001b[1;33m,\u001b[0m \u001b[0mobsys\u001b[0m\u001b[1;33m,\u001b[0m \u001b[0mfittedxs\u001b[0m\u001b[1;33m,\u001b[0m \u001b[0mfittedys\u001b[0m\u001b[1;33m,\u001b[0m \u001b[0mlabels\u001b[0m\u001b[1;33m,\u001b[0m \u001b[0mxlabel\u001b[0m\u001b[1;33m,\u001b[0m \u001b[0msavefig\u001b[0m\u001b[1;33m,\u001b[0m \u001b[0msettings\u001b[0m\u001b[1;33m)\u001b[0m\u001b[1;33m\u001b[0m\u001b[0m\n\u001b[0m\u001b[0;32m    643\u001b[0m \u001b[1;33m\u001b[0m\u001b[0m\n\u001b[0;32m    644\u001b[0m \u001b[1;33m\u001b[0m\u001b[0m\n",
        "\u001b[1;32m/home/sjarvis1/workspace/co_optogenetics/src/run_analysis.pyc\u001b[0m in \u001b[0;36m_plot_xs_ys\u001b[1;34m(self, xs, ys, fittedxs, fittedys, labels, xlabel, savefig, settings)\u001b[0m\n\u001b[0;32m    501\u001b[0m \u001b[1;33m\u001b[0m\u001b[0m\n\u001b[0;32m    502\u001b[0m         \u001b[0mcbarlabels\u001b[0m \u001b[1;33m=\u001b[0m \u001b[0mlabels\u001b[0m\u001b[1;33m\u001b[0m\u001b[0m\n\u001b[1;32m--> 503\u001b[1;33m         \u001b[0mdc\u001b[0m \u001b[1;33m=\u001b[0m \u001b[0mintensities\u001b[0m\u001b[1;33m[\u001b[0m\u001b[1;36m1\u001b[0m\u001b[1;33m]\u001b[0m\u001b[1;33m-\u001b[0m\u001b[0mintensities\u001b[0m\u001b[1;33m[\u001b[0m\u001b[1;36m0\u001b[0m\u001b[1;33m]\u001b[0m\u001b[1;33m\u001b[0m\u001b[0m\n\u001b[0m\u001b[0;32m    504\u001b[0m         \u001b[0mmapint\u001b[0m \u001b[1;33m=\u001b[0m \u001b[0mnp\u001b[0m\u001b[1;33m.\u001b[0m\u001b[0mlinspace\u001b[0m\u001b[1;33m(\u001b[0m\u001b[1;36m0.1\u001b[0m\u001b[1;33m-\u001b[0m\u001b[0mdc\u001b[0m\u001b[1;33m/\u001b[0m\u001b[1;36m2\u001b[0m\u001b[1;33m,\u001b[0m \u001b[1;36m0.9\u001b[0m\u001b[1;33m+\u001b[0m\u001b[0mdc\u001b[0m\u001b[1;33m/\u001b[0m\u001b[1;36m2\u001b[0m\u001b[1;33m,\u001b[0m \u001b[0mlen\u001b[0m\u001b[1;33m(\u001b[0m\u001b[0mxs\u001b[0m\u001b[1;33m)\u001b[0m\u001b[1;33m+\u001b[0m\u001b[1;36m1\u001b[0m\u001b[1;33m)\u001b[0m\u001b[1;33m\u001b[0m\u001b[0m\n\u001b[0;32m    505\u001b[0m         \u001b[0mcb\u001b[0m \u001b[1;33m=\u001b[0m \u001b[0mpylab\u001b[0m\u001b[1;33m.\u001b[0m\u001b[0mcolorbar\u001b[0m\u001b[1;33m(\u001b[0m\u001b[0mm\u001b[0m\u001b[1;33m,\u001b[0m\u001b[0mticks\u001b[0m\u001b[1;33m=\u001b[0m\u001b[0mintensities\u001b[0m\u001b[1;33m,\u001b[0m\u001b[0mboundaries\u001b[0m\u001b[1;33m=\u001b[0m\u001b[0mmapint\u001b[0m\u001b[1;33m)\u001b[0m\u001b[1;33m\u001b[0m\u001b[0m\n",
        "\u001b[1;31mIndexError\u001b[0m: index 1 is out of bounds for axis 0 with size 1"
       ]
      },
      {
       "output_type": "stream",
       "stream": "stdout",
       "text": [
        " <run_analysis.TrialExperimentSet instance at 0x7f0a23f0ffc8>\n",
        "Unexpected error: <type 'exceptions.RuntimeError'>\n",
        "-=-=-=-=-=-\n",
        "[[32.30769230769231, 30.76923076923077, 36.92307692307692, 38.46153846153846]]\n",
        "[array([ 31.,  29.,  37.,  36.])]\n",
        "-=-=-=-=-=-\n",
        "[[32.30769230769231, 30.76923076923077, 36.92307692307692, 38.46153846153846]] 1 <---------\n"
       ]
      }
     ],
     "prompt_number": 11
    },
    {
     "cell_type": "markdown",
     "metadata": {},
     "source": [
      "## Proper test\n",
      "\n",
      "For range"
     ]
    },
    {
     "cell_type": "code",
     "collapsed": false,
     "input": [
      "%%capture\n",
      "reload(run_analysis)\n",
      "basename = \"150616_n50_stellate\"\n",
      "factors = [ 0.0625, 0.125,0.25,0.375,0.5,0.75,1.,1.5,2.]\n",
      "instances = [\"irr0.012_factor%.2f\"%factor+\"_freq%g_J2_trial%s_NpHR_whole_ChR_whole\" for factor in factors]\n",
      "variables = range(10,201,10)\n",
      "trials = range(5)\n",
      "trialLabels = ['%.2f'%f for f in factors]\n",
      "labels = [\"freq%g\"%f for f in variables]\n",
      "var_format = '%g'\n",
      "#tesset = run_analysis.TrialExperimentSet(basename,instances,variables,trials,trialLabel,labels,var_format)\n",
      "tessetFull = run_analysis.RangeTrials(basename,instances,variables,trials,trialLabels,labels,var_format)\n",
      "tessetFull.load_experiments()\n",
      "tessetFull.collate_results()\n",
      "ep = run_analysis.ExperimentPlotter()\n",
      "ep.plot_fit_FI_bg(tessetFull.expRange,savefig='fullRangeTest')"
     ],
     "language": "python",
     "metadata": {},
     "outputs": [],
     "prompt_number": 13
    },
    {
     "cell_type": "code",
     "collapsed": false,
     "input": [],
     "language": "python",
     "metadata": {},
     "outputs": [],
     "prompt_number": 14
    },
    {
     "cell_type": "code",
     "collapsed": false,
     "input": [
      "for ex in tessetFull.expRange:\n",
      "    print ex.get_label()"
     ],
     "language": "python",
     "metadata": {},
     "outputs": [
      {
       "output_type": "stream",
       "stream": "stdout",
       "text": [
        "0.06\n",
        "0.12\n",
        "0.25\n",
        "0.38\n",
        "0.50\n",
        "0.75\n",
        "1.00\n",
        "1.50\n",
        "2.00\n"
       ]
      }
     ],
     "prompt_number": 15
    },
    {
     "cell_type": "code",
     "collapsed": false,
     "input": [],
     "language": "python",
     "metadata": {},
     "outputs": []
    }
   ],
   "metadata": {}
  }
 ]
}