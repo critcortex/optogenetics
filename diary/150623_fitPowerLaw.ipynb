{
 "metadata": {
  "name": ""
 },
 "nbformat": 3,
 "nbformat_minor": 0,
 "worksheets": [
  {
   "cells": [
    {
     "cell_type": "code",
     "collapsed": false,
     "input": [
      "import numpy as np\n",
      "import scipy\n",
      "import matplotlib.pyplot as plt"
     ],
     "language": "python",
     "metadata": {},
     "outputs": [],
     "prompt_number": 26
    },
    {
     "cell_type": "code",
     "collapsed": false,
     "input": [
      "%matplotlib inline\n",
      "a = 1.\n",
      "b = 10.\n",
      "c = 1.\n",
      "d = 0.0 #2\n",
      "\n",
      "\n",
      "\n",
      "a,b,c,d= 1.7,   1.4,  12.4,  -0.65\n",
      "d = 0.0 #2\n",
      "\n",
      "# solve for y=0\n",
      "x_0 = ((-1/(d-c)))**(1./b) + a\n",
      "print x_0\n",
      "#x_0 = 0\n",
      "xs = np.arange(x_0-0.16,5.,0.01)\n",
      "ys = c*(((xs-a)**b)/(1+(xs-a)**b))-d\n",
      "#print xs\n",
      "print ys[0:50]\n",
      "plt.plot(xs,ys,label='a=%g'%a)\n",
      "\n",
      "\n",
      "\n",
      "a = 0\n",
      "x_0 = ((-1/(d-c)))**(1./b) - a\n",
      "print x_0\n",
      "xs = np.arange(x_0-0.16,5.,0.01)\n",
      "zs = c*(((xs-a)**b)/(1+(xs-a)**b))-d\n",
      "print zs[0]\n",
      "\n",
      "plt.plot(xs,zs,'r',label='a=0')\n",
      "plt.legend(loc=4)\n",
      "#print zs\n",
      "#plt.ylim(ymin=-2)\n",
      "#plt.ylim(ymax=2)\n",
      "plt.grid()\n",
      "#plt.xlim(xmin=-1)"
     ],
     "language": "python",
     "metadata": {},
     "outputs": [
      {
       "output_type": "stream",
       "stream": "stdout",
       "text": [
        "1.86557109104\n",
        "[ 0.00865834  0.03642426  0.07273038  0.11505599  0.16213282  0.21314741\n",
        "  0.2675144   0.32478273  0.38458872  0.44662964  0.51064751  0.57641855\n",
        "  0.64374593  0.71245467  0.7823878   0.85340355  0.92537313  0.998179\n",
        "  1.07171344  1.14587742  1.2205797   1.29573595  1.37126816  1.44710403\n",
        "  1.52317646  1.59942312  1.6757861   1.75221153  1.82864928  1.90505272\n",
        "  1.98137844  2.05758607  2.13363802  2.20949934  2.28513755  2.36052245\n",
        "  2.43562601  2.51042221  2.58488696  2.65899793  2.73273447  2.80607752\n",
        "  2.8790095   2.95151422  3.02357682  3.09518367  3.1663223   3.23698134\n",
        "  3.30715048  3.37682034]\n",
        "0.165571091039\n",
        "0.00865834106415\n"
       ]
      },
      {
       "metadata": {},
       "output_type": "display_data",
       "png": "[encoded data removed]",
       "text": [
        "<matplotlib.figure.Figure at 0x7f6bb3147510>"
       ]
      }
     ],
     "prompt_number": 270
    },
    {
     "cell_type": "code",
     "collapsed": false,
     "input": [
      "#np.vectorize?"
     ],
     "language": "python",
     "metadata": {},
     "outputs": [],
     "prompt_number": 265
    },
    {
     "cell_type": "code",
     "collapsed": false,
     "input": [
      "# taken from Stackoverflow # 11129812\n",
      "import scipy.optimize as so\n",
      "import numpy as np\n",
      "\n",
      "def fitfunc(x,p):\n",
      "   if x>p:\n",
      "      return x-p\n",
      "   else:\n",
      "      return -(x-p)\n",
      "\n",
      "fitfunc_vec = np.vectorize(fitfunc) #vectorize so you can use func with array\n",
      "\n",
      "def fitfunc_vec_self(x,p):\n",
      "  y = np.zeros(x.shape)\n",
      "  for i in range(len(y)):\n",
      "    y[i]=fitfunc(x[i],p)\n",
      "  return y\n",
      "\n",
      "\n",
      "x=np.arange(1,10)\n",
      "y=fitfunc_vec_self(x,6)+0.1*np.random.randn(len(x))\n",
      "print type(x),type(y)\n",
      "popt, pcov = so.curve_fit(fitfunc_vec_self, x, y) #fitting routine that gives error\n",
      "print popt\n",
      "print pcov"
     ],
     "language": "python",
     "metadata": {},
     "outputs": [
      {
       "output_type": "stream",
       "stream": "stdout",
       "text": [
        "<type 'numpy.ndarray'> <type 'numpy.ndarray'>\n",
        "[ 5.93970948]\n",
        "[[ 0.00085501]]\n"
       ]
      }
     ],
     "prompt_number": 29
    },
    {
     "cell_type": "code",
     "collapsed": false,
     "input": [
      "#so.curve_fit?"
     ],
     "language": "python",
     "metadata": {},
     "outputs": [],
     "prompt_number": 30
    },
    {
     "cell_type": "code",
     "collapsed": false,
     "input": [
      "plt.plot(x,y)"
     ],
     "language": "python",
     "metadata": {},
     "outputs": [
      {
       "metadata": {},
       "output_type": "pyout",
       "prompt_number": 31,
       "text": [
        "[<matplotlib.lines.Line2D at 0x7f6bbb8c9c90>]"
       ]
      },
      {
       "metadata": {},
       "output_type": "display_data",
       "png": "[encoded data removed]",
       "text": [
        "<matplotlib.figure.Figure at 0x7f6bbb8d4f10>"
       ]
      }
     ],
     "prompt_number": 31
    },
    {
     "cell_type": "code",
     "collapsed": false,
     "input": [
      "import scipy.optimize as so\n",
      "\n",
      "def create_data(x,a,b,c,d):#,d,p):\n",
      "    y = np.zeros(x.shape)\n",
      "    for i in range(len(y)):\n",
      "        y[i]=fit_powerLaw(x[i],a,b,c,d)#,d,p)\n",
      "        if y[i]<0:\n",
      "            y[i] = 0\n",
      "        #print i, x[i],y[i]\n",
      "    return y   \n",
      "\n",
      "def fit_powerLaw(x,a,b,c,d):#,d,p):\n",
      "    if x>a-0.05:\n",
      "        return c*(((x-a)**b)/(1+(x-a)**b))-d\n",
      "    else:\n",
      "        return 0\n",
      "    \n",
      "xs = np.arange(1,10,0.1)   \n",
      "\n",
      "fvec = np.vectorize(fit_powerLaw)\n",
      "yobs = create_data(xs,1.,1.,2.4,1)+0.008*np.random.randn(len(xs))\n",
      "plt.scatter(xs,yobs,marker='.')\n",
      "#print yest"
     ],
     "language": "python",
     "metadata": {},
     "outputs": [
      {
       "metadata": {},
       "output_type": "pyout",
       "prompt_number": 32,
       "text": [
        "<matplotlib.collections.PathCollection at 0x7f6bbb826650>"
       ]
      },
      {
       "metadata": {},
       "output_type": "display_data",
       "png": "[encoded data removed]",
       "text": [
        "<matplotlib.figure.Figure at 0x7f6bbbfaf910>"
       ]
      }
     ],
     "prompt_number": 32
    },
    {
     "cell_type": "code",
     "collapsed": false,
     "input": [
      "pinit = [1.,1.,1.2,2.]\n",
      "popt, pcov = so.curve_fit(create_data, xs, yobs) #,p0=pinit) #fitting routine that gives error\n",
      "print popt\n",
      "yest = create_data(xs,*popt)"
     ],
     "language": "python",
     "metadata": {},
     "outputs": [
      {
       "output_type": "stream",
       "stream": "stdout",
       "text": [
        "[ 1.  1.  1.  1.]\n"
       ]
      }
     ],
     "prompt_number": 33
    },
    {
     "cell_type": "code",
     "collapsed": false,
     "input": [
      "plt.scatter(xs,yobs,marker='.',alpha=0.2,color='r')\n",
      "plt.plot(xs,yest,lw=2,alpha=0.48)"
     ],
     "language": "python",
     "metadata": {},
     "outputs": [
      {
       "metadata": {},
       "output_type": "pyout",
       "prompt_number": 34,
       "text": [
        "[<matplotlib.lines.Line2D at 0x7f6bbb8a4d10>]"
       ]
      },
      {
       "metadata": {},
       "output_type": "display_data",
       "png": "[encoded data removed]",
       "text": [
        "<matplotlib.figure.Figure at 0x7f6bbb8a4f50>"
       ]
      }
     ],
     "prompt_number": 34
    },
    {
     "cell_type": "code",
     "collapsed": false,
     "input": [],
     "language": "python",
     "metadata": {},
     "outputs": [],
     "prompt_number": 34
    },
    {
     "cell_type": "markdown",
     "metadata": {},
     "source": [
      "## Testing with code in run_analysis.py - NOT YET IMPLEMENTED"
     ]
    },
    {
     "cell_type": "code",
     "collapsed": false,
     "input": [
      "import run_analysis\n",
      "reload(run_analysis)\n",
      "expPlot = run_analysis.ExperimentPlotter()"
     ],
     "language": "python",
     "metadata": {},
     "outputs": [
      {
       "output_type": "stream",
       "stream": "stdout",
       "text": [
        "jet <type 'str'>\n",
        "--->  jet <type 'str'>\n"
       ]
      }
     ],
     "prompt_number": 200
    },
    {
     "cell_type": "code",
     "collapsed": false,
     "input": [
      "pguess = expPlot._get_guesstimate(xs,yobs,'_power_law')\n",
      "print pguess"
     ],
     "language": "python",
     "metadata": {},
     "outputs": [
      {
       "output_type": "stream",
       "stream": "stdout",
       "text": [
        "[0.7999999999999996, 1.0, 1.1493211303199571, 0]\n"
       ]
      }
     ],
     "prompt_number": 201
    },
    {
     "cell_type": "code",
     "collapsed": false,
     "input": [
      "%%capture\n",
      "poly,popt_curve,pname,fittedxs = expPlot._fit_curve(xs,yobs,pguess,'_power_law')\n",
      "#print popt_curve"
     ],
     "language": "python",
     "metadata": {},
     "outputs": [
      {
       "ename": "IndexError",
       "evalue": "index 49 is out of bounds for axis 1 with size 21",
       "output_type": "pyerr",
       "traceback": [
        "\u001b[1;31m---------------------------------------------------------------------------\u001b[0m\n\u001b[1;31mIndexError\u001b[0m                                Traceback (most recent call last)",
        "\u001b[1;32m<ipython-input-202-4895884496bb>\u001b[0m in \u001b[0;36m<module>\u001b[1;34m()\u001b[0m\n\u001b[1;32m----> 1\u001b[1;33m \u001b[0mpoly\u001b[0m\u001b[1;33m,\u001b[0m\u001b[0mpopt_curve\u001b[0m\u001b[1;33m,\u001b[0m\u001b[0mpname\u001b[0m\u001b[1;33m,\u001b[0m\u001b[0mfittedxs\u001b[0m \u001b[1;33m=\u001b[0m \u001b[0mexpPlot\u001b[0m\u001b[1;33m.\u001b[0m\u001b[0m_fit_curve\u001b[0m\u001b[1;33m(\u001b[0m\u001b[0mxs\u001b[0m\u001b[1;33m,\u001b[0m\u001b[0myobs\u001b[0m\u001b[1;33m,\u001b[0m\u001b[0mpguess\u001b[0m\u001b[1;33m,\u001b[0m\u001b[1;34m'_power_law'\u001b[0m\u001b[1;33m)\u001b[0m\u001b[1;33m\u001b[0m\u001b[0m\n\u001b[0m\u001b[0;32m      2\u001b[0m \u001b[1;31m#print popt_curve\u001b[0m\u001b[1;33m\u001b[0m\u001b[1;33m\u001b[0m\u001b[0m\n",
        "\u001b[1;32m/home/sjarvis1/workspace/co_optogenetics/src/run_analysis.pyc\u001b[0m in \u001b[0;36m_fit_curve\u001b[1;34m(self, xvals, yvals, p0, polyfn)\u001b[0m\n\u001b[0;32m    684\u001b[0m                 \u001b[1;31m#xs = xvals[yvals.nonzero()]\u001b[0m\u001b[1;33m\u001b[0m\u001b[1;33m\u001b[0m\u001b[0m\n\u001b[0;32m    685\u001b[0m                 \u001b[1;31m#ys = yvals[yvals.nonzero()]\u001b[0m\u001b[1;33m\u001b[0m\u001b[1;33m\u001b[0m\u001b[0m\n\u001b[1;32m--> 686\u001b[1;33m                 \u001b[0mxs\u001b[0m \u001b[1;33m=\u001b[0m \u001b[0mxvals\u001b[0m\u001b[1;33m[\u001b[0m\u001b[0mnp\u001b[0m\u001b[1;33m.\u001b[0m\u001b[0mwhere\u001b[0m\u001b[1;33m(\u001b[0m\u001b[0myvals\u001b[0m\u001b[1;33m>\u001b[0m\u001b[1;36m1\u001b[0m\u001b[1;33m)\u001b[0m\u001b[1;33m]\u001b[0m\u001b[1;33m\u001b[0m\u001b[0m\n\u001b[0m\u001b[0;32m    687\u001b[0m                 \u001b[0mys\u001b[0m \u001b[1;33m=\u001b[0m \u001b[0myvals\u001b[0m\u001b[1;33m[\u001b[0m\u001b[0mnp\u001b[0m\u001b[1;33m.\u001b[0m\u001b[0mwhere\u001b[0m\u001b[1;33m(\u001b[0m\u001b[0myvals\u001b[0m\u001b[1;33m>\u001b[0m\u001b[1;36m1\u001b[0m\u001b[1;33m)\u001b[0m\u001b[1;33m]\u001b[0m\u001b[1;33m\u001b[0m\u001b[0m\n\u001b[0;32m    688\u001b[0m                 \u001b[1;32mprint\u001b[0m \u001b[1;34m\"we had ------------------------------\"\u001b[0m\u001b[1;33m\u001b[0m\u001b[0m\n",
        "\u001b[1;31mIndexError\u001b[0m: index 49 is out of bounds for axis 1 with size 21"
       ]
      }
     ],
     "prompt_number": 202
    },
    {
     "cell_type": "code",
     "collapsed": false,
     "input": [
      "%%capture\n",
      "fitted = poly(xs,*popt_curve) # [0],popt_curve[1],popt_curve[2],popt_curve[3])\n",
      "plt.plot(xs,fitted)\n",
      "plt.scatter(xs,yobs,marker='.',alpha=0.2,color='r')"
     ],
     "language": "python",
     "metadata": {},
     "outputs": [
      {
       "ename": "ValueError",
       "evalue": "x and y must be the same size",
       "output_type": "pyerr",
       "traceback": [
        "\u001b[1;31m---------------------------------------------------------------------------\u001b[0m\n\u001b[1;31mValueError\u001b[0m                                Traceback (most recent call last)",
        "\u001b[1;32m<ipython-input-203-b5fee430ab0b>\u001b[0m in \u001b[0;36m<module>\u001b[1;34m()\u001b[0m\n\u001b[0;32m      1\u001b[0m \u001b[0mfitted\u001b[0m \u001b[1;33m=\u001b[0m \u001b[0mpoly\u001b[0m\u001b[1;33m(\u001b[0m\u001b[0mxs\u001b[0m\u001b[1;33m,\u001b[0m\u001b[1;33m*\u001b[0m\u001b[0mpopt_curve\u001b[0m\u001b[1;33m)\u001b[0m \u001b[1;31m# [0],popt_curve[1],popt_curve[2],popt_curve[3])\u001b[0m\u001b[1;33m\u001b[0m\u001b[0m\n\u001b[0;32m      2\u001b[0m \u001b[0mplt\u001b[0m\u001b[1;33m.\u001b[0m\u001b[0mplot\u001b[0m\u001b[1;33m(\u001b[0m\u001b[0mxs\u001b[0m\u001b[1;33m,\u001b[0m\u001b[0mfitted\u001b[0m\u001b[1;33m)\u001b[0m\u001b[1;33m\u001b[0m\u001b[0m\n\u001b[1;32m----> 3\u001b[1;33m \u001b[0mplt\u001b[0m\u001b[1;33m.\u001b[0m\u001b[0mscatter\u001b[0m\u001b[1;33m(\u001b[0m\u001b[0mxs\u001b[0m\u001b[1;33m,\u001b[0m\u001b[0myobs\u001b[0m\u001b[1;33m,\u001b[0m\u001b[0mmarker\u001b[0m\u001b[1;33m=\u001b[0m\u001b[1;34m'.'\u001b[0m\u001b[1;33m,\u001b[0m\u001b[0malpha\u001b[0m\u001b[1;33m=\u001b[0m\u001b[1;36m0.2\u001b[0m\u001b[1;33m,\u001b[0m\u001b[0mcolor\u001b[0m\u001b[1;33m=\u001b[0m\u001b[1;34m'r'\u001b[0m\u001b[1;33m)\u001b[0m\u001b[1;33m\u001b[0m\u001b[0m\n\u001b[0m",
        "\u001b[1;32m/usr/lib/pymodules/python2.7/matplotlib/pyplot.pyc\u001b[0m in \u001b[0;36mscatter\u001b[1;34m(x, y, s, c, marker, cmap, norm, vmin, vmax, alpha, linewidths, verts, hold, **kwargs)\u001b[0m\n\u001b[0;32m   3085\u001b[0m         ret = ax.scatter(x, y, s=s, c=c, marker=marker, cmap=cmap, norm=norm,\n\u001b[0;32m   3086\u001b[0m                          \u001b[0mvmin\u001b[0m\u001b[1;33m=\u001b[0m\u001b[0mvmin\u001b[0m\u001b[1;33m,\u001b[0m \u001b[0mvmax\u001b[0m\u001b[1;33m=\u001b[0m\u001b[0mvmax\u001b[0m\u001b[1;33m,\u001b[0m \u001b[0malpha\u001b[0m\u001b[1;33m=\u001b[0m\u001b[0malpha\u001b[0m\u001b[1;33m,\u001b[0m\u001b[1;33m\u001b[0m\u001b[0m\n\u001b[1;32m-> 3087\u001b[1;33m                          linewidths=linewidths, verts=verts, **kwargs)\n\u001b[0m\u001b[0;32m   3088\u001b[0m         \u001b[0mdraw_if_interactive\u001b[0m\u001b[1;33m(\u001b[0m\u001b[1;33m)\u001b[0m\u001b[1;33m\u001b[0m\u001b[0m\n\u001b[0;32m   3089\u001b[0m     \u001b[1;32mfinally\u001b[0m\u001b[1;33m:\u001b[0m\u001b[1;33m\u001b[0m\u001b[0m\n",
        "\u001b[1;32m/usr/lib/pymodules/python2.7/matplotlib/axes.pyc\u001b[0m in \u001b[0;36mscatter\u001b[1;34m(self, x, y, s, c, marker, cmap, norm, vmin, vmax, alpha, linewidths, verts, **kwargs)\u001b[0m\n\u001b[0;32m   6254\u001b[0m         \u001b[0my\u001b[0m \u001b[1;33m=\u001b[0m \u001b[0mnp\u001b[0m\u001b[1;33m.\u001b[0m\u001b[0mma\u001b[0m\u001b[1;33m.\u001b[0m\u001b[0mravel\u001b[0m\u001b[1;33m(\u001b[0m\u001b[0my\u001b[0m\u001b[1;33m)\u001b[0m\u001b[1;33m\u001b[0m\u001b[0m\n\u001b[0;32m   6255\u001b[0m         \u001b[1;32mif\u001b[0m \u001b[0mx\u001b[0m\u001b[1;33m.\u001b[0m\u001b[0msize\u001b[0m \u001b[1;33m!=\u001b[0m \u001b[0my\u001b[0m\u001b[1;33m.\u001b[0m\u001b[0msize\u001b[0m\u001b[1;33m:\u001b[0m\u001b[1;33m\u001b[0m\u001b[0m\n\u001b[1;32m-> 6256\u001b[1;33m             \u001b[1;32mraise\u001b[0m \u001b[0mValueError\u001b[0m\u001b[1;33m(\u001b[0m\u001b[1;34m\"x and y must be the same size\"\u001b[0m\u001b[1;33m)\u001b[0m\u001b[1;33m\u001b[0m\u001b[0m\n\u001b[0m\u001b[0;32m   6257\u001b[0m \u001b[1;33m\u001b[0m\u001b[0m\n\u001b[0;32m   6258\u001b[0m         \u001b[0ms\u001b[0m \u001b[1;33m=\u001b[0m \u001b[0mnp\u001b[0m\u001b[1;33m.\u001b[0m\u001b[0mma\u001b[0m\u001b[1;33m.\u001b[0m\u001b[0mravel\u001b[0m\u001b[1;33m(\u001b[0m\u001b[0ms\u001b[0m\u001b[1;33m)\u001b[0m  \u001b[1;31m# This doesn't have to match x, y in size.\u001b[0m\u001b[1;33m\u001b[0m\u001b[0m\n",
        "\u001b[1;31mValueError\u001b[0m: x and y must be the same size"
       ]
      },
      {
       "metadata": {},
       "output_type": "display_data",
       "png": "[encoded data removed]",
       "text": [
        "<matplotlib.figure.Figure at 0x7f6bb3a52f50>"
       ]
      }
     ],
     "prompt_number": 203
    },
    {
     "cell_type": "code",
     "collapsed": false,
     "input": [
      "aa = np.array([0.,0.,0.,1.3,5.])\n",
      "nzids = aa.nonzero()\n",
      "print aa[nzids]\n",
      "print aa[aa.nonzero()]"
     ],
     "language": "python",
     "metadata": {},
     "outputs": [
      {
       "output_type": "stream",
       "stream": "stdout",
       "text": [
        "[ 1.3  5. ]\n",
        "[ 1.3  5. ]\n"
       ]
      }
     ],
     "prompt_number": 175
    },
    {
     "cell_type": "code",
     "collapsed": false,
     "input": [
      "aa"
     ],
     "language": "python",
     "metadata": {},
     "outputs": [
      {
       "metadata": {},
       "output_type": "pyout",
       "prompt_number": 176,
       "text": [
        "array([ 0. ,  0. ,  0. ,  1.3,  5. ])"
       ]
      }
     ],
     "prompt_number": 176
    },
    {
     "cell_type": "code",
     "collapsed": false,
     "input": [
      "\n",
      "# Real data\n",
      "xss = np.array([ 0.6,  0.8,  1. ,  1.2,  1.4,  1.6,  1.8,  2.,   2.2,  2.4,  2.6 , 2.8,  3. ])\n",
      "yss = np.array([  1.,   9.,  15.,  20.,  23.,  26.,  28.,  30.,  32.,  33.,  34.,  36. , 38.])\n",
      "\n",
      "xss = np.array([-2.00000000e-01,  -2.22044605e-16 ,  2.00000000e-01 ,  4.00000000e-01, 6.00000000e-01,   8.00000000e-01 ,  1.00000000e+00,   1.20000000e+00,    1.40000000e+00,   1.60000000e+00,   1.80000000e+00 ,  2.00000000e+00,   2.20000000e+00,   2.40000000e+00 ,  2.60000000e+00,   2.80000000e+00,    3.00000000e+00])\n",
      "yss = np.array([  1. ,  4.,  34. , 47. , 54. , 59.,  63.,  66. , 68.,  69.,  71.,  72.,  73.,  75.,  76., 77.,  78.])\n",
      "\n",
      "xss = np.array([  -2.22044605e-16 ,  2.00000000e-01 ,  4.00000000e-01, 6.00000000e-01,   8.00000000e-01 ,  1.00000000e+00,   1.20000000e+00,    1.40000000e+00,   1.60000000e+00,   1.80000000e+00 ,  2.00000000e+00,   2.20000000e+00,   2.40000000e+00 ,  2.60000000e+00,   2.80000000e+00,    3.00000000e+00])\n",
      "yss = np.array([    4.,  34. , 47. , 54. , 59.,  63.,  66. , 68.,  69.,  71.,  72.,  73.,  75.,  76., 77.,  78.])\n",
      "\n",
      "\n",
      "xss = np.array([   2.00000000e-01 ,  4.00000000e-01, 6.00000000e-01,   8.00000000e-01 ,  1.00000000e+00,   1.20000000e+00,    1.40000000e+00,   1.60000000e+00,   1.80000000e+00 ,  2.00000000e+00,   2.20000000e+00,   2.40000000e+00 ,  2.60000000e+00,   2.80000000e+00,    3.00000000e+00])\n",
      "yss = np.array([   34. , 47. , 54. , 59.,  63.,  66. , 68.,  69.,  71.,  72.,  73.,  75.,  76., 77.,  78.])\n",
      "xss = xss+1.3\n",
      "\n",
      "buffer = np.zeros(4)\n",
      "xfull = np.concatenate(([0.7,0.9,1.1,1.3],xss))\n",
      "yfull = np.concatenate((buffer,yss))\n",
      "print xfull\n",
      "xhigh = np.linspace(0.7,4.3,num=51)"
     ],
     "language": "python",
     "metadata": {},
     "outputs": [
      {
       "output_type": "stream",
       "stream": "stdout",
       "text": [
        "[ 0.7  0.9  1.1  1.3  1.5  1.7  1.9  2.1  2.3  2.5  2.7  2.9  3.1  3.3  3.5\n",
        "  3.7  3.9  4.1  4.3]\n"
       ]
      }
     ],
     "prompt_number": 188
    },
    {
     "cell_type": "code",
     "collapsed": false,
     "input": [
      "%%capture\n",
      "pguess = expPlot._get_guesstimate(xss,yss,'_power_law')\n",
      "print pguess"
     ],
     "language": "python",
     "metadata": {},
     "outputs": [],
     "prompt_number": 189
    },
    {
     "cell_type": "code",
     "collapsed": false,
     "input": [
      "%%capture\n",
      "pguess2= [-0.20000000000000001, 1.0, 78.0, -19.5]\n",
      "poly2,popt_curve2,pname2,xfitted = expPlot._fit_curve(xss,yss,pguess2,'_power_law')\n"
     ],
     "language": "python",
     "metadata": {},
     "outputs": [],
     "prompt_number": 190
    },
    {
     "cell_type": "code",
     "collapsed": false,
     "input": [
      "#xss_up = np.linspace(xss[0],xss[-1],num=len(xss)*4)\n",
      "#fitted = poly(xss_up,*popt_curve2) \n",
      "fitted = poly(xss,*popt_curve2) \n",
      "#fitted_guess = poly(xss,*pguess2)\n",
      "print \"full --> \",popt_curve2\n",
      "fitted_full = poly(xfull,*popt_curve2) \n",
      "fitted_high = poly(xhigh,*popt_curve2) \n",
      "print fitted_full\n",
      "print poly\n",
      "plt.plot(xss,fitted,label='fitted',color='b',lw=2,alpha=0.5)\n",
      "plt.plot(xss,fitted_guess,label='guess',color='g',lw=2,alpha=0.5)\n",
      "plt.plot(xfull,fitted_full,label='full',color='k',lw=2,alpha=0.5)\n",
      "plt.plot(xhigh,fitted_high,label='high',color='r',lw=2,alpha=0.5)\n",
      "plt.scatter(xss,yss,marker='o',alpha=0.8,color='r',label='data')\n",
      "plt.legend(loc=4)"
     ],
     "language": "python",
     "metadata": {},
     "outputs": [
      {
       "output_type": "stream",
       "stream": "stdout",
       "text": [
        "i == 0 x[i] -->  1.5  --- > num = 0.053749, denom = 1.05375, d = -30.3987\n",
        "i == 1 x[i] -->  1.7  --- > num = 0.325081, denom = 1.32508, d = -30.3987\n",
        "i == 2 x[i] -->  1.9  --- > num = 0.525354, denom = 1.52535, d = -30.3987\n",
        "i == 3 x[i] -->  2.1  --- > num = 0.701274, denom = 1.70127, d = -30.3987\n",
        "i == 4 x[i] -->  2.3  --- > num = 0.862778, denom = 1.86278, d = -30.3987\n",
        "i == 5 x[i] -->  2.5  --- > num = 1.01426, denom = 2.01426, d = -30.3987\n",
        "i == 6 x[i] -->  2.7  --- > num = 1.15817, denom = 2.15817, d = -30.3987\n",
        "i == 7 x[i] -->  2.9  --- > num = 1.29606, denom = 2.29606, d = -30.3987\n",
        "i == 8 x[i] -->  3.1  --- > num = 1.42897, denom = 2.42897, d = -30.3987\n",
        "i == 9 x[i] -->  3.3  --- > num = 1.55769, denom = 2.55769, d = -30.3987\n",
        "i == 10 x[i] -->  3.5  --- > num = 1.68277, denom = 2.68277, d = -30.3987\n",
        "i == 11 x[i] -->  3.7  --- > num = 1.80468, denom = 2.80468, d = -30.3987\n",
        "i == 12 x[i] -->  3.9  --- > num = 1.92377, denom = 2.92377, d = -30.3987\n",
        "i == 13 x[i] -->  4.1  --- > num = 2.04032, denom = 3.04032, d = -30.3987\n",
        "i == 14 x[i] -->  4.3  --- > num = 2.15459, denom = 3.15459, d = -30.3987\n",
        "full -->  [  1.48069702   0.74057822  69.2051917  -30.3986732 ]\n",
        "i == 0 x[i] -->  0.7 i == 1 x[i] -->  0.9 i == 2 x[i] -->  1.1 i == 3 x[i] -->  1.3 i == 4 x[i] -->  1.5  --- > num = 0.053749, denom = 1.05375, d = -30.3987\n",
        "i == 5 x[i] -->  1.7  --- > num = 0.325081, denom = 1.32508, d = -30.3987\n",
        "i == 6 x[i] -->  1.9  --- > num = 0.525354, denom = 1.52535, d = -30.3987\n",
        "i == 7 x[i] -->  2.1  --- > num = 0.701274, denom = 1.70127, d = -30.3987\n",
        "i == 8 x[i] -->  2.3  --- > num = 0.862778, denom = 1.86278, d = -30.3987\n",
        "i == 9 x[i] -->  2.5  --- > num = 1.01426, denom = 2.01426, d = -30.3987\n",
        "i == 10 x[i] -->  2.7  --- > num = 1.15817, denom = 2.15817, d = -30.3987\n",
        "i == 11 x[i] -->  2.9  --- > num = 1.29606, denom = 2.29606, d = -30.3987\n",
        "i == 12 x[i] -->  3.1  --- > num = 1.42897, denom = 2.42897, d = -30.3987\n",
        "i == 13 x[i] -->  3.3  --- > num = 1.55769, denom = 2.55769, d = -30.3987\n",
        "i == 14 x[i] -->  3.5  --- > num = 1.68277, denom = 2.68277, d = -30.3987\n",
        "i == 15 x[i] -->  3.7  --- > num = 1.80468, denom = 2.80468, d = -30.3987\n",
        "i == 16 x[i] -->  3.9  --- > num = 1.92377, denom = 2.92377, d = -30.3987\n",
        "i == 17 x[i] -->  4.1  --- > num = 2.04032, denom = 3.04032, d = -30.3987\n",
        "i == 18 x[i] -->  4.3  --- > num = 2.15459, denom = 3.15459, d = -30.3987\n",
        "i == 0 x[i] -->  0.7 i == 1 x[i] -->  0.772 i == 2 x[i] -->  0.844 i == 3 x[i] -->  0.916 i == 4 x[i] -->  0.988 i == 5 x[i] -->  1.06 i == 6 x[i] -->  1.132 i == 7 x[i] -->  1.204 i == 8 x[i] -->  1.276 i == 9 x[i] -->  1.348 i == 10 x[i] -->  1.42 i == 11 x[i] -->  1.492  --- > num = 0.0361607, denom = 1.03616, d = -30.3987\n",
        "i == 12 x[i] -->  1.564  --- > num = 0.158732, denom = 1.15873, d = -30.3987\n",
        "i == 13 x[i] -->  1.636  --- > num = 0.251771, denom = 1.25177, d = -30.3987\n",
        "i == 14 x[i] -->  1.708  --- > num = 0.333823, denom = 1.33382, d = -30.3987\n",
        "i == 15 x[i] -->  1.78  --- > num = 0.409279, denom = 1.40928, d = -30.3987\n",
        "i == 16 x[i] -->  1.852  --- > num = 0.48012, denom = 1.48012, d = -30.3987\n",
        "i == 17 x[i] -->  1.924  --- > num = 0.547462, denom = 1.54746, d = -30.3987\n",
        "i == 18 x[i] -->  1.996  --- > num = 0.612012, denom = 1.61201, d = -30.3987\n",
        "i == 19 x[i] -->  2.068  --- > num = 0.674255, denom = 1.67426, d = -30.3987\n",
        "i == 20 x[i] -->  2.14  --- > num = 0.734545, denom = 1.73454, d = -30.3987\n",
        "i == 21 x[i] -->  2.212  --- > num = 0.793147, denom = 1.79315, d = -30.3987\n",
        "i == 22 x[i] -->  2.284  --- > num = 0.850268, denom = 1.85027, d = -30.3987\n",
        "i == 23 x[i] -->  2.356  --- > num = 0.906074, denom = 1.90607, d = -30.3987\n",
        "i == 24 x[i] -->  2.428  --- > num = 0.960701, denom = 1.9607, d = -30.3987\n",
        "i == 25 x[i] -->  2.5  --- > num = 1.01426, denom = 2.01426, d = -30.3987\n",
        "i == 26 x[i] -->  2.572  --- > num = 1.06685, denom = 2.06685, d = -30.3987\n",
        "i == 27 x[i] -->  2.644  --- > num = 1.11854, denom = 2.11854, d = -30.3987\n",
        "i == 28 x[i] -->  2.716  --- > num = 1.16941, denom = 2.16941, d = -30.3987\n",
        "i == 29 x[i] -->  2.788  --- > num = 1.21951, denom = 2.21951, d = -30.3987\n",
        "i == 30 x[i] -->  2.86  --- > num = 1.2689, denom = 2.2689, d = -30.3987\n",
        "i == 31 x[i] -->  2.932  --- > num = 1.31763, denom = 2.31763, d = -30.3987\n",
        "i == 32 x[i] -->  3.004  --- > num = 1.36574, denom = 2.36574, d = -30.3987\n",
        "i == 33 x[i] -->  3.076  --- > num = 1.41326, denom = 2.41326, d = -30.3987\n",
        "i == 34 x[i] -->  3.148  --- > num = 1.46022, denom = 2.46022, d = -30.3987\n",
        "i == 35 x[i] -->  3.22  --- > num = 1.50666, denom = 2.50666, d = -30.3987\n",
        "i == 36 x[i] -->  3.292  --- > num = 1.55261, denom = 2.55261, d = -30.3987\n",
        "i == 37 x[i] -->  3.364  --- > num = 1.59809, denom = 2.59809, d = -30.3987\n",
        "i == 38 x[i] -->  3.436  --- > num = 1.64311, denom = 2.64311, d = -30.3987\n",
        "i == 39 x[i] -->  3.508  --- > num = 1.68771, denom = 2.68771, d = -30.3987\n",
        "i == 40 x[i] -->  3.58  --- > num = 1.7319, denom = 2.7319, d = -30.3987\n",
        "i == 41 x[i] -->  3.652  --- > num = 1.77569, denom = 2.77569, d = -30.3987\n",
        "i == 42 x[i] -->  3.724  --- > num = 1.81911, denom = 2.81911, d = -30.3987\n",
        "i == 43 x[i] -->  3.796  --- > num = 1.86218, denom = 2.86218, d = -30.3987\n",
        "i == 44 x[i] -->  3.868  --- > num = 1.90489, denom = 2.90489, d = -30.3987\n",
        "i == 45 x[i] -->  3.94  --- > num = 1.94727, denom = 2.94727, d = -30.3987\n",
        "i == 46 x[i] -->  4.012  --- > num = 1.98933, denom = 2.98933, d = -30.3987\n",
        "i == 47 x[i] -->  4.084  --- > num = 2.03109, denom = 3.03109, d = -30.3987\n",
        "i == 48 x[i] -->  4.156  --- > num = 2.07254, denom = 3.07254, d = -30.3987\n",
        "i == 49 x[i] -->  4.228  --- > num = 2.11371, denom = 3.11371, d = -30.3987\n",
        "i == 50 x[i] -->  4.3  --- > num = 2.15459, denom = 3.15459, d = -30.3987\n",
        "[  0.           0.           0.           0.          33.92865266\n",
        "  47.37673437  54.23395657  58.92542435  62.45225412  65.24623651\n",
        "  67.53726031  69.46295625  71.11231369  72.54613259  73.8077249\n",
        "  74.92897703  75.93399898  76.8414291   77.66594799]\n",
        "<bound method ExperimentPlotter._power_law of <run_analysis.ExperimentPlotter instance at 0x7f6bb86e5d88>>\n"
       ]
      },
      {
       "metadata": {},
       "output_type": "pyout",
       "prompt_number": 193,
       "text": [
        "<matplotlib.legend.Legend at 0x7f6bb36629d0>"
       ]
      },
      {
       "metadata": {},
       "output_type": "display_data",
       "png": "[encoded data removed]",
       "text": [
        "<matplotlib.figure.Figure at 0x7f6bb3960290>"
       ]
      }
     ],
     "prompt_number": 193
    },
    {
     "cell_type": "code",
     "collapsed": false,
     "input": [
      "print xfitted\n",
      "fitted_xvals = np.linspace(xfitted[0], xfitted[-1],num=len(xss)*2)\n",
      "fitted_svals = np.asarray(fitted_xvals).ravel() \n",
      "myfitted = poly(fitted_svals,*popt_curve2) \n",
      "print len(fitted_svals), len(myfitted)\n",
      "print fitted_svals.shape, myfitted.shape\n",
      "\n",
      "plt.plot(xss,fitted,label='fitted',color='b',lw=2,alpha=0.5)\n",
      "plt.plot(fitted_svals,myfitted,label='better fit',color='g',lw=2,alpha=0.5)\n",
      "plt.scatter(xss,yss,marker='o',alpha=0.8,color='r',label='data')\n",
      "plt.legend(loc=4)\n"
     ],
     "language": "python",
     "metadata": {},
     "outputs": [
      {
       "output_type": "stream",
       "stream": "stdout",
       "text": [
        "[1.5, 4.2999999999999998]\n",
        "i == 0 x[i] -->  1.5 i == 1 x[i] -->  1.59655172414 i == 2 x[i] -->  1.69310344828 i == 3 x[i] -->  1.78965517241 i == 4 x[i] -->  1.88620689655 i == 5 x[i] -->  1.98275862069 i == 6 x[i] -->  2.07931034483 i == 7 x[i] -->  2.17586206897 i == 8 x[i] -->  2.2724137931 i == 9 x[i] -->  2.36896551724 i == 10 x[i] -->  2.46551724138 i == 11 x[i] -->  2.56206896552 i == 12 x[i] -->  2.65862068966 i == 13 x[i] -->  2.75517241379 i == 14 x[i] -->  2.85172413793 i == 15 x[i] -->  2.94827586207 i == 16 x[i] -->  3.04482758621 i == 17 x[i] -->  3.14137931034 i == 18 x[i] -->  3.23793103448 i == 19 x[i] -->  3.33448275862 i == 20 x[i] -->  3.43103448276 i == 21 x[i] -->  3.5275862069 i == 22 x[i] -->  3.62413793103 i == 23 x[i] -->  3.72068965517 i == 24 x[i] -->  3.81724137931 i == 25 x[i] -->  3.91379310345 i == 26 x[i] -->  4.01034482759 i == 27 x[i] -->  4.10689655172 i == 28 x[i] -->  4.20344827586 i == 29 x[i] -->  4.3 30 30\n",
        "(30,) (30,)\n"
       ]
      },
      {
       "metadata": {},
       "output_type": "pyout",
       "prompt_number": 170,
       "text": [
        "<matplotlib.legend.Legend at 0x7f6bb3f78f90>"
       ]
      },
      {
       "metadata": {},
       "output_type": "display_data",
       "png": "[encoded data removed]",
       "text": [
        "<matplotlib.figure.Figure at 0x7f6bb3fc8850>"
       ]
      }
     ],
     "prompt_number": 170
    },
    {
     "cell_type": "code",
     "collapsed": false,
     "input": [
      "def guess_d(a,b,c):\n",
      "    return c*((a**b)/(a**b+1))"
     ],
     "language": "python",
     "metadata": {},
     "outputs": [],
     "prompt_number": 70
    },
    {
     "cell_type": "code",
     "collapsed": false,
     "input": [
      "a,b,c = -0.20000000000000001, 1.0, 78.0\n",
      "d= guess_d(a,b,c)\n",
      "print d"
     ],
     "language": "python",
     "metadata": {},
     "outputs": [
      {
       "output_type": "stream",
       "stream": "stdout",
       "text": [
        "-19.5\n"
       ]
      }
     ],
     "prompt_number": 71
    },
    {
     "cell_type": "code",
     "collapsed": false,
     "input": [
      "fitted2 = poly(xss,*pguess2)\n",
      "plt.plot(xss,fitted2)\n",
      "plt.scatter(xss,yss,marker='.',alpha=0.2,color='r')"
     ],
     "language": "python",
     "metadata": {},
     "outputs": [
      {
       "metadata": {},
       "output_type": "pyout",
       "prompt_number": 72,
       "text": [
        "<matplotlib.collections.PathCollection at 0x7f6bbaf611d0>"
       ]
      },
      {
       "metadata": {},
       "output_type": "display_data",
       "png": "[encoded data removed]",
       "text": [
        "<matplotlib.figure.Figure at 0x7f6bbaf61190>"
       ]
      }
     ],
     "prompt_number": 72
    },
    {
     "cell_type": "code",
     "collapsed": false,
     "input": [
      "xss = np.array([-2.00000000e-01,  -2.22044605e-16 ,  2.00000000e-01 ,  4.00000000e-01, 6.00000000e-01,   8.00000000e-01 ,  1.00000000e+00,   1.20000000e+00,    1.40000000e+00,   1.60000000e+00,   1.80000000e+00 ,  2.00000000e+00,   2.20000000e+00,   2.40000000e+00 ,  2.60000000e+00,   2.80000000e+00,    3.00000000e+00])\n",
      "yss = np.array([  1. ,  4.,  34. , 47. , 54. , 59.,  63.,  66. , 68.,  69.,  71.,  72.,  73.,  75.,  76., 77.,  78.])"
     ],
     "language": "python",
     "metadata": {},
     "outputs": [],
     "prompt_number": 73
    },
    {
     "cell_type": "code",
     "collapsed": false,
     "input": [
      "yids = np.where(yss>1)\n",
      "print xss[yids]\n",
      "print yss[yids]"
     ],
     "language": "python",
     "metadata": {},
     "outputs": [
      {
       "output_type": "stream",
       "stream": "stdout",
       "text": [
        "[ -2.22044605e-16   2.00000000e-01   4.00000000e-01   6.00000000e-01\n",
        "   8.00000000e-01   1.00000000e+00   1.20000000e+00   1.40000000e+00\n",
        "   1.60000000e+00   1.80000000e+00   2.00000000e+00   2.20000000e+00\n",
        "   2.40000000e+00   2.60000000e+00   2.80000000e+00   3.00000000e+00]\n",
        "[  4.  34.  47.  54.  59.  63.  66.  68.  69.  71.  72.  73.  75.  76.  77.\n",
        "  78.]\n"
       ]
      }
     ],
     "prompt_number": 74
    },
    {
     "cell_type": "code",
     "collapsed": false,
     "input": [
      "xall = np.arange(-1.,3.,0.1)\n",
      "yall = poly(xall,*popt_curve2)\n",
      "print xall\n",
      "print yall"
     ],
     "language": "python",
     "metadata": {},
     "outputs": [
      {
       "output_type": "stream",
       "stream": "stdout",
       "text": [
        "[ -1.00000000e+00  -9.00000000e-01  -8.00000000e-01  -7.00000000e-01\n",
        "  -6.00000000e-01  -5.00000000e-01  -4.00000000e-01  -3.00000000e-01\n",
        "  -2.00000000e-01  -1.00000000e-01  -2.22044605e-16   1.00000000e-01\n",
        "   2.00000000e-01   3.00000000e-01   4.00000000e-01   5.00000000e-01\n",
        "   6.00000000e-01   7.00000000e-01   8.00000000e-01   9.00000000e-01\n",
        "   1.00000000e+00   1.10000000e+00   1.20000000e+00   1.30000000e+00\n",
        "   1.40000000e+00   1.50000000e+00   1.60000000e+00   1.70000000e+00\n",
        "   1.80000000e+00   1.90000000e+00   2.00000000e+00   2.10000000e+00\n",
        "   2.20000000e+00   2.30000000e+00   2.40000000e+00   2.50000000e+00\n",
        "   2.60000000e+00   2.70000000e+00   2.80000000e+00   2.90000000e+00]\n",
        "[  0.           0.           0.           0.           0.           0.           0.\n",
        "   0.           0.           0.           0.           0.           0.           0.\n",
        "   0.                  nan          nan          nan          nan\n",
        "          nan          nan          nan          nan          nan\n",
        "          nan  33.9286584   42.27225964  47.37673692  51.1870256\n",
        "  54.23395945  56.76632284  58.92542316  60.80056543  62.45224948\n",
        "  63.92353511  65.24622986  66.44452398  67.537253    68.53937149\n",
        "  69.46294938]\n"
       ]
      }
     ],
     "prompt_number": 94
    },
    {
     "cell_type": "markdown",
     "metadata": {},
     "source": [
      "## Data for stellate, irr = 0.07, factor=2\n"
     ]
    },
    {
     "cell_type": "code",
     "collapsed": false,
     "input": [
      "import run_analysis\n",
      "reload(run_analysis)\n",
      "expPlot = run_analysis.ExperimentPlotter()\n",
      "xs = np.array([-1.0, -0.80000000000000004, -0.60000000000000009, -0.40000000000000013, -0.20000000000000018, -2.2204460492503131e-16, 0.19999999999999973, 0.39999999999999969, 0.59999999999999964, 0.7999999999999996, 0.99999999999999956, 1.1999999999999993, 1.3999999999999995, 1.5999999999999996, 1.7999999999999994, 1.9999999999999991, 2.1999999999999993, 2.3999999999999995, 2.5999999999999992, 2.7999999999999989, 2.9999999999999991])\n",
      "ys = np.array([0, 0, 0, 0, 0.0, 0.0, 0.0, 0.0, 0.0, 0.0, 0.0, 0.0, 0.0, 0.0, 1.0, 2.0, 3.0, 4.0, 6.0, 7.0, 10.0])"
     ],
     "language": "python",
     "metadata": {},
     "outputs": [
      {
       "output_type": "stream",
       "stream": "stdout",
       "text": [
        "jet <type 'str'>\n",
        "--->  jet <type 'str'>\n"
       ]
      }
     ],
     "prompt_number": 271
    },
    {
     "cell_type": "code",
     "collapsed": false,
     "input": [
      "plt.scatter(xs,ys,marker='.',alpha=0.2,color='r')"
     ],
     "language": "python",
     "metadata": {},
     "outputs": [
      {
       "metadata": {},
       "output_type": "pyout",
       "prompt_number": 272,
       "text": [
        "<matplotlib.collections.PathCollection at 0x7f6bb2fda990>"
       ]
      },
      {
       "metadata": {},
       "output_type": "display_data",
       "png": "[encoded data removed]",
       "text": [
        "<matplotlib.figure.Figure at 0x7f6bb2f281d0>"
       ]
      }
     ],
     "prompt_number": 272
    },
    {
     "cell_type": "code",
     "collapsed": false,
     "input": [
      "pguess = expPlot._get_guesstimate(xs,ys,'_power_law')\n",
      "print pguess\n",
      "poly2,popt_curve2,pname2,xfitted = expPlot._fit_curve(xs,ys,pguess,'_power_law')\n"
     ],
     "language": "python",
     "metadata": {},
     "outputs": [
      {
       "output_type": "stream",
       "stream": "stdout",
       "text": [
        "[1.7999999999999994, 1.0, 10.0, 0]\n",
        "we had ------------------------------\n",
        "[ -1.00000000e+00  -8.00000000e-01  -6.00000000e-01  -4.00000000e-01\n",
        "  -2.00000000e-01  -2.22044605e-16   2.00000000e-01   4.00000000e-01\n",
        "   6.00000000e-01   8.00000000e-01   1.00000000e+00   1.20000000e+00\n",
        "   1.40000000e+00   1.60000000e+00   1.80000000e+00   2.00000000e+00\n",
        "   2.20000000e+00   2.40000000e+00   2.60000000e+00   2.80000000e+00\n",
        "   3.00000000e+00]\n",
        "[  0.   0.   0.   0.   0.   0.   0.   0.   0.   0.   0.   0.   0.   0.   1.\n",
        "   2.   3.   4.   6.   7.  10.]\n",
        "---- and we now have -----------------------------------------------------\n",
        "[ 2.   2.2  2.4  2.6  2.8  3. ]\n",
        "[  2.   3.   4.   6.   7.  10.]\n",
        "so we have to fit :::::::::::::::::::::::::::::::::::::::::::\n",
        "[ 2.   2.2  2.4  2.6  2.8  3. ]\n",
        "[  2.   3.   4.   6.   7.  10.]\n",
        "[1.7999999999999994, 1.0, 10.0, 0]\n",
        "and we found ::::::::::::::::::::::::::::::::::::::\n",
        "[  1.67457019   2.14656374  13.82135277   0.        ]\n",
        "------------------------------------ Got to end of _fit_curve\n"
       ]
      }
     ],
     "prompt_number": 273
    },
    {
     "cell_type": "code",
     "collapsed": false,
     "input": [
      "%%capture\n",
      "fitted = poly2(xs,*popt_curve2) \n",
      "\n",
      "xhigh = np.linspace(-1.,3.,num=400)\n",
      "fitted_high = poly(xhigh,*popt_curve2) \n",
      "\n",
      "\n",
      "#xfull = np.linspace(\n",
      "plt.scatter(xs,ys,marker='.',alpha=0.2,color='r')\n",
      "#plt.plot(xs,fitted)\n",
      "plt.plot(xhigh,fitted_high,'r')\n",
      "plt.ylim(-10,80)"
     ],
     "language": "python",
     "metadata": {},
     "outputs": [
      {
       "metadata": {},
       "output_type": "pyout",
       "prompt_number": 280,
       "text": [
        "(-10, 80)"
       ]
      },
      {
       "metadata": {},
       "output_type": "display_data",
       "png": "[encoded data removed]",
       "text": [
        "<matplotlib.figure.Figure at 0x7f6bb29cdbd0>"
       ]
      }
     ],
     "prompt_number": 280
    },
    {
     "cell_type": "code",
     "collapsed": false,
     "input": [],
     "language": "python",
     "metadata": {},
     "outputs": []
    }
   ],
   "metadata": {}
  }
 ]
}