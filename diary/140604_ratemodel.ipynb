{
 "metadata": {
  "name": ""
 },
 "nbformat": 3,
 "nbformat_minor": 0,
 "worksheets": [
  {
   "cells": [
    {
     "cell_type": "heading",
     "level": 2,
     "metadata": {},
     "source": [
      "Firing rate models "
     ]
    },
    {
     "cell_type": "markdown",
     "metadata": {},
     "source": [
      "$\\dot{I_j} = - \\frac{I-J}{\\tau_s} + \\sum w_{ij}F_i$ where $F_j = f(I_j)$ and $f$ is gain function \n",
      "\n",
      "\n",
      "Then, $\\dot{r} = -r + f(I)$\n",
      "\n",
      "If we have firing rate based on synaptic input, then we can have that both respond slowly to spike changes\n",
      "\n",
      "\n",
      "\n",
      "or synaptic input is instanteously changing but firing rate is slowly changing\n",
      "\n",
      "\n",
      "or firing rate responds instant. to synaptic input but synaptic conductance change slowly\n",
      "\n",
      "\n",
      "\n",
      "From pg 2 http://people.brandeis.edu/~pmiller/COMP_NEURO/ratemodels.pdf"
     ]
    },
    {
     "cell_type": "heading",
     "level": 3,
     "metadata": {},
     "source": [
      "Case 1: population with simple sinusoidal driving input"
     ]
    },
    {
     "cell_type": "code",
     "collapsed": false,
     "input": [
      "# SETUP -------------------------------------\n",
      "\n",
      "N = 500\n",
      "NE = 0.8*N\n",
      "NI = 0.2*I\n",
      "\n",
      "tau_e = 5.\n",
      "tau_i = 5.\n",
      "\n",
      "# rate vectors representing population of ext and inh neurons\n",
      "pop_e = np.zeros(NE)\n",
      "pop_i = np.zeros(NI)\n",
      "\n",
      "# connectivity matrices for e->e, e->i, i->i, and i->e\n",
      "conn_e_e = np.zeros((NE,NE))\n",
      "conn_e_i = np.zeros((NE,NI))\n",
      "conn_i_e = np.zeros((NI,NE))\n",
      "conn_i_i = np.zeros((NI,NI))\n",
      "\n",
      "# define the input(s)\n",
      "\n",
      "# connectivity of input --> e, and i respectively\n",
      "#conn_input_e = np.zeros(\n",
      "\n"
     ],
     "language": "python",
     "metadata": {},
     "outputs": []
    },
    {
     "cell_type": "code",
     "collapsed": false,
     "input": [
      "# run the network"
     ],
     "language": "python",
     "metadata": {},
     "outputs": []
    }
   ],
   "metadata": {}
  }
 ]
}