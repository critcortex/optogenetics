{
 "cells": [
  {
   "cell_type": "code",
   "execution_count": 48,
   "metadata": {
    "collapsed": false
   },
   "outputs": [
    {
     "name": "stdout",
     "output_type": "stream",
     "text": [
      "/home/sjarvis1/workspace/co_optogenetics\n",
      "/home/sjarvis1/workspace/co_optogenetics\n",
      "The autoreload extension is already loaded. To reload it, use:\n",
      "  %reload_ext autoreload\n"
     ]
    }
   ],
   "source": [
    "# import statements:\n",
    "import run_analysis\n",
    "import os\n",
    "print os.getcwd()\n",
    "os.chdir('/home/sjarvis1/workspace/co_optogenetics')\n",
    "print os.getcwd()\n",
    "import numpy as np\n",
    "import math\n",
    "%load_ext autoreload\n",
    "%autoreload 2\n",
    "reload(run_analysis)\n",
    "import file_io as fio"
   ]
  },
  {
   "cell_type": "code",
   "execution_count": 2,
   "metadata": {
    "collapsed": false
   },
   "outputs": [
    {
     "name": "stdout",
     "output_type": "stream",
     "text": [
      "Populating the interactive namespace from numpy and matplotlib\n"
     ]
    },
    {
     "name": "stderr",
     "output_type": "stream",
     "text": [
      "WARNING: pylab import has clobbered these variables: ['pylab']\n",
      "`%matplotlib` prevents importing * from pylab and numpy\n"
     ]
    }
   ],
   "source": [
    "import pylab\n",
    "%pylab inline\n",
    "from run_analysis import ExperimentPlotter\n",
    "from matplotlib import cm, colors"
   ]
  },
  {
   "cell_type": "code",
   "execution_count": 3,
   "metadata": {
    "collapsed": true
   },
   "outputs": [],
   "source": [
    "# taken from https://gist.github.com/dmeliza/3251476\n",
    "\n",
    "from matplotlib.offsetbox import AnchoredOffsetbox\n",
    "class AnchoredScaleBar(AnchoredOffsetbox):\n",
    "    def __init__(self, transform, sizex=0, sizey=0, labelx=None, labely=None, loc=4,\n",
    "                 pad=0.1, borderpad=0.1, sep=2, prop=None, **kwargs):\n",
    "        \"\"\"\n",
    "        Draw a horizontal and/or vertical  bar with the size in data coordinate\n",
    "        of the give axes. A label will be drawn underneath (center-aligned).\n",
    "        - transform : the coordinate frame (typically axes.transData)\n",
    "        - sizex,sizey : width of x,y bar, in data units. 0 to omit\n",
    "        - labelx,labely : labels for x,y bars; None to omit\n",
    "        - loc : position in containing axes\n",
    "        - pad, borderpad : padding, in fraction of the legend font size (or prop)\n",
    "        - sep : separation between labels and bars in points.\n",
    "        - **kwargs : additional arguments passed to base class constructor\n",
    "        \"\"\"\n",
    "        from matplotlib.patches import Rectangle\n",
    "        from matplotlib.offsetbox import AuxTransformBox, VPacker, HPacker, TextArea, DrawingArea\n",
    "        bars = AuxTransformBox(transform)\n",
    "        \n",
    "        #print(\"Testing in here!\")\n",
    "        if sizex:\n",
    "            bars.add_artist(Rectangle((0,0), sizex, 0, fc=\"none\"))\n",
    "        if sizey:\n",
    "            bars.add_artist(Rectangle((0,0), 0, sizey, fc=\"none\"))\n",
    "\n",
    "        if sizex and labelx:\n",
    "            #print(\"Testing in here! VPacker\")\n",
    "            bars = VPacker(children=[bars, TextArea(labelx, minimumdescent=False)],\n",
    "                           align=\"center\", pad=0, sep=sep)\n",
    "        if sizey and labely:\n",
    "            bars = HPacker(children=[TextArea(labely), bars],\n",
    "                            align=\"center\", pad=0, sep=sep)\n",
    "\n",
    "        AnchoredOffsetbox.__init__(self, loc, pad=pad, borderpad=borderpad,\n",
    "                                   child=bars, prop=prop, frameon=False, **kwargs)\n",
    "\n",
    "def add_scalebar(ax, matchx=True, matchy=True, hidex=True, hidey=True, **kwargs):\n",
    "    \"\"\" Add scalebars to axes\n",
    "    Adds a set of scale bars to *ax*, matching the size to the ticks of the plot\n",
    "    and optionally hiding the x and y axes\n",
    "    - ax : the axis to attach ticks to\n",
    "    - matchx,matchy : if True, set size of scale bars to spacing between ticks\n",
    "                    if False, size should be set using sizex and sizey params\n",
    "    - hidex,hidey : if True, hide x-axis and y-axis of parent\n",
    "    - **kwargs : additional arguments passed to AnchoredScaleBars\n",
    "    Returns created scalebar object\n",
    "    \"\"\"\n",
    "    def f(axis):\n",
    "        l = axis.get_majorticklocs()\n",
    "        return len(l)>1 and (l[1] - l[0])\n",
    "    \n",
    "    if matchx:\n",
    "        kwargs['sizex'] = f(ax.xaxis)\n",
    "        kwargs['labelx'] = str(kwargs['sizex'])\n",
    "    if matchy:\n",
    "        kwargs['sizey'] = f(ax.yaxis)\n",
    "        kwargs['labely'] = str(kwargs['sizey'])\n",
    "        \n",
    "    sb = AnchoredScaleBar(ax.transData, **kwargs)\n",
    "    ax.add_artist(sb)\n",
    "\n",
    "    if hidex : ax.xaxis.set_visible(False)\n",
    "    if hidey : ax.yaxis.set_visible(False)\n",
    "\n",
    "    return sb"
   ]
  },
  {
   "cell_type": "code",
   "execution_count": 65,
   "metadata": {
    "collapsed": true
   },
   "outputs": [],
   "source": [
    "# Helper functions and constants\n",
    "OPSIN_COLORS = ['b','#FFA500']\n",
    "\n",
    "\n",
    "def turn_off_border(ax,turnoffs=['right','top','left','bottom']):\n",
    "    \"\"\"\n",
    "    Turns off borders of figures\n",
    "    \"\"\"\n",
    "    for loc, spine in ax.spines.iteritems():\n",
    "        if loc not in turnoffs:\n",
    "            spine.set_position(('outward',5))\n",
    "            ax.tick_params(direction='out')\n",
    "        elif loc in turnoffs:\n",
    "            spine.set_color('none') # don't draw spine\n",
    "            spine.set_visible(False)\n",
    "            ax.tick_params([])\n",
    "    ax.xaxis.set_visible(False)\n",
    "    ax.yaxis.set_visible(False)\n",
    "            \n",
    "\n",
    "def _draw_light(ax,lightstart,lightstop,tstart,tstop,**params):\n",
    "    ta = max(lightstart,tstart)\n",
    "    tb = min(lightstop,tstop)\n",
    "    x = [ta,tb]\n",
    "    y = np.array([50,50])\n",
    "    barh = 20\n",
    "    nphr_percent = 1./(1+factor)\n",
    "    a_buffer = 0.2 # to prevent a bias\n",
    "    if nphr_percent < a_buffer:\n",
    "        nphr_percent = a_buffer\n",
    "    elif nphr_percent > 1.-a_buffer:\n",
    "        nphr_percent = 1. - a_buffer\n",
    "    bars = [0.,barh*nphr_percent,barh*(1.-nphr_percent)]\n",
    "    b2 = np.cumsum(bars)\n",
    "    #print factor, nphr_percent, bars, b2\n",
    "    for (i,c) in enumerate(OPSIN_COLORS):\n",
    "        ax.fill_between(x,y+b2[i],y+b2[i+1],color=c,lw=0)\n",
    "\n",
    "        \n",
    "def _draw_light_area(ax,lightarea,lightarea_color='#888888',lightarea_alpha=0.5,**params):\n",
    "    ax.axvspan(lightarea[0], lightarea[1], alpha=lightarea_alpha, color=lightarea_color,lw=0)\n",
    "        \n",
    "        \n",
    "def plot_trace(vm,ts,color='k',saveas=None,figsize=(5,2),dpi=300,scalebar=True,lightstart=None,lightstop=None,lightarea=None,lightcolor=None,scalesizex=25,scalesizey=50,**params):\n",
    "    \"\"\"\n",
    "    Plot trace and [optionally] save as png and svg figures\n",
    "    \"\"\"\n",
    "    pylab.figure(figsize=figsize)\n",
    "    pylab.plot(ts,vm,c=color,lw=1)\n",
    "    print lightstart\n",
    "    if lightstart is not None and lightstop is not None:\n",
    "        _draw_light(pylab.gca(),lightstart,lightstop,**params)\n",
    "    if lightarea is not None:\n",
    "        _draw_light_area(pylab.gca(),lightarea,**params)\n",
    "        \n",
    "    pylab.ylim(ymin=-200) # to allow space for scalebar\n",
    "    pylab.ylim(ymax=70) # to allow for light\n",
    "    if scalebar:\n",
    "        add_scalebar(pylab.gca(),loc=4,labelx='%gms'%scalesizex,labely='%gmV'%scalesizey,sizex=scalesizex,sizey=scalesizey,matchx=False,matchy=False)\n",
    "    turn_off_border(pylab.gca())\n",
    "    if saveas is not None:\n",
    "        pylab.savefig(saveas+'.png',dpi=dpi)\n",
    "        pylab.savefig(saveas+'.svg',dpi=dpi)\n",
    "        \n",
    "def get_trace(descript,tstart=0,tstop=100,**params):\n",
    "    \"\"\"\n",
    "    Params: expbase       experiment name i.e. 151105_retest\n",
    "            description   label for specific experiment i.e. irr0.02_factor2.0_nb1_nc3_nl10\n",
    "            \n",
    "    Returns ts, vm\n",
    "    \"\"\"\n",
    "    fname = fio.loaddat(descript,params['expbase'])\n",
    "    print fname\n",
    "    data = np.loadtxt(fname) \n",
    "    ts,vm = data[0],data[1]\n",
    "    \n",
    "    # tstart set\n",
    "    cond = ts>=tstart\n",
    "    vm = vm[cond]\n",
    "    ts = ts[cond]\n",
    "    # tstop set\n",
    "    cond = ts<=tstop\n",
    "    vm = vm[cond]\n",
    "    ts = ts[cond]\n",
    "        \n",
    "    return ts,vm\n"
   ]
  },
  {
   "cell_type": "markdown",
   "metadata": {},
   "source": [
    "# Plot voltage traces for Abstract cells\n",
    "\n"
   ]
  },
  {
   "cell_type": "code",
   "execution_count": 80,
   "metadata": {
    "collapsed": true
   },
   "outputs": [],
   "source": [
    "pp_abstract = { 'expbase': '151104_retestAbstractPassive',\n",
    "                'description' : 'irr%.3f_factor%.2f_nb%g_ns%g_nl%g_spikes%g_loc%s_J%.1f_NpHR_%s_ChR_%s',\n",
    "                'tstart' : 500,\n",
    "                'tstop'  : 1500,\n",
    "               'scalesizex':250,\n",
    "                'scalesizey': 50,\n",
    "                'lightstart':1000,\n",
    "                'lightstop': 1500}\n",
    "\n",
    "JS_LOOKUP = { (1,1,124) : 1.0, #OK\n",
    "                           (1,2,7) : 1.0, #OK\n",
    "                           (2,2,6) : 1.9, #OK\n",
    "                           (2,7,3) : 1.5, #OK\n",
    "                           (2,1,62) : 1.0, #OK\n",
    "                           (2,61,2) : 2.0, #grudgingly OK \n",
    "                           (4,5,3) : 4.0, # OK\n",
    "                           (4,2,5) : 2.0, #OK\n",
    "                           (4,30,2) : 5.0, #OK\n",
    "                           (4,1,31) : 1.9, #OK\n",
    "                           (11,1,11) : 2., #OK\n",
    "                           (11,10,2) : 50., #OK\n",
    "                           (18,1,7) : 50., #OK\n",
    "                           (18,2,3) : 50., #OK\n",
    "                           (18,6,2) : 50., #OK\n",
    "                           (31,1,4) : 50.,\n",
    "                           (31,3,2) : 100.,\n",
    "                           (62,1,2) : 100.,\n",
    "                           (124,1,1) : 500.,\n",
    "                          }"
   ]
  },
  {
   "cell_type": "code",
   "execution_count": 86,
   "metadata": {
    "collapsed": false
   },
   "outputs": [],
   "source": [
    "%%capture\n",
    "irr = 0.02\n",
    "factors = [4.,0.25]\n",
    "trees = [(1,2,7),(2,2,6),(2,7,3),(4,5,3),(4,1,31) ]\n",
    "trees = [(1,2,7),(2,2,6),(4,1,31) ]\n",
    "trees = [(2,7,3)]\n",
    "\n",
    "spikes = [20,30,40,50,60]\n",
    "exp_type = 'whole'\n",
    "for tree in trees:\n",
    "    nb,nc,nl = tree\n",
    "    for factor in factors:\n",
    "        for spike in spikes:\n",
    "            ts,vm = get_trace(pp_abstract['description']%(irr,factor,nb,nc,nl,spike,nl-1,JS_LOOKUP[tree],exp_type,exp_type),**pp_abstract)\n",
    "            plot_trace(vm,ts,saveas='Fig1_abstract_tree%g_%g_%g_irr%.3f_factor%g_freq%g'%(nb,nc,nl,irr,factor,spike),**pp_abstract)\n",
    "        \n",
    "        #break"
   ]
  },
  {
   "cell_type": "markdown",
   "metadata": {},
   "source": [
    "# Voltage traces for L5PC cells"
   ]
  },
  {
   "cell_type": "code",
   "execution_count": 85,
   "metadata": {
    "collapsed": false
   },
   "outputs": [],
   "source": [
    "%%capture\n",
    "# vitro distal\n",
    "pp_L5PCvitro = {'expbase': '130710_increasing_uneq_irradiance_factor_somacurr',\n",
    "                'description': '_irr%.1f_factor%.2f_Idist%.1f_NpHR_%s_ChR_%s',\n",
    "                'lightstart': 700,\n",
    "                'lightstop': 1700,\n",
    "                'scalesizex':100,\n",
    "                'scalesizey': 50,\n",
    "                'tstart': 350,\n",
    "                'tstop': 1700 }\n",
    "\n",
    "current_amps = [0.5,1.,2.] #np.arange(-2.,2.01,0.1)\n",
    "factors = [2.,4] #[0.125,1.,8.] #[0.125,0.25,0.5,1.,2.,4.,8.]\n",
    "irr =1.0\n",
    "exp_type = 'whole'\n",
    "for Ia in current_amps:\n",
    "    for factor in factors:\n",
    "        pp_L5PCvitro['factor'] = factor\n",
    "        ts,vm = get_trace(pp_L5PCvitro['description']%(irr,factor,Ia,exp_type,exp_type),**pp_L5PCvitro)\n",
    "        plot_trace(vm,ts,saveas='Fig2_L5PCvitro_traces_irr%.3f_factor%g_Ia%g'%(irr,factor,Ia),**pp_L5PCvitro)\n",
    "\n"
   ]
  },
  {
   "cell_type": "code",
   "execution_count": 47,
   "metadata": {
    "collapsed": false
   },
   "outputs": [],
   "source": [
    "%%capture\n",
    "# vivo synaptic\n",
    "pp_L5PCvivo = {#'tstop': 2100,\n",
    "                'expbase': '140723_L5PC_basal_irr_ChRonly',\n",
    "                'description': 'irr%.3f_factor%.2f_freq%g_J%g_nsites%g_NpHR_%s_ChR_%s',\n",
    "                'lightstart': 1050,\n",
    "                'lightstop': 2050,\n",
    "                'scalesizex':100,\n",
    "                'scalesizey': 50,\n",
    "                'tstart': 1050-500,\n",
    "                'tstop': 1050+500 }\n",
    "\n",
    "freqs = [50] #[120,80,100] # [15,20,50,80] #range(2,15,2)+range(15,151,5),\n",
    "factors = [0.001,1.] #[0.001,0.125,0.25,0.5,0.75,1.]\n",
    "irr =0.002\n",
    "Js = 2.\n",
    "nsites = 80\n",
    "exp_type = 'whole'\n",
    "for freq in freqs:\n",
    "    for factor in factors:\n",
    "        pp_L5PCvivo['factor'] = factor\n",
    "        ts,vm = get_trace(pp_L5PCvivo['description']%(irr,factor,freq,Js,nsites,exp_type,exp_type),**pp_L5PCvivo)\n",
    "        plot_trace(vm,ts,saveas='Fig2_L5PCvivo_traces_irr%.3f_factor%.2f_freq%g'%(irr,factor,freq),**pp_L5PCvivo)\n",
    "\n"
   ]
  },
  {
   "cell_type": "markdown",
   "metadata": {},
   "source": [
    "# Voltage traces for stellate cells"
   ]
  },
  {
   "cell_type": "code",
   "execution_count": 44,
   "metadata": {
    "collapsed": false
   },
   "outputs": [],
   "source": [
    "%%capture\n",
    "#vitro\n",
    "stell_data = {'expbase': '140408_scan_SHstell',\n",
    "               'lightstart': 700,\n",
    "                'lightstop': 1700,\n",
    "                #'tstop': 2700,\n",
    "              'tstart':350,#400,\n",
    "              'tstop':1700,#1000,\n",
    "               'scalesizex':100,\n",
    "                'scalesizey': 50,\n",
    "              'description': 'irr%.3f_factor%.2f_I%.2f_stimloc_%s_NpHR_%s_ChR_%s'}\n",
    "\n",
    "current_amps = [0.4] #[0.3,1,3] #np.arange(-1.,3.1,0.2)\n",
    "Js = 2.\n",
    "nsite_range = 40\n",
    "stimloc = 'stim2' #,'stim3']\n",
    "factors = [0.25,0.75,1.,1.5,2.] #[0.0625,0.125, 0.25,0.375,0.5,0.75,1.,1.5,2.]\n",
    "irr = 0.007 #,0.012]\n",
    "\n",
    "\n",
    "for Ia in current_amps:\n",
    "    for factor in factors:\n",
    "        stell_data['factor'] = factor\n",
    "        ts,vm = get_trace(stell_data['description']%(irr,factor,Ia,stimloc,exp_type,exp_type),**stell_data)\n",
    "        plot_trace(vm,ts,saveas='Fig3_stellateVitro_traces_irr%.3f_factor%g_Ia%g'%(irr,factor,Ia),**stell_data)\n",
    "\n"
   ]
  },
  {
   "cell_type": "code",
   "execution_count": 40,
   "metadata": {
    "collapsed": false
   },
   "outputs": [],
   "source": [
    "%%capture\n",
    "#vivo\n",
    "stell_data = {'expbase': '140408_scan_SHstell',\n",
    "               'lightstart': 700,\n",
    "                'lightstop': 1700,\n",
    "                #'tstop': 2700,\n",
    "              'tstart':400,\n",
    "              'tstop':1000,\n",
    "                'scalesizex':100,\n",
    "                'scalesizey': 50,\n",
    "              'description': 'irr%.3f_factor%.2f_freq%g_J%g_NpHR_%s_ChR_%s'}\n",
    "\n",
    "freqs = [40,80,120]#range(10,201,10)\n",
    "Js = 2.\n",
    "nsite_range = 40\n",
    "stimloc = 'stim2' #,'stim3']\n",
    "factors = [0.125,0.375,0.5,0.75,1.,2.] #[0.0625,0.125, 0.25,0.375,0.5,0.75,1.,1.5,2.]\n",
    "irr = 0.007 #,0.012]\n",
    "\n",
    "\n",
    "for freq in freqs:\n",
    "    for factor in factors:\n",
    "        ts,vm = get_trace(stell_data['description']%(irr,factor,freq,Js,exp_type,exp_type),**stell_data)\n",
    "        plot_trace(vm,ts,saveas='Fig3_stellateVivo_traces_irr%.3f_factor%g_freq%g'%(irr,factor,freq),**stell_data)\n",
    "\n"
   ]
  },
  {
   "cell_type": "markdown",
   "metadata": {},
   "source": [
    "# Voltage traces for low-level illumination"
   ]
  },
  {
   "cell_type": "code",
   "execution_count": 181,
   "metadata": {
    "collapsed": false
   },
   "outputs": [
    {
     "name": "stdout",
     "output_type": "stream",
     "text": [
      "location = experiments/140616_replay_input_apic/dat/140616_replay_input_apicirr0.002_factor0.10_spikes80_J0.5_cellL5PC_inh-0.05_freqfactor1_shuffle5_NpHR_whole_ChR_whole.dat\n",
      "No file found:  experiments/140616_replay_input_apic/dat/140616_replay_input_apicirr0.002_factor0.10_spikes80_J0.5_cellL5PC_inh-0.05_freqfactor1_shuffle5_NpHR_whole_ChR_whole.dat\n",
      "trying location = experiments/140616_replay_input_apic/dat/140616_replay_input_apicirr0.002_factor0.10_spikes80_J0.5_cellL5PC_inh-0.05_freqfactor1_shuffle5_NpHR_whole_ChR_whole_v.dat\n",
      "['experiments/140616_replay_input_apic/dat/140616_replay_input_apicirr0.002_factor0.10_spikes80_J0.5_cellL5PC_inh-0.05_freqfactor1_shuffle5_NpHR_whole_ChR_whole_v.dat']\n",
      "Found it\n",
      "experiments/140616_replay_input_apic/dat/140616_replay_input_apicirr0.002_factor0.10_spikes80_J0.5_cellL5PC_inh-0.05_freqfactor1_shuffle5_NpHR_whole_ChR_whole_v.dat\n",
      "2000\n",
      "location = experiments/140616_replay_input_apic/dat/140616_replay_input_apicirr0.002_factor0.20_spikes80_J0.5_cellL5PC_inh-0.05_freqfactor1_shuffle5_NpHR_whole_ChR_whole.dat\n",
      "No file found:  experiments/140616_replay_input_apic/dat/140616_replay_input_apicirr0.002_factor0.20_spikes80_J0.5_cellL5PC_inh-0.05_freqfactor1_shuffle5_NpHR_whole_ChR_whole.dat\n",
      "trying location = experiments/140616_replay_input_apic/dat/140616_replay_input_apicirr0.002_factor0.20_spikes80_J0.5_cellL5PC_inh-0.05_freqfactor1_shuffle5_NpHR_whole_ChR_whole_v.dat\n",
      "['experiments/140616_replay_input_apic/dat/140616_replay_input_apicirr0.002_factor0.20_spikes80_J0.5_cellL5PC_inh-0.05_freqfactor1_shuffle5_NpHR_whole_ChR_whole_v.dat']\n",
      "Found it\n",
      "experiments/140616_replay_input_apic/dat/140616_replay_input_apicirr0.002_factor0.20_spikes80_J0.5_cellL5PC_inh-0.05_freqfactor1_shuffle5_NpHR_whole_ChR_whole_v.dat\n",
      "2000\n",
      "location = experiments/140616_replay_input_apic/dat/140616_replay_input_apicirr0.002_factor0.30_spikes80_J0.5_cellL5PC_inh-0.05_freqfactor1_shuffle5_NpHR_whole_ChR_whole.dat\n",
      "No file found:  experiments/140616_replay_input_apic/dat/140616_replay_input_apicirr0.002_factor0.30_spikes80_J0.5_cellL5PC_inh-0.05_freqfactor1_shuffle5_NpHR_whole_ChR_whole.dat\n",
      "trying location = experiments/140616_replay_input_apic/dat/140616_replay_input_apicirr0.002_factor0.30_spikes80_J0.5_cellL5PC_inh-0.05_freqfactor1_shuffle5_NpHR_whole_ChR_whole_v.dat\n",
      "['experiments/140616_replay_input_apic/dat/140616_replay_input_apicirr0.002_factor0.30_spikes80_J0.5_cellL5PC_inh-0.05_freqfactor1_shuffle5_NpHR_whole_ChR_whole_v.dat']\n",
      "Found it\n",
      "experiments/140616_replay_input_apic/dat/140616_replay_input_apicirr0.002_factor0.30_spikes80_J0.5_cellL5PC_inh-0.05_freqfactor1_shuffle5_NpHR_whole_ChR_whole_v.dat\n",
      "2000\n",
      "location = experiments/140616_replay_input_apic/dat/140616_replay_input_apicirr0.002_factor0.40_spikes80_J0.5_cellL5PC_inh-0.05_freqfactor1_shuffle5_NpHR_whole_ChR_whole.dat\n",
      "No file found:  experiments/140616_replay_input_apic/dat/140616_replay_input_apicirr0.002_factor0.40_spikes80_J0.5_cellL5PC_inh-0.05_freqfactor1_shuffle5_NpHR_whole_ChR_whole.dat\n",
      "trying location = experiments/140616_replay_input_apic/dat/140616_replay_input_apicirr0.002_factor0.40_spikes80_J0.5_cellL5PC_inh-0.05_freqfactor1_shuffle5_NpHR_whole_ChR_whole_v.dat\n",
      "['experiments/140616_replay_input_apic/dat/140616_replay_input_apicirr0.002_factor0.40_spikes80_J0.5_cellL5PC_inh-0.05_freqfactor1_shuffle5_NpHR_whole_ChR_whole_v.dat']\n",
      "Found it\n",
      "experiments/140616_replay_input_apic/dat/140616_replay_input_apicirr0.002_factor0.40_spikes80_J0.5_cellL5PC_inh-0.05_freqfactor1_shuffle5_NpHR_whole_ChR_whole_v.dat\n",
      "2000\n",
      "location = experiments/140616_replay_input_apic/dat/140616_replay_input_apicirr0.002_factor0.50_spikes80_J0.5_cellL5PC_inh-0.05_freqfactor1_shuffle5_NpHR_whole_ChR_whole.dat\n",
      "No file found:  experiments/140616_replay_input_apic/dat/140616_replay_input_apicirr0.002_factor0.50_spikes80_J0.5_cellL5PC_inh-0.05_freqfactor1_shuffle5_NpHR_whole_ChR_whole.dat\n",
      "trying location = experiments/140616_replay_input_apic/dat/140616_replay_input_apicirr0.002_factor0.50_spikes80_J0.5_cellL5PC_inh-0.05_freqfactor1_shuffle5_NpHR_whole_ChR_whole_v.dat\n",
      "['experiments/140616_replay_input_apic/dat/140616_replay_input_apicirr0.002_factor0.50_spikes80_J0.5_cellL5PC_inh-0.05_freqfactor1_shuffle5_NpHR_whole_ChR_whole_v.dat']\n",
      "Found it\n",
      "experiments/140616_replay_input_apic/dat/140616_replay_input_apicirr0.002_factor0.50_spikes80_J0.5_cellL5PC_inh-0.05_freqfactor1_shuffle5_NpHR_whole_ChR_whole_v.dat\n",
      "2000\n",
      "location = experiments/140616_replay_input_apic/dat/140616_replay_input_apicirr0.002_factor0.60_spikes80_J0.5_cellL5PC_inh-0.05_freqfactor1_shuffle5_NpHR_whole_ChR_whole.dat\n",
      "No file found:  experiments/140616_replay_input_apic/dat/140616_replay_input_apicirr0.002_factor0.60_spikes80_J0.5_cellL5PC_inh-0.05_freqfactor1_shuffle5_NpHR_whole_ChR_whole.dat\n",
      "trying location = experiments/140616_replay_input_apic/dat/140616_replay_input_apicirr0.002_factor0.60_spikes80_J0.5_cellL5PC_inh-0.05_freqfactor1_shuffle5_NpHR_whole_ChR_whole_v.dat\n",
      "['experiments/140616_replay_input_apic/dat/140616_replay_input_apicirr0.002_factor0.60_spikes80_J0.5_cellL5PC_inh-0.05_freqfactor1_shuffle5_NpHR_whole_ChR_whole_v.dat']\n",
      "Found it\n",
      "experiments/140616_replay_input_apic/dat/140616_replay_input_apicirr0.002_factor0.60_spikes80_J0.5_cellL5PC_inh-0.05_freqfactor1_shuffle5_NpHR_whole_ChR_whole_v.dat\n",
      "2000\n",
      "location = experiments/140616_replay_input_apic/dat/140616_replay_input_apicirr0.002_factor0.70_spikes80_J0.5_cellL5PC_inh-0.05_freqfactor1_shuffle5_NpHR_whole_ChR_whole.dat\n",
      "No file found:  experiments/140616_replay_input_apic/dat/140616_replay_input_apicirr0.002_factor0.70_spikes80_J0.5_cellL5PC_inh-0.05_freqfactor1_shuffle5_NpHR_whole_ChR_whole.dat\n",
      "trying location = experiments/140616_replay_input_apic/dat/140616_replay_input_apicirr0.002_factor0.70_spikes80_J0.5_cellL5PC_inh-0.05_freqfactor1_shuffle5_NpHR_whole_ChR_whole_v.dat\n",
      "['experiments/140616_replay_input_apic/dat/140616_replay_input_apicirr0.002_factor0.70_spikes80_J0.5_cellL5PC_inh-0.05_freqfactor1_shuffle5_NpHR_whole_ChR_whole_v.dat']\n",
      "Found it\n",
      "experiments/140616_replay_input_apic/dat/140616_replay_input_apicirr0.002_factor0.70_spikes80_J0.5_cellL5PC_inh-0.05_freqfactor1_shuffle5_NpHR_whole_ChR_whole_v.dat\n",
      "2000\n",
      "location = experiments/140616_replay_input_apic/dat/140616_replay_input_apicirr0.002_factor0.80_spikes80_J0.5_cellL5PC_inh-0.05_freqfactor1_shuffle5_NpHR_whole_ChR_whole.dat\n",
      "No file found:  experiments/140616_replay_input_apic/dat/140616_replay_input_apicirr0.002_factor0.80_spikes80_J0.5_cellL5PC_inh-0.05_freqfactor1_shuffle5_NpHR_whole_ChR_whole.dat\n",
      "trying location = experiments/140616_replay_input_apic/dat/140616_replay_input_apicirr0.002_factor0.80_spikes80_J0.5_cellL5PC_inh-0.05_freqfactor1_shuffle5_NpHR_whole_ChR_whole_v.dat\n",
      "['experiments/140616_replay_input_apic/dat/140616_replay_input_apicirr0.002_factor0.80_spikes80_J0.5_cellL5PC_inh-0.05_freqfactor1_shuffle5_NpHR_whole_ChR_whole_v.dat']\n",
      "Found it\n",
      "experiments/140616_replay_input_apic/dat/140616_replay_input_apicirr0.002_factor0.80_spikes80_J0.5_cellL5PC_inh-0.05_freqfactor1_shuffle5_NpHR_whole_ChR_whole_v.dat\n",
      "2000\n",
      "location = experiments/140616_replay_input_apic/dat/140616_replay_input_apicirr0.002_factor0.90_spikes80_J0.5_cellL5PC_inh-0.05_freqfactor1_shuffle5_NpHR_whole_ChR_whole.dat\n",
      "No file found:  experiments/140616_replay_input_apic/dat/140616_replay_input_apicirr0.002_factor0.90_spikes80_J0.5_cellL5PC_inh-0.05_freqfactor1_shuffle5_NpHR_whole_ChR_whole.dat\n",
      "trying location = experiments/140616_replay_input_apic/dat/140616_replay_input_apicirr0.002_factor0.90_spikes80_J0.5_cellL5PC_inh-0.05_freqfactor1_shuffle5_NpHR_whole_ChR_whole_v.dat\n",
      "['experiments/140616_replay_input_apic/dat/140616_replay_input_apicirr0.002_factor0.90_spikes80_J0.5_cellL5PC_inh-0.05_freqfactor1_shuffle5_NpHR_whole_ChR_whole_v.dat']\n",
      "Found it\n",
      "experiments/140616_replay_input_apic/dat/140616_replay_input_apicirr0.002_factor0.90_spikes80_J0.5_cellL5PC_inh-0.05_freqfactor1_shuffle5_NpHR_whole_ChR_whole_v.dat\n",
      "2000\n"
     ]
    },
    {
     "data": {
      "image/png": "[encoded data removed]",
      "text/plain": [
       "<matplotlib.figure.Figure at 0x7f993d0576d0>"
      ]
     },
     "metadata": {},
     "output_type": "display_data"
    },
    {
     "data": {
      "image/png": "[encoded data removed]",
      "text/plain": [
       "<matplotlib.figure.Figure at 0x7f9916348510>"
      ]
     },
     "metadata": {},
     "output_type": "display_data"
    },
    {
     "data": {
      "image/png": "[encoded data removed]",
      "text/plain": [
       "<matplotlib.figure.Figure at 0x7f9916b22c90>"
      ]
     },
     "metadata": {},
     "output_type": "display_data"
    },
    {
     "data": {
      "image/png": "[encoded data removed]",
      "text/plain": [
       "<matplotlib.figure.Figure at 0x7f9915b02310>"
      ]
     },
     "metadata": {},
     "output_type": "display_data"
    },
    {
     "data": {
      "image/png": "[encoded data removed]",
      "text/plain": [
       "<matplotlib.figure.Figure at 0x7f99158fae50>"
      ]
     },
     "metadata": {},
     "output_type": "display_data"
    },
    {
     "data": {
      "image/png": "[encoded data removed]",
      "text/plain": [
       "<matplotlib.figure.Figure at 0x7f9918153b50>"
      ]
     },
     "metadata": {},
     "output_type": "display_data"
    },
    {
     "data": {
      "image/png": "[encoded data removed]",
      "text/plain": [
       "<matplotlib.figure.Figure at 0x7f99177b05d0>"
      ]
     },
     "metadata": {},
     "output_type": "display_data"
    },
    {
     "data": {
      "image/png": "[encoded data removed]",
      "text/plain": [
       "<matplotlib.figure.Figure at 0x7f991814fa10>"
      ]
     },
     "metadata": {},
     "output_type": "display_data"
    },
    {
     "data": {
      "image/png": "[encoded data removed]",
      "text/plain": [
       "<matplotlib.figure.Figure at 0x7f99162083d0>"
      ]
     },
     "metadata": {},
     "output_type": "display_data"
    }
   ],
   "source": [
    "light_on = 2100\n",
    "light_dur = 1000\n",
    "tstop = 4000\n",
    "buff = 100 # buffer\n",
    "exp_repeat = {\n",
    "    'expbase': '140616_replay_input_apic',\n",
    "    #'description': 'irr%.3f_factor%.2f_spikes%g_J%.1f_cell%s_inh%.2f_freqfactor%g_shuffle%g_stim%s_NpHR_%s_ChR_%s',\n",
    "    'description': 'irr%.3f_factor%.2f_spikes%g_J%.1f_cell%s_inh%.2f_freqfactor%g_shuffle%g_NpHR_%s_ChR_%s',\n",
    "    'lightstart':2000,\n",
    "    'lightstop': 3000,\n",
    "    #'tstop': 4000,\n",
    "    'tstart':1500,\n",
    "    'tstop':3500,\n",
    "    'scalesizex':500,\n",
    "    'scalesizey': 50,\n",
    "    }\n",
    "\n",
    "#factors =[0.125, 0.25,0.5,1.,1.5,2.,4.,8.]\n",
    "factors = np.arange(0.1,1.,0.1)\n",
    "irr = 0.002\n",
    "freq = 80\n",
    "Js = 0.5\n",
    "inh=-0.05\n",
    "freqfactor =1\n",
    "shuffle = 5\n",
    "cell = 'L5PC'\n",
    "stimtype = 'poisson'\n",
    "for factor in factors:\n",
    "    #ts,vm = get_trace(exp_repeat['description']%(irr,factor,freq,Js,cell,inh,freqfactor,shuffle,stimtype,exp_type,exp_type),**exp_repeat)\n",
    "    ts,vm = get_trace(exp_repeat['description']%(irr,factor,freq,Js,cell,inh,freqfactor,shuffle,exp_type,exp_type),**exp_repeat)\n",
    "    plot_trace(vm,ts,saveas='Fig6_repeat_traces_irr%.3f_factor%g_freq%g'%(irr,factor,freq),scalebar=False,**exp_repeat)\n"
   ]
  },
  {
   "cell_type": "code",
   "execution_count": 72,
   "metadata": {
    "collapsed": false,
    "scrolled": true
   },
   "outputs": [
    {
     "name": "stdout",
     "output_type": "stream",
     "text": [
      "location = experiments/140616_replay_input_apic/dat/140616_replay_input_apicirr0.000_factor0.12_spikes80_J0.5_cellL5PC_inh-0.05_freqfactor1_shuffle5_stimpoisson_NpHR_none_ChR_none.dat\n",
      "No file found:  experiments/140616_replay_input_apic/dat/140616_replay_input_apicirr0.000_factor0.12_spikes80_J0.5_cellL5PC_inh-0.05_freqfactor1_shuffle5_stimpoisson_NpHR_none_ChR_none.dat\n",
      "trying location = experiments/140616_replay_input_apic/dat/140616_replay_input_apicirr0.000_factor0.12_spikes80_J0.5_cellL5PC_inh-0.05_freqfactor1_shuffle5_stimpoisson_NpHR_none_ChR_none_v.dat\n",
      "['experiments/140616_replay_input_apic/dat/140616_replay_input_apicirr0.000_factor0.12_spikes80_J0.5_cellL5PC_inh-0.05_freqfactor1_shuffle5_stimpoisson_NpHR_none_ChR_none_v.dat']\n",
      "Found it\n",
      "experiments/140616_replay_input_apic/dat/140616_replay_input_apicirr0.000_factor0.12_spikes80_J0.5_cellL5PC_inh-0.05_freqfactor1_shuffle5_stimpoisson_NpHR_none_ChR_none_v.dat\n",
      "None\n"
     ]
    },
    {
     "data": {
      "image/png": "[encoded data removed]",
      "text/plain": [
       "<matplotlib.figure.Figure at 0x7fc6dc714610>"
      ]
     },
     "metadata": {},
     "output_type": "display_data"
    }
   ],
   "source": [
    "# plot original\n",
    "# experiments/140616_replay_input_apic/dat/140616_replay_input_apicirr0.000_factor0.12_spikes80_J0.5_cellL5PC_inh-0.05_freqfactor1_shuffle5_stimpoisson_NpHR_none_ChR_none_v.dat\n",
    "light_on = 2100\n",
    "light_dur = 1000\n",
    "tstop = 4000\n",
    "buff = 100 # buffer\n",
    "exp_repeat = {\n",
    "    'expbase': '140616_replay_input_apic',\n",
    "    'description': 'irr%.3f_factor%.2f_spikes%g_J%.1f_cell%s_inh%.2f_freqfactor%g_shuffle%g_stim%s_NpHR_%s_ChR_%s',\n",
    "    'figsize':(6,6),\n",
    "    'lightarea' : (2000,3000),\n",
    "    'lightarea_alpha' : 0.1,\n",
    "    'tstart':1400,\n",
    "    'tstop':4000,\n",
    "    'scalesizex':500,\n",
    "    'scalesizey': 50,\n",
    "    }\n",
    "\n",
    "factors =[0.125]\n",
    "irr = 0.\n",
    "freq = 80\n",
    "Js = 0.5\n",
    "inh=-0.05\n",
    "freqfactor =1\n",
    "shuffle = 5\n",
    "cell = 'L5PC'\n",
    "stimtype = 'poisson'\n",
    "exp_type = 'none'\n",
    "\n",
    "for factor in factors:\n",
    "    ts,vm = get_trace(exp_repeat['description']%(irr,factor,freq,Js,cell,inh,freqfactor,shuffle,stimtype,exp_type,exp_type),**exp_repeat)\n",
    "    plot_trace(vm,ts,saveas='Fig6_originalTrace_irr%.3f_factor%g_freq%g'%(irr,factor,freq),scalebar=False,**exp_repeat)\n"
   ]
  },
  {
   "cell_type": "code",
   "execution_count": 71,
   "metadata": {
    "collapsed": false
   },
   "outputs": [],
   "source": [
    "%%capture\n",
    "# plot high and low level illumination \n",
    "light_on = 2100\n",
    "light_dur = 1000\n",
    "tstop = 4000\n",
    "buff = 100 # buffer\n",
    "exp_repeat = {\n",
    "    'expbase': '140616_replay_input_apic',\n",
    "    'description': 'irr%.3f_factor%.2f_spikes%g_J%.1f_cell%s_inh%.2f_freqfactor%g_shuffle%g_stim%s_NpHR_%s_ChR_%s',\n",
    "    'lightarea' : (2000,3000),\n",
    "    'lightarea_alpha' : 0.1,\n",
    "    \n",
    "    'tstart':1400,\n",
    "    'tstop':4000,\n",
    "    'scalesizex':500,\n",
    "    'scalesizey': 50,\n",
    "    'figsize':(3,3),\n",
    "    }\n",
    "\n",
    "factors =[0.125,1.]#,1.5] #[0.125, 0.25,2.,4.,8.]\n",
    "irrs = [0.002,2.]\n",
    "freq = 80\n",
    "Js = 0.5\n",
    "inh=-0.05\n",
    "freqfactor =1\n",
    "shuffle = 5\n",
    "cell = 'L5PC'\n",
    "stimtype = 'poisson'\n",
    "exp_type = 'whole'\n",
    "for factor in factors:\n",
    "    for irr in irrs:\n",
    "        if factor >= 1.:\n",
    "            exp_repeat['lightarea_color'] = '#FFA500'\n",
    "        else:\n",
    "            exp_repeat['lightarea_color'] = 'b'\n",
    "        ts,vm = get_trace(exp_repeat['description']%(irr,factor,freq,Js,cell,inh,freqfactor,shuffle,stimtype,exp_type,exp_type),**exp_repeat)\n",
    "        plot_trace(vm,ts,saveas='Fig6_repeat_traces_highLowLevelExamples_irr%.3f_factor%g_freq%g'%(irr,factor,freq),scalebar=False,**exp_repeat)\n"
   ]
  },
  {
   "cell_type": "code",
   "execution_count": null,
   "metadata": {
    "collapsed": true
   },
   "outputs": [],
   "source": []
  }
 ],
 "metadata": {
  "kernelspec": {
   "display_name": "Python 2",
   "language": "python",
   "name": "python2"
  },
  "language_info": {
   "codemirror_mode": {
    "name": "ipython",
    "version": 2
   },
   "file_extension": ".py",
   "mimetype": "text/x-python",
   "name": "python",
   "nbconvert_exporter": "python",
   "pygments_lexer": "ipython2",
   "version": "2.7.6"
  }
 },
 "nbformat": 4,
 "nbformat_minor": 0
}
