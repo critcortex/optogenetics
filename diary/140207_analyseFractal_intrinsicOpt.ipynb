{
 "metadata": {
  "name": ""
 },
 "nbformat": 3,
 "nbformat_minor": 0,
 "worksheets": [
  {
   "cells": [
    {
     "cell_type": "code",
     "collapsed": false,
     "input": [
      "import numpy as np\n",
      "import file_io as fio\n",
      "#import pylab\n",
      "%pylab inline\n",
      "import os"
     ],
     "language": "python",
     "metadata": {},
     "outputs": [
      {
       "output_type": "stream",
       "stream": "stdout",
       "text": [
        "Populating the interactive namespace from numpy and matplotlib\n"
       ]
      }
     ],
     "prompt_number": 1
    },
    {
     "cell_type": "code",
     "collapsed": false,
     "input": [
      "expbase = '140115_fractal_paramscan'\n",
      "\n",
      "iclamp_amps = np.arange(0.5,2.6,0.5)\n",
      "\n",
      "num_base = range(1,7)\n",
      "num_child = range(1,5)\n",
      "num_levels = range(1,5)\n",
      "factors = [0.25,1.,4.]\n",
      "irrs = np.arange(1.,6.1,1.)\n",
      "\n",
      "os.chdir('/home/sjarvis1/git/optogenetics')"
     ],
     "language": "python",
     "metadata": {},
     "outputs": [],
     "prompt_number": 2
    },
    {
     "cell_type": "code",
     "collapsed": false,
     "input": [
      "# helper functions\n",
      "def __turn_off_border(ax,turnoffs=['right','top']):\n",
      "        for loc, spine in ax.spines.iteritems():\n",
      "            if loc not in turnoffs:\n",
      "                spine.set_position(('outward',5))\n",
      "                ax.tick_params(direction='out')\n",
      "            elif loc in turnoffs:\n",
      "                #spine.set_color('none') # don't draw spine\n",
      "                spine.set_visible(False)\n",
      "                #ax.tick_params([])\n",
      "        ax.xaxis.set_ticks_position('bottom')\n",
      "        ax.yaxis.set_ticks_position('left')"
     ],
     "language": "python",
     "metadata": {},
     "outputs": [],
     "prompt_number": 3
    },
    {
     "cell_type": "heading",
     "level": 1,
     "metadata": {},
     "source": [
      "Intrinsic properties"
     ]
    },
    {
     "cell_type": "markdown",
     "metadata": {},
     "source": [
      "First, I'm lookin at opsin-induced output in absence of injected current. For the L5PC model, this was useful for predicting the response of the neuron when injected input was additionally added."
     ]
    },
    {
     "cell_type": "code",
     "collapsed": false,
     "input": [
      "def plot_intrinsic(ill_type):\n",
      "    \"\"\"\n",
      "    Plot all points for the type of illumination as scatter, and solid line for ... best fit?\n",
      "    \"\"\"\n",
      "    pylab.figure()\n",
      "    expfiles = 'irr%.1f_factor%.2f_*_iclamploc0_I0.0_NpHR_%s_ChR_%s'\n",
      "    irr = 1. \n",
      "    factor = 1. \n",
      "    \n",
      "    for (i,factor) in enumerate(factors):\n",
      "        for irr in irrs:\n",
      "            for ic in iclamp_amps:\n",
      "                print expfiles%(irr,factor,ill_type,ill_type)\n",
      "                ss,ff = fio.loadspikerange(expfiles%(irr,factor,ill_type,ill_type), expbase)\n",
      "                print ss, ff\n",
      "                #print ss.size, expfiles%(irr,factor,nb,ns,nl,clamp_loc,ic,illumination,illumination)\n",
      "                if len(ss)>0: \n",
      "                    pylab.scatter([irr]*ss.size,ss,marker='o',size=3**2,facecolors='none',alpha=0.33)\n",
      "    \n",
      "    pylab.xlabel('irradiance')\n",
      "    pylab.ylabel('spikes')\n",
      "    #pylab.savefig('test_nb%g_ill%s.png'%(nb,illumination))\n",
      "    pylab.show()"
     ],
     "language": "python",
     "metadata": {},
     "outputs": [],
     "prompt_number": 17
    },
    {
     "cell_type": "code",
     "collapsed": false,
     "input": [
      "plot_intrinsic('whole')"
     ],
     "language": "python",
     "metadata": {},
     "outputs": [
      {
       "output_type": "stream",
       "stream": "stdout",
       "text": [
        "irr1.0_factor0.25_*_iclamploc0_I0.0_NpHR_whole_ChR_whole\n",
        "[] []\n",
        "irr1.0_factor0.25_*_iclamploc0_I0.0_NpHR_whole_ChR_whole\n",
        "[] []\n",
        "irr1.0_factor0.25_*_iclamploc0_I0.0_NpHR_whole_ChR_whole\n",
        "[]"
       ]
      },
      {
       "output_type": "stream",
       "stream": "stdout",
       "text": [
        " []\n",
        "irr1.0_factor0.25_*_iclamploc0_I0.0_NpHR_whole_ChR_whole\n",
        "[] []\n",
        "irr1.0_factor0.25_*_iclamploc0_I0.0_NpHR_whole_ChR_whole\n",
        "[]"
       ]
      },
      {
       "output_type": "stream",
       "stream": "stdout",
       "text": [
        " []\n",
        "irr1.0_factor1.00_*_iclamploc0_I0.0_NpHR_whole_ChR_whole\n",
        "[] []\n",
        "irr1.0_factor1.00_*_iclamploc0_I0.0_NpHR_whole_ChR_whole\n",
        "[] []\n",
        "irr1.0_factor1.00_*_iclamploc0_I0.0_NpHR_whole_ChR_whole\n",
        "[]"
       ]
      },
      {
       "output_type": "stream",
       "stream": "stdout",
       "text": [
        " []\n",
        "irr1.0_factor1.00_*_iclamploc0_I0.0_NpHR_whole_ChR_whole\n",
        "[] []\n",
        "irr1.0_factor1.00_*_iclamploc0_I0.0_NpHR_whole_ChR_whole\n",
        "[] []\n",
        "irr1.0_factor4.00_*_iclamploc0_I0.0_NpHR_whole_ChR_whole\n",
        "[]"
       ]
      },
      {
       "output_type": "stream",
       "stream": "stdout",
       "text": [
        " []\n",
        "irr1.0_factor4.00_*_iclamploc0_I0.0_NpHR_whole_ChR_whole\n",
        "[] []\n",
        "irr1.0_factor4.00_*_iclamploc0_I0.0_NpHR_whole_ChR_whole\n",
        "[] []\n",
        "irr1.0_factor4.00_*_iclamploc0_I0.0_NpHR_whole_ChR_whole\n",
        "[]"
       ]
      },
      {
       "output_type": "stream",
       "stream": "stdout",
       "text": [
        " []\n",
        "irr1.0_factor4.00_*_iclamploc0_I0.0_NpHR_whole_ChR_whole\n",
        "[] []\n"
       ]
      },
      {
       "metadata": {},
       "output_type": "display_data",
       "png": "[encoded data removed]",
       "text": [
        "<matplotlib.figure.Figure at 0x3748650>"
       ]
      }
     ],
     "prompt_number": 18
    },
    {
     "cell_type": "code",
     "collapsed": false,
     "input": [],
     "language": "python",
     "metadata": {},
     "outputs": []
    }
   ],
   "metadata": {}
  }
 ]
}