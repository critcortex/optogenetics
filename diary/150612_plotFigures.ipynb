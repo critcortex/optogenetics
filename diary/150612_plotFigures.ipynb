{
 "metadata": {
  "name": "",
  "signature": "sha256:ec6635f1f9fff0296940e67c03ccec3dcd6a82d5f88983dbf3f162a98e4f6104"
 },
 "nbformat": 3,
 "nbformat_minor": 0,
 "worksheets": [
  {
   "cells": [
    {
     "cell_type": "heading",
     "level": 1,
     "metadata": {},
     "source": [
      "####Notebook purpose: \n",
      "\n",
      "#plot all the figures to be used in the computational optogenetics paper"
     ]
    },
    {
     "cell_type": "heading",
     "level": 1,
     "metadata": {},
     "source": [
      "Helper functions"
     ]
    },
    {
     "cell_type": "code",
     "collapsed": false,
     "input": [
      "# import:\n",
      "import run_analysis\n",
      "import os\n",
      "print os.getcwd()\n",
      "os.chdir('/home/sjarvis1/workspace/co_optogenetics')\n",
      "print os.getcwd()\n",
      "import numpy as np\n",
      "import math\n",
      "%load_ext autoreload\n",
      "%autoreload 2\n",
      "reload(run_analysis)"
     ],
     "language": "python",
     "metadata": {},
     "outputs": [
      {
       "output_type": "stream",
       "stream": "stdout",
       "text": [
        "/home/sjarvis1/workspace/co_optogenetics\n",
        "/home/sjarvis1/workspace/co_optogenetics\n",
        "The autoreload extension is already loaded. To reload it, use:\n",
        "  %reload_ext autoreload\n"
       ]
      },
      {
       "metadata": {},
       "output_type": "pyout",
       "prompt_number": 47,
       "text": [
        "<module 'run_analysis' from '/home/sjarvis1/workspace/co_optogenetics/src/run_analysis.pyc'>"
       ]
      }
     ],
     "prompt_number": 47
    },
    {
     "cell_type": "code",
     "collapsed": false,
     "input": [
      "def plot_trialSet(basenames,trialInstances,variables,trials,trialLabels,labels,var_format,exp_params={},extractSpikes=True):\n",
      "    \"\"\"\n",
      "    \n",
      "    \n",
      "    \"\"\"\n",
      "    af = run_analysis.AnalyticFrame()\n",
      "    # set tstart,tstop for each experiment - technically don't have to do this, as the analysis has already been performed\n",
      "    af.update_params(exp_params)\n",
      "    # set up data structure for each experiment\n",
      "    af.populate_trialset(basenames, trialInstances, variables, trials, trialLabels, labels, var_format)\n",
      "    for exp in af.experimentset:\n",
      "        exp.load_experiments()\n",
      "        exp.collate_results()\n",
      "    return af# helper functions\n",
      "def plot_experiment(expname, expdescript, explabel, variables, exp_params={}):\n",
      "    \"\"\"\n",
      "    This assumes that the analysis (i.e. extract spikes and calculate FI/FI_bg/etc) has already been performed\n",
      "    \n",
      "    @param\n",
      "        expname\n",
      "        expdescript     array of experiment names to go in one set\n",
      "        explabel        \n",
      "        variables       array of the variable we're looping over i.e. factors\n",
      "        exp_params      dictionary of setup params for that experiment i.e. {\"tstart\":100,\"tstart_bg\":50} etc\n",
      "    \"\"\"\n",
      "    af = run_analysis.AnalyticFrame()\n",
      "    # set tstart,tstop for each experiment - technically don't have to do this, as the analysis has already been performed\n",
      "    af.update_params(exp_params)\n",
      "    # set up data structure for each experiment\n",
      "    af.populate_expset(expname,expdescript,explabel, [variables])\n",
      "    # load *results.pkl for each experiment\n",
      "    af.submenu_load()\n",
      "    # return AnalyticFrame for further plotting, etc.\n",
      "    return af\n",
      "    \n",
      " \n",
      "def plot_trialSet(basenames,trialInstances,variables,trials,trialLabels,labels,var_format,exp_params={},extractSpikes=True):\n",
      "    \"\"\"\n",
      "    \n",
      "    \n",
      "    \"\"\"\n",
      "    af = run_analysis.AnalyticFrame()\n",
      "    # set tstart,tstop for each experiment - technically don't have to do this, as the analysis has already been performed\n",
      "    af.update_params(exp_params)\n",
      "    # set up data structure for each experiment\n",
      "    af.populate_trialset(basenames, trialInstances, variables, trials, trialLabels, labels, var_format)\n",
      "    for exp in af.experimentset:\n",
      "        exp.load_experiments()\n",
      "        exp.collate_results()\n",
      "    return af\n",
      " \n",
      "    \n",
      "def convert_expData(data):\n",
      "    \"\"\"\n",
      "    Helper function to wrap the data --> af format\n",
      "    \"\"\"\n",
      "    newdata= {'tstart':data['light_on'],'tstop':data['light_on']+data['light_dur'],\n",
      "                              'tstart_bg': 50,'tstop_bg':data['light_on'],\n",
      "                              'tstart_post':data['light_on']+data['light_dur'],'tstop_post':data['tstop']}\n",
      "    return newdata"
     ],
     "language": "python",
     "metadata": {},
     "outputs": [],
     "prompt_number": 48
    },
    {
     "cell_type": "markdown",
     "metadata": {},
     "source": [
      "#### TODO:\n",
      "\n",
      "* supress stdout -->DONE: add %%capture as first line in each cell when working\n",
      "* set cmap for each plot --> DONEadded function to AnalyticFrame that allows update of cmap\n",
      "* add fitting of $log$.$H(\\theta)$ for stellate neurons --> DONE (but it's not working great)\n",
      "* add fitting of powerlaw for stellate neurons --> DONE, and works great! :)\n",
      "* define own colormaps in AF --> DONE. Using af.update_cmap(9) to use BLUE-->ORANGE\n",
      "* save plots as svg (or next best) format --> DONE\n",
      "* repeat Fig2 in vitro for same irradiance as in vivo (i.e. irr = 0.002)\n",
      "* repeat Fig2 in vivo for high irradiance to obtain gain modulation curve --> DONE. Output = NpHR.factor\n",
      "* in vitro experiments to I>=3Amp so that response is saturated --> DONE"
     ]
    },
    {
     "cell_type": "heading",
     "level": 1,
     "metadata": {},
     "source": [
      "Figure 1: Abstract neurons"
     ]
    },
    {
     "cell_type": "markdown",
     "metadata": {},
     "source": [
      "Relevant experiments:\n",
      "\n",
      "*      140305_compare_equal_branches\n",
      "\n"
     ]
    },
    {
     "cell_type": "code",
     "collapsed": false,
     "input": [
      "# Plot gain modulation for a 'good' configuration\n",
      "# 140305_compare_equal_branchesFI_gain_bg_irr0.05_tree(4, 5, 3)_distal_varyFactor_expwholewhole_FIfit_bg_140314__poly"
     ],
     "language": "python",
     "metadata": {},
     "outputs": []
    },
    {
     "cell_type": "code",
     "collapsed": false,
     "input": [
      "# Plot gain modulation for a 'bad' configuration\n",
      "# 140305_compare_equal_branchesFI_gain_bg_irr0.05_tree(2, 2, 6)_distal_varyFactor_expwholewhole_FIfit_bg_140314__poly\n",
      "# 140305_compare_equal_branchesFI_gain_bg_irr0.05_tree(2, 61, 2)_distal_varyFactor_exppartialSamepartialSame_FIfit_bg_140314__poly"
     ],
     "language": "python",
     "metadata": {},
     "outputs": []
    },
    {
     "cell_type": "code",
     "collapsed": false,
     "input": [
      "# Plot M vs branching vs polarity"
     ],
     "language": "python",
     "metadata": {},
     "outputs": []
    },
    {
     "cell_type": "code",
     "collapsed": false,
     "input": [
      "# Plot attenuation along branch of each"
     ],
     "language": "python",
     "metadata": {},
     "outputs": []
    },
    {
     "cell_type": "code",
     "collapsed": false,
     "input": [
      "# Gain modulation as a function of input location"
     ],
     "language": "python",
     "metadata": {},
     "outputs": []
    },
    {
     "cell_type": "heading",
     "level": 1,
     "metadata": {},
     "source": [
      "Figure 2: L5PC neuron"
     ]
    },
    {
     "cell_type": "markdown",
     "metadata": {},
     "source": [
      "Relevant experiments:\n",
      "\n",
      "* 130709_increasing_uneq_irradiance_factor_somacurr (iclamp at soma)\n",
      "* 130710_distalcurr_unequal_irradiance (iclamp at distal)\n",
      "* 140723_L5PC_basal_irr (in vivo)\n",
      "* 130711_illumination_unequal_irradiance (opsin only)\n",
      "* 140616_replay_input_apic (replay, also used in low-level, in vivo)\n",
      "* 1505?? (replay traces, input to both apic and basal)"
     ]
    },
    {
     "cell_type": "code",
     "collapsed": false,
     "input": [
      "\n"
     ],
     "language": "python",
     "metadata": {},
     "outputs": [],
     "prompt_number": 57
    },
    {
     "cell_type": "code",
     "collapsed": false,
     "input": [
      "#### plot shape"
     ],
     "language": "python",
     "metadata": {},
     "outputs": []
    },
    {
     "cell_type": "code",
     "collapsed": false,
     "input": [
      "# plot firing traces"
     ],
     "language": "python",
     "metadata": {},
     "outputs": []
    },
    {
     "cell_type": "code",
     "collapsed": false,
     "input": [
      "%%capture\n",
      "# plot in vitro, soma injection\n",
      "reload(run_analysis)\n",
      "expL5PC_vitroSoma = {'filebase': '130709_increasing_uneq_irradiance_factor_somacurr',\n",
      "                'light_on': 700,\n",
      "                'light_dur': 1000,\n",
      "                'tstop': 2500,\n",
      "                'current_amps': np.arange(-2.,2.01,0.1),\n",
      "                'factors': [0.125,0.25,0.5,1.,2.,4.,8.] ,\n",
      "                'irrs': [1.0]}\n",
      "description = ['whole','whole']\n",
      "irr= expL5PC_vitroSoma['irrs'][0]\n",
      "exp_descript = ['_irr%.1f'%(irr)+'_factor%.2f'%(f)+'_Isoma%.1f_'+'NpHR_%s_ChR_%s'%(description[1],description[0]) for f in expL5PC_vitroSoma['factors']]\n",
      "exp_labels = ['%g'%f for f in expL5PC_vitroSoma['factors']]\n",
      "af = plot_experiment(expL5PC_vitroSoma['filebase'],exp_descript,exp_labels,expL5PC_vitroSoma['current_amps'],convert_expData(expL5PC_vitroSoma));\n",
      "af.update_cmap(10)\n",
      "af.submenu_plot(5, 'Fig2_L5PC_vitroSoma_'+expL5PC_vitroSoma['filebase']+'FI_gain_irr%.1f_varyFactor_exp%s%s_'%(irr,description[0],description[1]))"
     ],
     "language": "python",
     "metadata": {},
     "outputs": [],
     "prompt_number": 35
    },
    {
     "cell_type": "code",
     "collapsed": false,
     "input": [
      "1010%%capture\n",
      "# plot in vitro, apic injection\n",
      "\n",
      "# NB: Distal point = 620 from soma\n",
      "\n",
      "# NOTE: there was a FU when naming this experiment, so the generating script is: 130710_distalcurrent\n",
      "# BUT the expbase is 130710_increasing_uneq_irradiance_factor_somacurr\n",
      "expL5PC_vitroDistal = {'filebase': '130710_increasing_uneq_irradiance_factor_somacurr',\n",
      "                'light_on': 700,\n",
      "                'light_dur': 1000,\n",
      "                'tstop': 2500,\n",
      "                'current_amps': np.arange(-2.,2.01,0.1),\n",
      "                'factors': [0.125,0.25,0.5,1.,2.,4.,8.] ,\n",
      "                'irrs': [1.0]}\n",
      "description = ['whole','whole']\n",
      "irr= expL5PC_vitroDistal['irrs'][0]\n",
      "exp_descript = ['_irr%.1f'%(irr)+'_factor%.2f'%(f)+'_Idist%.1f_'+'NpHR_%s_ChR_%s'%(description[1],description[0]) for f in expL5PC_vitroDistal['factors']]\n",
      "exp_labels = ['%g'%f for f in expL5PC_vitroDistal['factors']]\n",
      "af = plot_experiment(expL5PC_vitroDistal['filebase'],exp_descript,exp_labels,expL5PC_vitroDistal['current_amps'],convert_expData(expL5PC_vitroDistal));\n",
      "af.update_cmap(10)\n",
      "af.submenu_plot(5, 'Fig2_L5PC_vitroDistal_'+expL5PC_vitroDistal['filebase']+'FI_gain_irr%.1f_varyFactor_exp%s%s_'%(irr,description[0],description[1]))"
     ],
     "language": "python",
     "metadata": {},
     "outputs": [],
     "prompt_number": 32
    },
    {
     "cell_type": "code",
     "collapsed": false,
     "input": [
      "%%capture\n",
      "# plot in vivo\n",
      "\n",
      "L5PCdata = {'filebase': '140723_L5PC_basal_irr_ChRonly',\n",
      "                'light_on': 1050,\n",
      "                'light_dur': 1000,\n",
      "                'tstop': 2100,\n",
      "                'freqs': range(2,15,2)+range(15,151,5),\n",
      "                'Js':[2.],\n",
      "                'nsite_range': [80],\n",
      "                'factors': [0.001,0.125,0.25,0.5,0.75,1.] ,\n",
      "                'irrs': [0.002]}\n",
      "\n",
      "description = ['whole','whole']\n",
      "\n",
      "for irr in L5PCdata['irrs']:\n",
      "    exp_descript = ['irr%.3f_'%irr+'factor%.2f_'%f+'freq%g'+'_J%g_nsites%g'%(L5PCdata['Js'][0],L5PCdata['nsite_range'][0])+'_NpHR_%s_ChR_%s'%(description[1],description[0]) for f in L5PCdata['factors']]\n",
      "    exp_labels = ['%.2f'%f for f in L5PCdata['factors']]\n",
      "    af = plot_experiment(L5PCdata['filebase'],exp_descript,exp_labels,L5PCdata['freqs'],convert_expData(L5PCdata));\n",
      "    af.update_cmap(10)\n",
      "    af.submenu_plot(10, 'Fig2_L5PC_vivo_'+L5PCdata['filebase']+'FI_gain_irr%.1f_varyFactor_exp%s%s_'%(irr,description[0],description[1]))"
     ],
     "language": "python",
     "metadata": {},
     "outputs": [],
     "prompt_number": 33
    },
    {
     "cell_type": "code",
     "collapsed": false,
     "input": [
      "%%capture\n",
      "# plot illumination only\n",
      "\n",
      "expL5PC_light = {'filebase': '130711_illumination_uneq_irradiance',\n",
      "                'light_on': 700,\n",
      "                'light_dur': 1000,\n",
      "                'tstop': 2500,\n",
      "                'current_amps': np.arange(-2.,2.01,0.1),\n",
      "                'factors': [0.125,0.25,0.5,1.,2.,4.,8.] ,\n",
      "                'irrs': np.arange(0,5.1,0.5)}\n",
      "\n",
      "explist = [['whole','whole'],['apical','apical']] \n",
      "for (i,expli) in enumerate(explist):\n",
      "    exp_descript = ['_irr%.1f'+'_factor%.2f'%(factor)+'_NpHR_%s_ChR_%s'%(expli[1],expli[0]) for factor in expL5PC_light['factors']]\n",
      "    exp_labels = ['%g'%f for f in expL5PC_light['factors']]\n",
      "    af = plot_experiment(expL5PC_light['filebase'],exp_descript,exp_labels,expL5PC_light['irrs'],convert_expData(expL5PC_light));\n",
      "    af.update_cmap(10)\n",
      "    if i==0:\n",
      "        af.submenu_plot(5, 'Fig2_L5PC_light_'+L5PCdata['filebase']+'FI_gain_varyFactor_exp%s%s_'%(expli[0],expli[1]))\n",
      "    else:\n",
      "        af.submenu_plot(5, 'Fig5_L5PC_light_partial'+L5PCdata['filebase']+'FI_gain_varyFactor_exp%s%s_'%(expli[0],expli[1]))\n",
      "        \n"
     ],
     "language": "python",
     "metadata": {},
     "outputs": [],
     "prompt_number": 34
    },
    {
     "cell_type": "code",
     "collapsed": false,
     "input": [],
     "language": "python",
     "metadata": {},
     "outputs": []
    },
    {
     "cell_type": "markdown",
     "metadata": {},
     "source": [
      "# Figure 3: Stellate\n",
      "\n",
      "Relevant experiments:\n",
      "\n",
      "* 140408_scan_SHstell (in vitro, and in vivo)"
     ]
    },
    {
     "cell_type": "code",
     "collapsed": false,
     "input": [
      "## Common data\n",
      "stell_data = {'filebase': '140408_scan_SHstell',\n",
      "               'light_on': 700,\n",
      "                'light_dur': 1000,\n",
      "                'tstop': 2700,\n",
      "                'current_amps': np.arange(-1.,3.1,0.2),\n",
      "                'freqs': range(10,201,10),\n",
      "                'Js':[2.],\n",
      "                'nsite_range': [40],\n",
      "                'stimlocs': ['stim2','stim3'],\n",
      "                #'factors': [ 0.0625, 0.125,0.25,0.375,0.5,0.75,1.,1.5,2.],\n",
      "                'factors': [0.0625,0.125, 0.25,0.375,0.5,0.75,1.,1.5,2.],\n",
      "                'irrs': [0.007,0.012]}"
     ],
     "language": "python",
     "metadata": {},
     "outputs": [],
     "prompt_number": 49
    },
    {
     "cell_type": "code",
     "collapsed": false,
     "input": [
      "# plot shape\n",
      "\n",
      "# plot - find location of stim2 = select_section_posn_bydistance for [100.3,100.4]\n",
      "# while stim3 = select_section_posn_bydistance for [304,305]"
     ],
     "language": "python",
     "metadata": {},
     "outputs": [],
     "prompt_number": 50
    },
    {
     "cell_type": "code",
     "collapsed": false,
     "input": [
      "%%capture\n",
      "reload(run_analysis)\n",
      "# plot in vitro\n",
      "description = ['whole','whole']\n",
      "stimloc = stell_data['stimlocs'][0]\n",
      "for irr in stell_data['irrs']:\n",
      "    exp_descript = ['irr%.3f_'%irr+'factor%.2f_'%f+'I%.2f'+'_stimloc_%s'%(stimloc)+'_NpHR_%s_ChR_%s'%(description[1],description[0]) for f in stell_data['factors']]\n",
      "    exp_labels = ['%.3f'%f for f in stell_data['factors']]\n",
      "    af = plot_experiment(stell_data['filebase'],exp_descript,exp_labels,stell_data['current_amps'],convert_expData(stell_data));\n",
      "    af.update_cmap(9)\n",
      "    af.submenu_plot(5, 'Fig3_stellate_vitro_'+stell_data['filebase']+'FI_gain_irr%.3f_varyFactor_exp%s%s_'%(irr,description[0],description[1]))\n",
      "    #af.submenu_plot(0, 'Fig3_stellate_vitro_'+stell_data['filebase']+'FI_gain_irr%.3f_varyFactor_exp%s%s_'%(irr,description[0],description[1]))\n",
      "    "
     ],
     "language": "python",
     "metadata": {},
     "outputs": [],
     "prompt_number": 51
    },
    {
     "cell_type": "code",
     "collapsed": false,
     "input": [
      "for irr in stell_data['irrs']:%%capture\n",
      "# plot in vivo\n",
      "description = ['whole','whole']\n",
      "for irr in stell_data['irrs']:\n",
      "    exp_descript = ['irr%.3f_'%irr+'factor%.2f_'%f+'freq%g'+'_J%g'%(2.)+'_NpHR_%s_ChR_%s'%(description[1],description[0]) for f in stell_data['factors']]\n",
      "    exp_labels = ['%.3f'%f for f in stell_data['factors']]\n",
      "    af = plot_experiment(stell_data['filebase'],exp_descript,exp_labels,stell_data['freqs'],convert_expData(stell_data));\n",
      "    af.update_cmap(9)\n",
      "    af.submenu_plot(5, 'Fig3_stellate_vivo_'+stell_data['filebase']+'FI_gain_irr%.3f_varyFactor_exp%s%s_'%(irr,description[0],description[1]))\n",
      "    af.submenu_plot(10, 'Fig3_stellate_vivo_bg_'+stell_data['filebase']+'FI_gain_irr%.3f_varyFactor_exp%s%s_'%(irr,description[0],description[1]))\n"
     ],
     "language": "python",
     "metadata": {},
     "outputs": [],
     "prompt_number": 52
    },
    {
     "cell_type": "code",
     "collapsed": false,
     "input": [
      "# plot voltage traces"
     ],
     "language": "python",
     "metadata": {},
     "outputs": []
    },
    {
     "cell_type": "code",
     "collapsed": false,
     "input": [
      "%irr%%capture\n",
      "# plot for multiple trials - in vivo:\n",
      "basename = \"150616_n50_stellate\"\n",
      "factors = [ 0.0625, 0.125,0.25,0.375,0.5,0.75,1.,1.5,2.]\n",
      "for irr in stell_data['irrs']:\n",
      "    instances = [\"irr%.3f\"%irr+\"_factor%.2f\"%factor+\"_freq%g_J2_trial%s_NpHR_whole_ChR_whole\" for factor in factors]\n",
      "    variables = range(10,201,10)\n",
      "    trials = range(5)\n",
      "    trialLabels = ['%.2f'%f for f in factors]\n",
      "    labels = [\"freq%g\"%f for f in variables]\n",
      "    var_format = '%g'\n",
      "    af = plot_trialSet(basename,instances,stell_data['freqs'],trials,trialLabels,labels,var_format)\n",
      "    af.update_cmap(9)\n",
      "    af.submenu_plot(10, 'Fig3_stellate_vivo_bg_trials'+'FIbg_gain_irr%.3f_varyFactor_trialled_invivo_exp%s%s_'%(irr,description[0],description[1])) \n",
      "   "
     ],
     "language": "python",
     "metadata": {},
     "outputs": [],
     "prompt_number": 54
    },
    {
     "cell_type": "code",
     "collapsed": false,
     "input": [],
     "language": "python",
     "metadata": {},
     "outputs": []
    },
    {
     "cell_type": "markdown",
     "metadata": {},
     "source": [
      "# Figure 4: Partial illumination in abstract neurons\n",
      "\n",
      "Relevant experiments:\n",
      "\n",
      "* ...?"
     ]
    },
    {
     "cell_type": "code",
     "collapsed": false,
     "input": [
      "# figure for partial illumination illustration"
     ],
     "language": "python",
     "metadata": {},
     "outputs": []
    },
    {
     "cell_type": "code",
     "collapsed": false,
     "input": [
      "# plot voltage attenuation along one trace when one branch is unilluminated"
     ],
     "language": "python",
     "metadata": {},
     "outputs": []
    },
    {
     "cell_type": "code",
     "collapsed": false,
     "input": [
      "# plot voltage attenuation along one trace when two branches are unilluminated"
     ],
     "language": "python",
     "metadata": {},
     "outputs": []
    },
    {
     "cell_type": "code",
     "collapsed": false,
     "input": [
      "# plot IF response for partial illumination when one branch is unilluminated"
     ],
     "language": "python",
     "metadata": {},
     "outputs": []
    },
    {
     "cell_type": "code",
     "collapsed": false,
     "input": [
      "# plot IF response for partial illumination when two branches-multiple branches are unilluminated"
     ],
     "language": "python",
     "metadata": {},
     "outputs": []
    },
    {
     "cell_type": "markdown",
     "metadata": {},
     "source": [
      "# Figure 5: Partial and graded illumination in L5PC\n",
      "\n",
      "Relevant experiments:\n",
      "\n",
      "* partial illumination: 130710_increasing_uneq_irradiance_factor_somacurr\n",
      "* graded illumination:  150324_partialIllumination_dualOpsin"
     ]
    },
    {
     "cell_type": "code",
     "collapsed": false,
     "input": [
      "figure# figure for partial illumination illustration"
     ],
     "language": "python",
     "metadata": {},
     "outputs": []
    },
    {
     "cell_type": "code",
     "collapsed": false,
     "input": [
      "# plot IF response response when only apical dendrites are illuminated i.e. no driving current\n",
      "# DONE: see Figure 2, illumination only"
     ],
     "language": "python",
     "metadata": {},
     "outputs": [],
     "prompt_number": 72
    },
    {
     "cell_type": "code",
     "collapsed": false,
     "input": [
      "130710_increasing_uneq_irradiance_factor_somacurr130710_increasing_uneq_irradiance_factor_somacurr%%capture\n",
      "# plot in vitro, apic injection\n",
      "\n",
      "# NOTE: there was a FU when naming this experiment, so the generating script is: 130710_distalcurrent\n",
      "# BUT the expbase is 130710_increasing_uneq_irradiance_factor_somacurr\n",
      "expL5PC_vitroDistal = {'filebase': '130710_increasing_uneq_irradiance_factor_somacurr',\n",
      "                'light_on': 700,\n",
      "                'light_dur': 1000,\n",
      "                'tstop': 2500,\n",
      "                'current_amps': np.arange(-2.,2.01,0.1),\n",
      "                'factors': [0.125,0.25,0.5,1.,2.,4.,8.] ,\n",
      "                'irrs': [1.0]}\n",
      "description = ['apical','apical']\n",
      "irr= expL5PC_vitroDistal['irrs'][0]\n",
      "exp_descript = ['_irr%.1f'%(irr)+'_factor%.2f'%(f)+'_Idist%.1f_'+'NpHR_%s_ChR_%s'%(description[1],description[0]) for f in expL5PC_vitroDistal['factors']]\n",
      "exp_labels = ['%g'%f for f in expL5PC_vitroDistal['factors']]\n",
      "af = plot_experiment(expL5PC_vitroDistal['filebase'],exp_descript,exp_labels,expL5PC_vitroDistal['current_amps'],convert_expData(expL5PC_vitroDistal));\n",
      "af.update_cmap(1)\n",
      "af.submenu_plot(5, 'Fig5_L5PC_vitroDistalApical_'+expL5PC_vitroDistal['filebase']+'FI_gain_irr%.1f_varyFactor_exp%s%s_'%(irr,description[0],description[1]))"
     ],
     "language": "python",
     "metadata": {},
     "outputs": [],
     "prompt_number": 91
    },
    {
     "cell_type": "code",
     "collapsed": false,
     "input": [
      "150324_partialIllumination_dualOpsin150324_partialIllumination_dualOpsin150324_partialIllumination_dualOpsin%%capture\n",
      "# plot trend --> creates 9 plots for irr and factors for graded illumination\n",
      "expbase = '150324_partialIllumination_dualOpsin'\n",
      "reload(run_analysis)\n",
      "tstop = 1500\n",
      "light_dur = 1100\n",
      "light_on = 200\n",
      "irrs = [0.01,0.02,0.05]\n",
      "factors = [0.1,0.2,0.5]\n",
      "gradients = np.arange(0.0,0.00101,0.0001)\n",
      "#gradients = np.arange(0.0,0.00101,0.0002)\n",
      "for irr in irrs:\n",
      "    for fac in factors:\n",
      "        af = run_analysis.AnalyticFrame()\n",
      "        af.update_params({'label_format':'_irr%.2f_factor%g_ChRgrad%.4f_NpHRgrad%.4f_NpHR_whole_ChR_whole'})\n",
      "        af.update_params({'tstart':light_on,'tstop':light_on+light_dur,\n",
      "                              'tstart_bg': 0,'tstop_bg':light_on,\n",
      "                              'tstart_post':light_on+light_dur,'tstop_post':tstop})\n",
      "        \n",
      "        exp_comp_list = [['_irr%.2f'%irr+'_factor%g'%fac+'_ChRgrad%.4f'+'_NpHRgrad%.4f_NpHR_whole_ChR_whole','..']]\n",
      "        expss = [ec[0] for ec in exp_comp_list]\n",
      "        explabels = [ec[1] for ec in exp_comp_list]\n",
      "        af.populate_expset(expbase,expss,explabels, [gradients,gradients])\n",
      "        af.submenu_load()\n",
      "        af.submenu_print()\n",
      "        labels = ['%.1f'%(g*1000) for g in gradients]\n",
      "        af.update_cmap(12)\n",
      "        af.submenu_plot(11, 'Fig5_2Dtrend_FI_gain_irr%.2f_factor%g_varyGradients'%(irr,fac),axestitles=['NpHR gradient (a.u.)','ChR2 gradient (a.u.)'],axeslabels=[labels,labels],plottitle='Graded illumination (irr=%.2f, E:I opsin factor=%.1f)'%(irr,fac))\n",
      "        "
     ],
     "language": "python",
     "metadata": {},
     "outputs": [],
     "prompt_number": 63
    },
    {
     "cell_type": "code",
     "collapsed": false,
     "input": [],
     "language": "python",
     "metadata": {},
     "outputs": []
    },
    {
     "cell_type": "markdown",
     "metadata": {},
     "source": [
      "## Figure 6: Subthreshold / smooth transition\n",
      "\n",
      "Relevant experiments:\n",
      "\n",
      "* 140616_replay_input_apic (replay traces, in vivo)\n",
      "* 1505?? (replay traces, input to both apic and basal)"
     ]
    },
    {
     "cell_type": "code",
     "collapsed": false,
     "input": [],
     "language": "python",
     "metadata": {},
     "outputs": []
    },
    {
     "cell_type": "code",
     "collapsed": false,
     "input": [],
     "language": "python",
     "metadata": {},
     "outputs": []
    },
    {
     "cell_type": "code",
     "collapsed": false,
     "input": [],
     "language": "python",
     "metadata": {},
     "outputs": []
    }
   ],
   "metadata": {}
  }
 ]
}