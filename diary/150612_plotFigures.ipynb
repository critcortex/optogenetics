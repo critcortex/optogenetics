{
 "cells": [
  {
   "cell_type": "markdown",
   "metadata": {
    "collapsed": true
   },
   "source": [
    "#Notebook purpose:   \n",
    "\n",
    "###plot all the figures to be used in the computational optogenetics paper"
   ]
  },
  {
   "cell_type": "markdown",
   "metadata": {},
   "source": [
    "# Helper functions"
   ]
  },
  {
   "cell_type": "code",
   "execution_count": 1,
   "metadata": {
    "collapsed": false
   },
   "outputs": [
    {
     "name": "stdout",
     "output_type": "stream",
     "text": [
      " ----------------- Dependency Warning ---------------------\n",
      "** psyco ** package is not installed. \n",
      "To have functions using psyco please install the package.\n",
      "website : http://psyco.sourceforge.net/\n",
      "\n",
      "/home/sjarvis1/workspace/co_optogenetics/diary\n",
      "/home/sjarvis1/workspace/co_optogenetics\n"
     ]
    },
    {
     "name": "stderr",
     "output_type": "stream",
     "text": [
      "/usr/lib/pymodules/python2.7/matplotlib/__init__.py:758: UserWarning: Found matplotlib configuration in ~/.matplotlib/. To conform with the XDG base directory standard, this configuration location has been deprecated on Linux, and the new location is now '/home/sjarvis1/.config'/matplotlib/. Please move your configuration there to ensure that matplotlib will continue to find it in the future.\n",
      "  _get_xdg_config_dir())\n"
     ]
    },
    {
     "data": {
      "text/plain": [
       "<module 'run_analysis' from '/home/sjarvis1/workspace/co_optogenetics/src/run_analysis.pyc'>"
      ]
     },
     "execution_count": 1,
     "metadata": {},
     "output_type": "execute_result"
    }
   ],
   "source": [
    "# import:\n",
    "import run_analysis\n",
    "import os\n",
    "print os.getcwd()\n",
    "os.chdir('/home/sjarvis1/workspace/co_optogenetics')\n",
    "print os.getcwd()\n",
    "import numpy as np\n",
    "import math\n",
    "%load_ext autoreload\n",
    "%autoreload 2\n",
    "reload(run_analysis)"
   ]
  },
  {
   "cell_type": "code",
   "execution_count": 2,
   "metadata": {
    "collapsed": false
   },
   "outputs": [],
   "source": [
    "def plot_trialSet(basenames,trialInstances,variables,trials,trialLabels,labels,var_format,exp_params={},extractSpikes=True):\n",
    "    \"\"\"\n",
    "    \n",
    "    \n",
    "    \"\"\"\n",
    "    af = run_analysis.AnalyticFrame()\n",
    "    # set tstart,tstop for each experiment - technically don't have to do this, as the analysis has already been performed\n",
    "    af.update_params(exp_params)\n",
    "    # set up data structure for each experiment\n",
    "    af.populate_trialset(basenames, trialInstances, variables, trials, trialLabels, labels, var_format)\n",
    "    for exp in af.experimentset:\n",
    "        exp.load_experiments()\n",
    "        exp.collate_results()\n",
    "    return af# helper functions\n",
    "\n",
    "def plot_experiment(expname, expdescript, explabel, variables, exp_params={}):\n",
    "    \"\"\"\n",
    "    This assumes that the analysis (i.e. extract spikes and calculate FI/FI_bg/etc) has already been performed\n",
    "    \n",
    "    @param\n",
    "        expname\n",
    "        expdescript     array of experiment names to go in one set\n",
    "        explabel        \n",
    "        variables       array of the variable we're looping over i.e. factors\n",
    "        exp_params      dictionary of setup params for that experiment i.e. {\"tstart\":100,\"tstart_bg\":50} etc\n",
    "    \"\"\"\n",
    "    af = run_analysis.AnalyticFrame()\n",
    "    # set tstart,tstop for each experiment - technically don't have to do this, as the analysis has already been performed\n",
    "    af.update_params(exp_params)\n",
    "    # set up data structure for each experiment\n",
    "    af.populate_expset(expname,expdescript,explabel, [variables])\n",
    "    # load *results.pkl for each experiment\n",
    "    af.submenu_load()\n",
    "    # return AnalyticFrame for further plotting, etc.\n",
    "    return af\n",
    "    \n",
    "\"\"\" \n",
    "def plot_trialSet(basenames,trialInstances,variables,trials,trialLabels,labels,var_format,exp_params={},extractSpikes=True):\n",
    "    \"\"\n",
    "    \n",
    "    #asdasd\n",
    "    \"\"\n",
    "    af = run_analysis.AnalyticFrame()\n",
    "    # set tstart,tstop for each experiment - technically don't have to do this, as the analysis has already been performed\n",
    "    af.update_params(exp_params)\n",
    "    # set up data structure for each experiment\n",
    "    af.populate_trialset(basenames, trialInstances, variables, trials, trialLabels, labels, var_format)\n",
    "    for exp in af.experimentset:\n",
    "        exp.load_experiments()\n",
    "        exp.collate_results()\n",
    "    return af\n",
    "\"\"\"\n",
    "    \n",
    "def convert_expData(data):\n",
    "    \"\"\"\n",
    "    Helper function to wrap the data --> af format\n",
    "    \"\"\"\n",
    "    newdata= {'tstart':data['light_on'],'tstop':data['light_on']+data['light_dur'],\n",
    "                              'tstart_bg': 50,'tstop_bg':data['light_on'],\n",
    "                              'tstart_post':data['light_on']+data['light_dur'],'tstop_post':data['tstop']}\n",
    "    return newdata\n",
    "\n",
    "\n",
    "def run_exp(expname, expdescript, explabel, variables, exp_params={}):\n",
    "    \"\"\"\n",
    "    Helper function to briefly run new files\n",
    "    \"\"\"\n",
    "    af = run_analysis.AnalyticFrame()\n",
    "    # set tstart,tstop for each experiment - technically don't have to do this, as the analysis has already been performed\n",
    "    af.update_params(exp_params)\n",
    "    # set up data structure for each experiment\n",
    "    af.populate_expset(expname,expdescript,explabel, [variables])\n",
    "    \n",
    "    af.submenu_extractSpikes()\n",
    "    af.submenu_save()\n",
    "    return af"
   ]
  },
  {
   "cell_type": "markdown",
   "metadata": {},
   "source": [
    "#### TODO:\n",
    "\n",
    "* supress stdout -->DONE: add %%capture as first line in each cell when working\n",
    "* set cmap for each plot --> DONEadded function to AnalyticFrame that allows update of cmap\n",
    "* add fitting of $log$.$H(\\theta)$ for stellate neurons --> DONE (but it's not working great)\n",
    "* add fitting of powerlaw for stellate neurons --> DONE, and works great! :)\n",
    "* define own colormaps in AF --> DONE. Using af.update_cmap(9) to use BLUE-->ORANGE\n",
    "* save plots as svg (or next best) format --> DONE\n",
    "* repeat Fig2 in vitro for same irradiance as in vivo (i.e. irr = 0.002)\n",
    "* repeat Fig2 in vivo for high irradiance to obtain gain modulation curve --> DONE. Output = NpHR.factor\n",
    "* in vitro experiments to I>=3Amp so that response is saturated --> DONE"
   ]
  },
  {
   "cell_type": "markdown",
   "metadata": {},
   "source": [
    "# Figure 1: Abstract neurons"
   ]
  },
  {
   "cell_type": "markdown",
   "metadata": {},
   "source": [
    "Relevant experiments:\n",
    "\n",
    "*      140305_compare_equal_branches\n",
    "\n"
   ]
  },
  {
   "cell_type": "code",
   "execution_count": 567,
   "metadata": {
    "collapsed": true
   },
   "outputs": [],
   "source": [
    "light_on = 1000\n",
    "light_dur = 1500\n",
    "tstop = 3500\n",
    "factors = [0.5,2,1.5,1.,0.75,1.25]\n",
    "factors.sort()\n",
    "exp = 'whole'\n",
    "Js = [2.]\n",
    "freqs = range(10,101,10)\n",
    "descript = 'distal'\n",
    "\n",
    "\n",
    "def generate_abstract_FI(tree):\n",
    "    af = run_analysis.AnalyticFrame()\n",
    "    af.update_params({'tstart':light_on,'tstop':light_on+light_dur, \n",
    "                     'tstart_bg': 0,'tstop_bg':light_on,\n",
    "                     'tstart_post':light_on+light_dur,'tstop_post':tstop})\n",
    "\n",
    "\n",
    "\n",
    "    exp_comp_list = [['irr0.05'+'_factor%.2f'%(factor)+'_nb%g_ns%g_nl%g_'%(tree[0],tree[1],tree[2])+'spikes%g'+'_loc%g_J%.1f'%(tree[2]-1,Js[0])+'_NpHR_%s_ChR_%s'%(exp,exp),'%g'%factor] for factor in factors]\n",
    "    print exp_comp_list\n",
    "\n",
    "    expss = [ec[0] for ec in exp_comp_list]\n",
    "    explabels = [ec[1] for ec in exp_comp_list]\n",
    "    af.populate_expset(expbase,expss,explabels,[freqs])\n",
    "\n",
    "\n",
    "    af.update_cmap(9)\n",
    "    af.submenu_load()\n",
    "    af.submenu_print()\n",
    "    #af.submenu_plot(5, expbase+'FI_gain_irr%.2f_tree%s_varyFactor_exp%s%s_'%(0.05,tree,exp,exp))\n",
    "    #af.submenu_plot(0, expbase+'FI_gain_irr%.2f_tree%s_varyFactor_exp%s%s_'%(0.05,tree,exp,exp))\n",
    "    af.submenu_plot(10, expbase+'FI_gain_bg_irr%.2f_tree%s_%s_varyFactor_exp%s%s_'%(0.05,tree,descript,exp,exp))\n",
    "\n",
    "\n"
   ]
  },
  {
   "cell_type": "code",
   "execution_count": 568,
   "metadata": {
    "collapsed": false
   },
   "outputs": [],
   "source": [
    "%%capture\n",
    "# Plot gain modulation for a 'good' configuration\n",
    "# 140305_compare_equal_branchesFI_gain_bg_irr0.05_tree(4, 5, 3)_distal_varyFactor_expwholewhole_FIfit_bg_140314__poly\n",
    "\n",
    "expbase = '140305_compare_equal_branches'\n",
    "tree = (4, 5, 3)\n",
    "generate_abstract_FI(tree)\n"
   ]
  },
  {
   "cell_type": "code",
   "execution_count": 10,
   "metadata": {
    "collapsed": false
   },
   "outputs": [
    {
     "ename": "NameError",
     "evalue": "name 'light_on' is not defined",
     "output_type": "error",
     "traceback": [
      "\u001b[1;31m---------------------------------------------------------------------------\u001b[0m",
      "\u001b[1;31mNameError\u001b[0m                                 Traceback (most recent call last)",
      "\u001b[1;32m<ipython-input-10-108ca55391a9>\u001b[0m in \u001b[0;36m<module>\u001b[1;34m()\u001b[0m\n\u001b[0;32m      6\u001b[0m \u001b[1;33m\u001b[0m\u001b[0m\n\u001b[0;32m      7\u001b[0m \u001b[0maf\u001b[0m \u001b[1;33m=\u001b[0m \u001b[0mrun_analysis\u001b[0m\u001b[1;33m.\u001b[0m\u001b[0mAnalyticFrame\u001b[0m\u001b[1;33m(\u001b[0m\u001b[1;33m)\u001b[0m\u001b[1;33m\u001b[0m\u001b[0m\n\u001b[1;32m----> 8\u001b[1;33m af.update_params({'tstart':light_on,'tstop':light_on+light_dur,\n\u001b[0m\u001b[0;32m      9\u001b[0m                   \u001b[1;34m'tstart_bg'\u001b[0m\u001b[1;33m:\u001b[0m \u001b[1;36m0\u001b[0m\u001b[1;33m,\u001b[0m\u001b[1;34m'tstop_bg'\u001b[0m\u001b[1;33m:\u001b[0m\u001b[0mlight_on\u001b[0m\u001b[1;33m,\u001b[0m\u001b[1;33m\u001b[0m\u001b[0m\n\u001b[0;32m     10\u001b[0m                   'tstart_post':light_on+light_dur,'tstop_post':tstop})\n",
      "\u001b[1;31mNameError\u001b[0m: name 'light_on' is not defined"
     ]
    }
   ],
   "source": [
    "%%capture \n",
    "exp = 'whole'\n",
    "tree = (4, 5, 3)\n",
    "factors = [0.5,0.75,1.,1.25,1.5,2.]\n",
    "freqs = range(10,101,10)\n",
    "\n",
    "\n",
    "af = run_analysis.AnalyticFrame()\n",
    "af.update_params({'tstart':light_on,'tstop':light_on+light_dur,\n",
    "                  'tstart_bg': 0,'tstop_bg':light_on,\n",
    "                  'tstart_post':light_on+light_dur,'tstop_post':tstop})\n",
    "\n",
    "descript = 'soma'\n",
    "exp_comp_list = [['irr0.05'+'_factor%.2f'%(factor)+'_nb%g_ns%g_nl%g_'%(tree[0],tree[1],tree[2])+'spikes%g'+'_loc%s_J%.1f'%('soma',Js[0])+'_NpHR_%s_ChR_%s'%(exp,exp),'%g'%factor] for factor in factors]\n",
    "print exp_comp_list\n",
    "\n",
    "expss = [ec[0] for ec in exp_comp_list]\n",
    "explabels = [ec[1] for ec in exp_comp_list]\n",
    "af.populate_expset(expbase,expss,explabels,[freqs])\n",
    "af.submenu_extractSpikes()\n",
    "\"\"\"\n",
    "\n",
    "af.submenu_runFI()\n",
    "for exp in af.experimentset:\n",
    "    exp.calculate_responses('FI')\n",
    "    exp.calculate_responses('FI_bg')\n",
    "    exp.calculate_responses('FI_post')\n",
    "af.submenu_save()\n",
    "\n",
    "\"\"\"\n",
    "af.submenu_load()\n",
    "#af.submenu_print()\n",
    "af.submenu_plot(5, 'Fig1_somaInj_nb%g_ns%g_nl%g_'%(tree[0],tree[1],tree[2])+'_inj%s'%(descript))\n",
    "#af.submenu_plot(0, self.expbase+'FI_gain_irr%.2f_tree%s_varyFactor_exp%s%s_'%(0.05,tree,exp[0],exp[1]))\n",
    "af.submenu_plot(10,'Fig1_somaInjbg_nb%g_ns%g_nl%g_'%(tree[0],tree[1],tree[2])+'inj%s'%(descript))"
   ]
  },
  {
   "cell_type": "code",
   "execution_count": 9,
   "metadata": {
    "collapsed": false
   },
   "outputs": [
    {
     "ename": "NameError",
     "evalue": "name 'generate_abstract_FI' is not defined",
     "output_type": "error",
     "traceback": [
      "\u001b[1;31m---------------------------------------------------------------------------\u001b[0m",
      "\u001b[1;31mNameError\u001b[0m                                 Traceback (most recent call last)",
      "\u001b[1;32m<ipython-input-9-7030207351be>\u001b[0m in \u001b[0;36m<module>\u001b[1;34m()\u001b[0m\n\u001b[0;32m      5\u001b[0m \u001b[0mexpbase\u001b[0m \u001b[1;33m=\u001b[0m \u001b[1;34m'140305_compare_equal_branches'\u001b[0m\u001b[1;33m\u001b[0m\u001b[0m\n\u001b[0;32m      6\u001b[0m \u001b[0mtree\u001b[0m \u001b[1;33m=\u001b[0m \u001b[1;33m(\u001b[0m\u001b[1;36m2\u001b[0m\u001b[1;33m,\u001b[0m \u001b[1;36m2\u001b[0m\u001b[1;33m,\u001b[0m \u001b[1;36m6\u001b[0m\u001b[1;33m)\u001b[0m\u001b[1;33m\u001b[0m\u001b[0m\n\u001b[1;32m----> 7\u001b[1;33m \u001b[0mgenerate_abstract_FI\u001b[0m\u001b[1;33m(\u001b[0m\u001b[0mtree\u001b[0m\u001b[1;33m)\u001b[0m\u001b[1;33m\u001b[0m\u001b[0m\n\u001b[0m\u001b[0;32m      8\u001b[0m \u001b[0mtree\u001b[0m \u001b[1;33m=\u001b[0m \u001b[1;33m(\u001b[0m\u001b[1;36m2\u001b[0m\u001b[1;33m,\u001b[0m \u001b[1;36m61\u001b[0m\u001b[1;33m,\u001b[0m \u001b[1;36m2\u001b[0m\u001b[1;33m)\u001b[0m\u001b[1;33m\u001b[0m\u001b[0m\n\u001b[0;32m      9\u001b[0m \u001b[0mgenerate_abstract_FI\u001b[0m\u001b[1;33m(\u001b[0m\u001b[0mtree\u001b[0m\u001b[1;33m)\u001b[0m\u001b[1;33m\u001b[0m\u001b[0m\n",
      "\u001b[1;31mNameError\u001b[0m: name 'generate_abstract_FI' is not defined"
     ]
    }
   ],
   "source": [
    "%%capture\n",
    "# Plot gain modulation for a 'bad' configuration\n",
    "# 140305_compare_equal_branchesFI_gain_bg_irr0.05_tree(2, 2, 6)_distal_varyFactor_expwholewhole_FIfit_bg_140314__poly\n",
    "# 140305_compare_equal_branchesFI_gain_bg_irr0.05_tree(2, 61, 2)_distal_varyFactor_exppartialSamepartialSame_FIfit_bg_140314__poly\n",
    "\n",
    "expbase = '140305_compare_equal_branches'\n",
    "tree = (2, 2, 6)\n",
    "generate_abstract_FI(tree)\n",
    "tree = (2, 61, 2)\n",
    "generate_abstract_FI(tree)\n"
   ]
  },
  {
   "cell_type": "code",
   "execution_count": 11,
   "metadata": {
    "collapsed": false
   },
   "outputs": [],
   "source": [
    "#expbase = '140305_compare_equal_branches'\n",
    "#tree = (1,1,124)\n",
    "#generate_abstract_FI(tree)"
   ]
  },
  {
   "cell_type": "code",
   "execution_count": null,
   "metadata": {
    "collapsed": false
   },
   "outputs": [],
   "source": [
    "# Plot M vs branching vs polarity"
   ]
  },
  {
   "cell_type": "code",
   "execution_count": null,
   "metadata": {
    "collapsed": false
   },
   "outputs": [],
   "source": [
    "# Plot attenuation along branch of each"
   ]
  },
  {
   "cell_type": "code",
   "execution_count": null,
   "metadata": {
    "collapsed": false
   },
   "outputs": [],
   "source": [
    "# Gain modulation as a function of input location"
   ]
  },
  {
   "cell_type": "markdown",
   "metadata": {},
   "source": [
    "# Figure 2: L5PC neuron"
   ]
  },
  {
   "cell_type": "markdown",
   "metadata": {},
   "source": [
    "Relevant experiments:\n",
    "\n",
    "* 130709_increasing_uneq_irradiance_factor_somacurr (iclamp at soma)\n",
    "* 130710_distalcurr_unequal_irradiance (iclamp at distal)\n",
    "* 140723_L5PC_basal_irr (in vivo)\n",
    "* 130711_illumination_unequal_irradiance (opsin only)\n",
    "* 140616_replay_input_apic (replay, also used in low-level, in vivo)\n",
    "* 1505?? (replay traces, input to both apic and basal)"
   ]
  },
  {
   "cell_type": "code",
   "execution_count": 57,
   "metadata": {
    "collapsed": false
   },
   "outputs": [],
   "source": [
    "#### plot shape\n"
   ]
  },
  {
   "cell_type": "code",
   "execution_count": 65,
   "metadata": {
    "collapsed": false
   },
   "outputs": [],
   "source": [
    "\n",
    "%%capture\n",
    "# plot firing traces\n",
    "#plot vm traces for freqs = 0Hz\n",
    "reload(run_analysis)\n",
    "\n",
    "expL5PC_light = {'filebase': '140723_L5PC_basal_irr_ChRonly',\n",
    "                'light_on': 700,\n",
    "                'light_dur': 1000,\n",
    "                'tstop': 2500,\n",
    "                'current_amps': np.arange(-2.,2.01,0.1),\n",
    "                'factors': [0., 0.125,0.25,0.5,1.,2.],#,4.,8.] ,\n",
    "                'irrs': [0.01,0.02]} #np.arange(0.5,5.1,0.5)}\n",
    "\n",
    "# plot in vitro\n",
    "description = ['whole','whole']\n",
    "for irr in expL5PC_light['irrs']:\n",
    "    exp_descript = ['irr%.3f_'%irr+'factor%.2f_I0.00_stimloc_stim0_'+'NpHR_%s_ChR_%s'%(description[1],description[0])]\n",
    "    exp_labels = ['%.2f'%f for f in expL5PC_light['factors']]\n",
    "    #af = run_exp(expL5PC_light['filebase'],exp_descript,exp_labels,expL5PC_light['factors'],convert_expData(expL5PC_light))\n",
    "    af = plot_experiment(expL5PC_light['filebase'],exp_descript,exp_labels,expL5PC_light['factors'],convert_expData(expL5PC_light));\n",
    "    af.update_cmap(9)\n",
    "    af.submenu_plot(1,'Fig2_L5PC_Iclamp2_traces_irr%.3f'%irr)\n",
    "\n"
   ]
  },
  {
   "cell_type": "code",
   "execution_count": 63,
   "metadata": {
    "collapsed": false
   },
   "outputs": [
    {
     "data": {
      "text/plain": [
       "\"\\n%%capture\\n# plot firing traces\\n#plot vm traces for freqs = 0Hz\\nreload(run_analysis)\\n\\nexpL5PC_light = {'filebase': '130711_illumination_uneq_irradiance',\\n                'light_on': 700,\\n                'light_dur': 1000,\\n                'tstop': 2500,\\n                'current_amps': np.arange(-2.,2.01,0.1),\\n                'factors': [0.125,0.25,0.5,1.,2.,4.,8.] ,\\n                'irrs': [0.02,0.2]} #np.arange(0.5,5.1,0.5)}\\n\\n# plot in vitro\\ndescription = ['whole','whole']\\nfor irr in expL5PC_light['irrs']:\\n    exp_descript = ['_irr%.1f_'%irr+'factor%.2f_'+'NpHR_%s_ChR_%s'%(description[1],description[0])]\\n    exp_labels = ['%.2f'%f for f in expL5PC_light['factors']]\\n    af = plot_experiment(expL5PC_light['filebase'],exp_descript,exp_labels,expL5PC_light['factors'],convert_expData(expL5PC_light));\\n   \\n    af.update_cmap(9)\\n    af.submenu_plot(1,'Fig2_L5PC_Iclamp_traces_irr%.3f'%irr)\\n\""
      ]
     },
     "execution_count": 63,
     "metadata": {},
     "output_type": "execute_result"
    }
   ],
   "source": [
    "\"\"\"\n",
    "%%capture\n",
    "# plot firing traces\n",
    "#plot vm traces for freqs = 0Hz\n",
    "reload(run_analysis)\n",
    "\n",
    "expL5PC_light = {'filebase': '130711_illumination_uneq_irradiance',\n",
    "                'light_on': 700,\n",
    "                'light_dur': 1000,\n",
    "                'tstop': 2500,\n",
    "                'current_amps': np.arange(-2.,2.01,0.1),\n",
    "                'factors': [0.125,0.25,0.5,1.,2.,4.,8.] ,\n",
    "                'irrs': [0.02,0.2]} #np.arange(0.5,5.1,0.5)}\n",
    "\n",
    "# plot in vitro\n",
    "description = ['whole','whole']\n",
    "for irr in expL5PC_light['irrs']:\n",
    "    exp_descript = ['_irr%.1f_'%irr+'factor%.2f_'+'NpHR_%s_ChR_%s'%(description[1],description[0])]\n",
    "    exp_labels = ['%.2f'%f for f in expL5PC_light['factors']]\n",
    "    af = plot_experiment(expL5PC_light['filebase'],exp_descript,exp_labels,expL5PC_light['factors'],convert_expData(expL5PC_light));\n",
    "   \n",
    "    af.update_cmap(9)\n",
    "    af.submenu_plot(1,'Fig2_L5PC_Iclamp_traces_irr%.3f'%irr)\n",
    "\"\"\"\n"
   ]
  },
  {
   "cell_type": "code",
   "execution_count": 70,
   "metadata": {
    "collapsed": false
   },
   "outputs": [],
   "source": [
    "%%capture\n",
    "# plot in vitro, soma injection\n",
    "reload(run_analysis)\n",
    "expL5PC_vitroSoma = {'filebase': '130709_increasing_uneq_irradiance_factor_somacurr',\n",
    "                'light_on': 700,\n",
    "                'light_dur': 1000,\n",
    "                'tstop': 2500,\n",
    "                'current_amps': np.arange(-2.,2.01,0.1),\n",
    "                'factors': [0.125,0.25,0.5,1.,2.,4.,8.] ,\n",
    "                'irrs': [1.0]}\n",
    "description = ['whole','whole']\n",
    "irr= expL5PC_vitroSoma['irrs'][0]\n",
    "exp_descript = ['_irr%.1f'%(irr)+'_factor%.2f'%(f)+'_Isoma%.1f_'+'NpHR_%s_ChR_%s'%(description[1],description[0]) for f in expL5PC_vitroSoma['factors']]\n",
    "exp_labels = ['%g'%f for f in expL5PC_vitroSoma['factors']]\n",
    "af = plot_experiment(expL5PC_vitroSoma['filebase'],exp_descript,exp_labels,expL5PC_vitroSoma['current_amps'],convert_expData(expL5PC_vitroSoma));\n",
    "af.update_cmap(9)\n",
    "af.submenu_plot(5, 'Fig2_L5PC_vitroSoma_'+expL5PC_vitroSoma['filebase']+'FI_gain_irr%.1f_varyFactor_exp%s%s_'%(irr,description[0],description[1]))"
   ]
  },
  {
   "cell_type": "code",
   "execution_count": 66,
   "metadata": {
    "collapsed": false
   },
   "outputs": [],
   "source": [
    "%%capture\n",
    "reload(run_analysis)\n",
    "# plot in vitro, apic injection\n",
    "\n",
    "# NB: Distal point = 620 from soma\n",
    "\n",
    "# NOTE: there was a FU when naming this experiment, so the generating script is: 130710_distalcurrent\n",
    "# BUT the expbase is 130710_increasing_uneq_irradiance_factor_somacurr\n",
    "expL5PC_vitroDistal = {'filebase': '130710_increasing_uneq_irradiance_factor_somacurr',\n",
    "                'light_on': 700,\n",
    "                'light_dur': 1000,\n",
    "                'tstop': 2500,\n",
    "                'current_amps': np.arange(-2.,2.01,0.1),\n",
    "                'factors': [0.125,0.25,0.5,1.,2.,4.,8.] ,\n",
    "                'irrs': [1.0]}\n",
    "description = ['whole','whole']\n",
    "irr= expL5PC_vitroDistal['irrs'][0]\n",
    "exp_descript = ['_irr%.1f'%(irr)+'_factor%.2f'%(f)+'_Idist%.1f_'+'NpHR_%s_ChR_%s'%(description[1],description[0]) for f in expL5PC_vitroDistal['factors']]\n",
    "exp_labels = ['%g'%f for f in expL5PC_vitroDistal['factors']]\n",
    "af = plot_experiment(expL5PC_vitroDistal['filebase'],exp_descript,exp_labels,expL5PC_vitroDistal['current_amps'],convert_expData(expL5PC_vitroDistal));\n",
    "af.update_cmap(9)\n",
    "af.submenu_plot(5, 'Fig2_L5PC_vitroDistal_'+expL5PC_vitroDistal['filebase']+'FI_gain_irr%.1f_varyFactor_exp%s%s_'%(irr,description[0],description[1]))"
   ]
  },
  {
   "cell_type": "code",
   "execution_count": 570,
   "metadata": {
    "collapsed": false
   },
   "outputs": [],
   "source": [
    "%%capture\n",
    "# plot in vivo\n",
    "\n",
    "L5PCdata = {'filebase': '140723_L5PC_basal_irr_ChRonly',\n",
    "                'light_on': 1050,\n",
    "                'light_dur': 1000,\n",
    "                'tstop': 2100,\n",
    "                'freqs': range(2,15,2)+range(15,151,5),\n",
    "                'Js':[2.],\n",
    "                'nsite_range': [80],\n",
    "                'factors': [0.001,0.125,0.25,0.5,0.75,1.] ,\n",
    "                'irrs': [0.002]}\n",
    "\n",
    "description = ['whole','whole']\n",
    "\n",
    "for irr in L5PCdata['irrs']:\n",
    "    exp_descript = ['irr%.3f_'%irr+'factor%.2f_'%f+'freq%g'+'_J%g_nsites%g'%(L5PCdata['Js'][0],L5PCdata['nsite_range'][0])+'_NpHR_%s_ChR_%s'%(description[1],description[0]) for f in L5PCdata['factors']]\n",
    "    exp_labels = ['%.2f'%f for f in L5PCdata['factors']]\n",
    "    af = plot_experiment(L5PCdata['filebase'],exp_descript,exp_labels,L5PCdata['freqs'],convert_expData(L5PCdata));\n",
    "    af.update_cmap(9)\n",
    "    af.submenu_plot(10, 'Fig2_L5PC_vivo_'+L5PCdata['filebase']+'FI_gain_irr%.1f_varyFactor_exp%s%s_'%(irr,description[0],description[1]))"
   ]
  },
  {
   "cell_type": "code",
   "execution_count": 573,
   "metadata": {
    "collapsed": false
   },
   "outputs": [],
   "source": [
    "%%capture\n",
    "# plot illumination only\n",
    "\n",
    "\n",
    "\n",
    "expL5PC_light = {'filebase': '130711_illumination_uneq_irradiance',\n",
    "                'light_on': 700,\n",
    "                'light_dur': 1000,\n",
    "                'tstop': 2500,\n",
    "                'current_amps': np.arange(-2.,2.01,0.1),\n",
    "                'factors': [0.125,0.25,0.5,1.,2.,4.,8.] ,\n",
    "                'irrs': np.arange(0,5.1,0.5)}\n",
    "\n",
    "explist = [['whole','whole'],['apical','apical']] \n",
    "for (i,expli) in enumerate(explist):\n",
    "    exp_descript = ['_irr%.1f'+'_factor%.2f'%(factor)+'_NpHR_%s_ChR_%s'%(expli[1],expli[0]) for factor in expL5PC_light['factors']]\n",
    "    exp_labels = ['%g'%f for f in expL5PC_light['factors']]\n",
    "    af = plot_experiment(expL5PC_light['filebase'],exp_descript,exp_labels,expL5PC_light['irrs'],convert_expData(expL5PC_light));\n",
    "    af.update_cmap(9)\n",
    "    if i==0:\n",
    "        #continue\n",
    "        af.submenu_plot(5, 'Fig2_L5PC_light_'+expL5PC_light['filebase']+'FI_gain_varyFactor_exp%s%s_'%(expli[0],expli[1]))\n",
    "    else:\n",
    "        af.submenu_plot(5, 'Fig5_L5PC_light_partial'+expL5PC_light['filebase']+'FI_gain_varyFactor_exp%s%s_'%(expli[0],expli[1]))\n",
    "        \n"
   ]
  },
  {
   "cell_type": "code",
   "execution_count": null,
   "metadata": {
    "collapsed": false
   },
   "outputs": [],
   "source": []
  },
  {
   "cell_type": "markdown",
   "metadata": {},
   "source": [
    "# Figure 3: Stellate\n",
    "\n",
    "Relevant experiments:\n",
    "\n",
    "* 140408_scan_SHstell (in vitro, and in vivo)"
   ]
  },
  {
   "cell_type": "code",
   "execution_count": 21,
   "metadata": {
    "collapsed": false
   },
   "outputs": [],
   "source": [
    "## Common data\n",
    "stell_data = {'filebase': '140408_scan_SHstell',\n",
    "               'light_on': 700,\n",
    "                'light_dur': 1000,\n",
    "                'tstop': 2700,\n",
    "                'current_amps': np.arange(-1.,3.1,0.2),\n",
    "                'freqs': range(10,201,10),\n",
    "                'Js':[2.],\n",
    "                'nsite_range': [40],\n",
    "                'stimlocs': ['stim2','stim3'],\n",
    "                #'factors': [ 0.0625, 0.125,0.25,0.375,0.5,0.75,1.,1.5,2.],\n",
    "                'factors': [0.0625,0.125, 0.25,0.375,0.5,0.75,1.,1.5,2.],\n",
    "                'irrs': [0.007,0.012]}"
   ]
  },
  {
   "cell_type": "code",
   "execution_count": 50,
   "metadata": {
    "collapsed": false
   },
   "outputs": [],
   "source": [
    "# plot shape\n",
    "\n",
    "# plot - find location of stim2 = select_section_posn_bydistance for [100.3,100.4]\n",
    "# while stim3 = select_section_posn_bydistance for [304,305]\n",
    "\n",
    "# see file: diary/150804_plotStellate.py"
   ]
  },
  {
   "cell_type": "code",
   "execution_count": 46,
   "metadata": {
    "collapsed": false
   },
   "outputs": [],
   "source": [
    "%%capture\n",
    "#plot vm traces for freqs = 0Hz\n",
    "reload(run_analysis)\n",
    "\n",
    "stell_data = {'filebase': '140408_scan_SHstell',\n",
    "               'light_on': 700,\n",
    "                'light_dur': 1000,\n",
    "                'tstop': 2700,\n",
    "                'current_amps': np.arange(-1.,3.1,0.2),\n",
    "                'freqs': range(10,201,10),\n",
    "                'Js':[1.],\n",
    "                'nsite_range': [40],\n",
    "                'stimlocs': ['stim2','stim3'],\n",
    "                'factors': [ 0.0625, 0.125,0.25,0.375,0.5,0.75,1.,2.,4.,8.],\n",
    "                'irrs': [0.007,0.012]}\n",
    "\n",
    "# plot in vitro\n",
    "description = ['whole','whole']\n",
    "stimloc = stell_data['stimlocs'][0]\n",
    "for irr in stell_data['irrs']:\n",
    "    exp_descript = ['irr%.3f_'%irr+'factor%.2f_'+'freq0'+'_J%g'%(1.)+'_NpHR_%s_ChR_%s'%(description[1],description[0])]\n",
    "    exp_labels = ['%.3f'%f for f in stell_data['factors']]\n",
    "    af = plot_experiment(stell_data['filebase'],exp_descript,exp_labels,stell_data['factors'],convert_expData(stell_data));\n",
    "   \n",
    "    af.update_cmap(9)\n",
    "    af.submenu_plot(1,'Fig3_Iclamp_traces_irr%.3f'%irr)\n",
    "\n",
    "\n",
    "\n"
   ]
  },
  {
   "cell_type": "code",
   "execution_count": 9,
   "metadata": {
    "collapsed": false
   },
   "outputs": [],
   "source": [
    "%%capture\n",
    "reload(run_analysis)\n",
    "# plot in vitro\n",
    "description = ['whole','whole']\n",
    "stimloc = stell_data['stimlocs'][0]\n",
    "for irr in stell_data['irrs']:\n",
    "    exp_descript = ['irr%.3f_'%irr+'factor%.2f_'%f+'I%.2f'+'_stimloc_%s'%(stimloc)+'_NpHR_%s_ChR_%s'%(description[1],description[0]) for f in stell_data['factors']]\n",
    "    exp_labels = ['%.3f'%f for f in stell_data['factors']]\n",
    "    af = plot_experiment(stell_data['filebase'],exp_descript,exp_labels,stell_data['current_amps'],convert_expData(stell_data));\n",
    "    af.update_cmap(9)\n",
    "    af.submenu_plot(5, 'Fig3_stellate_vitro_'+stell_data['filebase']+'FI_gain_irr%.3f_varyFactor_exp%s%s_'%(irr,description[0],description[1]))\n",
    "    #af.submenu_plot(0, 'Fig3_stellate_vitro_'+stell_data['filebase']+'FI_gain_irr%.3f_varyFactor_exp%s%s_'%(irr,description[0],description[1]))\n",
    "    "
   ]
  },
  {
   "cell_type": "code",
   "execution_count": 52,
   "metadata": {
    "collapsed": false
   },
   "outputs": [],
   "source": [
    "for irr in stell_data['irrs']:%%capture\n",
    "# plot in vivo\n",
    "description = ['whole','whole']\n",
    "for irr in stell_data['irrs']:\n",
    "    exp_descript = ['irr%.3f_'%irr+'factor%.2f_'%f+'freq%g'+'_J%g'%(2.)+'_NpHR_%s_ChR_%s'%(description[1],description[0]) for f in stell_data['factors']]\n",
    "    exp_labels = ['%.3f'%f for f in stell_data['factors']]\n",
    "    af = plot_experiment(stell_data['filebase'],exp_descript,exp_labels,stell_data['freqs'],convert_expData(stell_data));\n",
    "    af.update_cmap(9)\n",
    "    af.submenu_plot(5, 'Fig3_stellate_vivo_'+stell_data['filebase']+'FI_gain_irr%.3f_varyFactor_exp%s%s_'%(irr,description[0],description[1]))\n",
    "    af.submenu_plot(10, 'Fig3_stellate_vivo_bg_'+stell_data['filebase']+'FI_gain_irr%.3f_varyFactor_exp%s%s_'%(irr,description[0],description[1]))\n"
   ]
  },
  {
   "cell_type": "code",
   "execution_count": null,
   "metadata": {
    "collapsed": false
   },
   "outputs": [],
   "source": [
    "# plot voltage traces"
   ]
  },
  {
   "cell_type": "code",
   "execution_count": 54,
   "metadata": {
    "collapsed": false
   },
   "outputs": [],
   "source": [
    "#irr\n",
    "%%capture\n",
    "# plot for multiple trials - in vivo:\n",
    "basename = \"150616_n50_stellate\"\n",
    "factors = [ 0.0625, 0.125,0.25,0.375,0.5,0.75,1.,1.5,2.]\n",
    "for irr in stell_data['irrs']:\n",
    "    instances = [\"irr%.3f\"%irr+\"_factor%.2f\"%factor+\"_freq%g_J2_trial%s_NpHR_whole_ChR_whole\" for factor in factors]\n",
    "    variables = range(10,201,10)\n",
    "    trials = range(5)\n",
    "    trialLabels = ['%.2f'%f for f in factors]\n",
    "    labels = [\"freq%g\"%f for f in variables]\n",
    "    var_format = '%g'\n",
    "    af = plot_trialSet(basename,instances,stell_data['freqs'],trials,trialLabels,labels,var_format)\n",
    "    af.update_cmap(9)\n",
    "    af.submenu_plot(10, 'Fig3_stellate_vivo_bg_trials'+'FIbg_gain_irr%.3f_varyFactor_trialled_invivo_exp%s%s_'%(irr,description[0],description[1])) \n",
    "   "
   ]
  },
  {
   "cell_type": "code",
   "execution_count": 18,
   "metadata": {
    "collapsed": false
   },
   "outputs": [],
   "source": [
    "%%capture\n",
    "reload(run_analysis)\n",
    "stell_data = {'light_on': 700+50,\n",
    "                'light_dur': 1000-50,\n",
    "                'tstop': 2700}\n",
    "filebase ='140408_scan_SHstell'\n",
    "#factors = [ 0.0625, 0.125,0.25,0.375,0.5,0.75,1.,1.5,2.]\n",
    "factors = [0.125,0.25,0.375,0.5,0.75,1.,1.5,2.]\n",
    "irrs = [ a*b for a in [0.01, 0.1] for b in [1,2,5]] + list(np.arange(1.,5.1,0.25)) \n",
    "irrs.sort()\n",
    "# plot - illumination only\n",
    "description = ['whole','whole']\n",
    "exp_descript = ['irr%.3f_'+'factor%.2f_'%f+'illOnly'+'_NpHR_%s_ChR_%s'%(description[1],description[0]) for f in factors]\n",
    "exp_labels = ['%.3f'%f for f in factors]\n",
    "af = plot_experiment(filebase,exp_descript,exp_labels,irrs,convert_expData(stell_data));\n",
    "af.update_cmap(9)\n",
    "af.submenu_plot(5, 'Fig3_stellate_ill_'+filebase+'FI_gain_varyIrrFactor_exp%s%s_'%(description[0],description[1]))\n",
    "af.submenu_plot(0, 'Fig3_stellate_ill_orig_'+filebase+'FI_gain_varyIrrFactor_exp%s%s_'%(description[0],description[1]))\n",
    "   "
   ]
  },
  {
   "cell_type": "code",
   "execution_count": null,
   "metadata": {
    "collapsed": false
   },
   "outputs": [],
   "source": []
  },
  {
   "cell_type": "markdown",
   "metadata": {},
   "source": [
    "# Figure 4: Partial illumination in abstract neurons\n",
    "\n",
    "Relevant experiments:\n",
    "\n",
    "* ...?"
   ]
  },
  {
   "cell_type": "code",
   "execution_count": null,
   "metadata": {
    "collapsed": false
   },
   "outputs": [],
   "source": [
    "# figure for partial illumination illustration"
   ]
  },
  {
   "cell_type": "code",
   "execution_count": null,
   "metadata": {
    "collapsed": false
   },
   "outputs": [],
   "source": [
    "# plot voltage attenuation along one trace when one branch is unilluminated"
   ]
  },
  {
   "cell_type": "code",
   "execution_count": null,
   "metadata": {
    "collapsed": false
   },
   "outputs": [],
   "source": [
    "# plot voltage attenuation along one trace when two branches are unilluminated"
   ]
  },
  {
   "cell_type": "code",
   "execution_count": null,
   "metadata": {
    "collapsed": false
   },
   "outputs": [],
   "source": [
    "# plot IF response for partial illumination when one branch is unilluminated"
   ]
  },
  {
   "cell_type": "code",
   "execution_count": null,
   "metadata": {
    "collapsed": false
   },
   "outputs": [],
   "source": [
    "# plot IF response for partial illumination when two branches-multiple branches are unilluminated"
   ]
  },
  {
   "cell_type": "markdown",
   "metadata": {},
   "source": [
    "# Figure 5: Partial and graded illumination in L5PC\n",
    "\n",
    "Relevant experiments:\n",
    "\n",
    "* partial illumination: 130710_increasing_uneq_irradiance_factor_somacurr\n",
    "* graded illumination:  150324_partialIllumination_dualOpsin"
   ]
  },
  {
   "cell_type": "code",
   "execution_count": null,
   "metadata": {
    "collapsed": false
   },
   "outputs": [],
   "source": [
    "figure# figure for partial illumination illustration"
   ]
  },
  {
   "cell_type": "code",
   "execution_count": 72,
   "metadata": {
    "collapsed": false
   },
   "outputs": [],
   "source": [
    "# plot IF response response when only apical dendrites are illuminated i.e. no driving current\n",
    "# DONE: see Figure 2, illumination only"
   ]
  },
  {
   "cell_type": "code",
   "execution_count": 73,
   "metadata": {
    "collapsed": false
   },
   "outputs": [],
   "source": [
    "%%capture\n",
    "#130710_increasing_uneq_irradiance_factor_somacurr130710_increasing_uneq_irradiance_factor_somacurr\n",
    "# plot in vitro, apic injection\n",
    "\n",
    "# NOTE: there was a FU when naming this experiment, so the generating script is: 130710_distalcurrent\n",
    "# BUT the expbase is 130710_increasing_uneq_irradiance_factor_somacurr\n",
    "expL5PC_vitroDistal = {'filebase': '130710_increasing_uneq_irradiance_factor_somacurr',\n",
    "                'light_on': 700,\n",
    "                'light_dur': 1000,\n",
    "                'tstop': 2500,\n",
    "                'current_amps': np.arange(-2.,2.01,0.1),\n",
    "                'factors': [0.125,0.25,0.5,1.,2.,4.,8.] ,\n",
    "                'irrs': [1.0]}\n",
    "description = ['apical','apical']\n",
    "irr= expL5PC_vitroDistal['irrs'][0]\n",
    "exp_descript = ['_irr%.1f'%(irr)+'_factor%.2f'%(f)+'_Idist%.1f_'+'NpHR_%s_ChR_%s'%(description[1],description[0]) for f in expL5PC_vitroDistal['factors']]\n",
    "exp_labels = ['%g'%f for f in expL5PC_vitroDistal['factors']]\n",
    "af = plot_experiment(expL5PC_vitroDistal['filebase'],exp_descript,exp_labels,expL5PC_vitroDistal['current_amps'],convert_expData(expL5PC_vitroDistal));\n",
    "af.update_cmap(9)\n",
    "af.submenu_plot(5, 'Fig5_L5PC_vitroDistalApical_'+expL5PC_vitroDistal['filebase']+'FI_gain_irr%.1f_varyFactor_exp%s%s_'%(irr,description[0],description[1]))"
   ]
  },
  {
   "cell_type": "code",
   "execution_count": 3,
   "metadata": {
    "collapsed": false
   },
   "outputs": [],
   "source": [
    "%%capture\n",
    "#150324_partialIllumination_dualOpsin150324_partialIllumination_dualOpsin150324_partialIllumination_dualOpsin\n",
    "# plot trend --> creates 9 plots for irr and factors for graded illumination\n",
    "expbase = '150324_partialIllumination_dualOpsin'\n",
    "reload(run_analysis)\n",
    "tstop = 1500\n",
    "light_dur = 1100\n",
    "light_on = 200\n",
    "irrs = [0.01,0.02,0.05]\n",
    "factors = [0.1,0.2,0.5]\n",
    "gradients = np.arange(0.0,0.00101,0.0001)\n",
    "#gradients = np.arange(0.0,0.00101,0.0002)\n",
    "for irr in irrs:\n",
    "    for fac in factors:\n",
    "        af = run_analysis.AnalyticFrame()\n",
    "        af.update_params({'label_format':'_irr%.2f_factor%g_ChRgrad%.4f_NpHRgrad%.4f_NpHR_whole_ChR_whole'})\n",
    "        af.update_params({'tstart':light_on,'tstop':light_on+light_dur,\n",
    "                              'tstart_bg': 0,'tstop_bg':light_on,\n",
    "                              'tstart_post':light_on+light_dur,'tstop_post':tstop})\n",
    "        \n",
    "        exp_comp_list = [['_irr%.2f'%irr+'_factor%g'%fac+'_ChRgrad%.4f'+'_NpHRgrad%.4f_NpHR_whole_ChR_whole','..']]\n",
    "        expss = [ec[0] for ec in exp_comp_list]\n",
    "        explabels = [ec[1] for ec in exp_comp_list]\n",
    "        af.populate_expset(expbase,expss,explabels, [gradients,gradients])\n",
    "        af.submenu_load()\n",
    "        af.submenu_print()\n",
    "        labels = ['%.1f'%(g*1000) for g in gradients]\n",
    "        af.update_cmap(12)\n",
    "        af.submenu_plot(11, 'Fig5_2Dtrend_FI_gain_irr%.2f_factor%g_varyGradients'%(irr,fac),axestitles=['NpHR gradient (a.u.)','ChR2 gradient (a.u.)'],axeslabels=[labels,labels],plottitle='Graded illumination (irr=%.2f, E:I opsin factor=%.1f)'%(irr,fac))\n",
    "        "
   ]
  },
  {
   "cell_type": "code",
   "execution_count": null,
   "metadata": {
    "collapsed": false
   },
   "outputs": [],
   "source": []
  },
  {
   "cell_type": "markdown",
   "metadata": {},
   "source": [
    "## Figure 6: Subthreshold / smooth transition\n",
    "\n",
    "Relevant experiments:\n",
    "\n",
    "* 140616_replay_input_apic (replay traces, in vivo)\n",
    "* 1505?? (replay traces, input to both apic and basal)"
   ]
  },
  {
   "cell_type": "code",
   "execution_count": 424,
   "metadata": {
    "collapsed": false
   },
   "outputs": [
    {
     "data": {
      "text/plain": [
       "<module 'run_analysis' from '/home/sjarvis1/workspace/co_optogenetics/src/run_analysis.pyc'>"
      ]
     },
     "execution_count": 424,
     "metadata": {},
     "output_type": "execute_result"
    }
   ],
   "source": [
    "reload(run_analysis)"
   ]
  },
  {
   "cell_type": "code",
   "execution_count": 544,
   "metadata": {
    "collapsed": false
   },
   "outputs": [],
   "source": [
    "%%capture\n",
    "# FF and CVISI\n",
    "# 140616_replay_input_apic.py\n",
    "light_on = 2100\n",
    "light_dur = 1000\n",
    "tstop = 4000\n",
    "buff = 50 # buffer\n",
    "exp_fixedInput = {\n",
    "    'filebase': '140616_replay_input_apic',\n",
    "    'light_on':2000,\n",
    "    'light_dur': 1000,\n",
    "    'tstop': 4000,\n",
    "    'factors': [0.125,0.25,0.5,1.,2.,4.,8.],\n",
    "    #'irrs': [0.,0.001,0.002,0.003,0.004,0.005,0.006,0.007,0.008,0.009,0.01]+[0.5]+range(1,6),\n",
    "    #'irrs': [ a*b for a in [0.001,0.01, 0.1, 1.] for b in [1,2,5]], #range(1,6),\n",
    "    'irrs': [ a*b for a in [0.001,0.01, 0.1,1.] for b in [2]], #range(1,6),\n",
    "    'freq': 80,\n",
    "    'J': 0.5,\n",
    "    'syn_factor': -0.05,\n",
    "}\n",
    "\n",
    "af = run_analysis.AnalyticFrame()\n",
    "af.update_params({'tstart':light_on+buff,'tstop':light_on+light_dur,\n",
    "                              'tstart_bg': 0,'tstop_bg':light_on,\n",
    "                              'tstart_post':light_on+light_dur,'tstop_post':tstop})\n",
    "        \n",
    "af.update_cmap(9)\n",
    "description = 'irr%.3f_factor%.2f_spikes80_J0.5_cellL5PC_inh-0.05_freqfactor1_shuffle5_stimpoisson_NpHR_whole_ChR_whole'#%(irr,factor)\n",
    "exp_comp_list = [[description,'']]\n",
    "expss = [ec[0] for ec in exp_comp_list]\n",
    "explabels = [ec[1] for ec in exp_comp_list]\n",
    "af.populate_expset(exp_fixedInput['filebase'],expss,explabels, [exp_fixedInput['irrs'], exp_fixedInput['factors']]) \n",
    "                                                               "
   ]
  },
  {
   "cell_type": "code",
   "execution_count": 545,
   "metadata": {
    "collapsed": false
   },
   "outputs": [],
   "source": [
    "%%capture\n",
    "af.perform_analysis(['isi'],recalc=True)\n",
    "#af.perform_analysis(['isi'])\n",
    "af.submenu_save()"
   ]
  },
  {
   "cell_type": "code",
   "execution_count": 546,
   "metadata": {
    "collapsed": false
   },
   "outputs": [],
   "source": [
    "%%capture\n",
    "af.submenu_load()\n",
    "af.submenu_print()"
   ]
  },
  {
   "cell_type": "code",
   "execution_count": 547,
   "metadata": {
    "collapsed": false
   },
   "outputs": [
    {
     "name": "stdout",
     "output_type": "stream",
     "text": [
      "['isi', 'cv_isi', 'ff_isi']\n",
      "[31.217151751193317, 47.633708230765677, 59.878508623445022, 0.0091314935063606262, 0.13749999999799911, 0.73373015871948155, 0.0, 0.8732449203146061, 1.4897383527488819, 14.16451195909408, 1.8076297685790739, 0.44547368420404382, 0.0, 0.0, 1.0738190159799972, 8.3840215567400271, 606.50440310233705, 0.020331950207173009, 0.0, 0.0, 0.0, 3.149896851202806, 0.011615755626840616, 0.060497835496955137, 0.014880952380735835, 0.001706128133679908, 0.0, 0.0]\n",
      "['isi', 'cv_isi', 'ff_isi']\n",
      "[0.5584323389880792, 0.68253596039108544, 0.70979983564618543, 0.024350649350649352, 0.10000000000000001, 0.2275132275132275, 0.0, 0.12464227879989612, 0.15601719479840445, 0.43639443971229092, 0.36831646485302488, 0.19368421052631579, 0.0, 0.0, 0.16778652757835943, 0.39044333101041112, 1.6813290610044365, 0.058091286307053944, 0.0, 0.0, 0.0, 0.26153712712602445, 0.054662379421221867, 0.12535439164995896, 0.059523809523809521, 0.019498607242339833, 0.0, 0.0]\n",
      "28\n",
      "28\n"
     ]
    }
   ],
   "source": [
    "rr = af.get_analysis_values('ff_isi')\n",
    "ss = af.get_analysis_values('cv_isi')\n",
    "#print rr\n",
    "#print ss\n",
    "print len(rr[0])\n",
    "print len(ss[0])"
   ]
  },
  {
   "cell_type": "code",
   "execution_count": 548,
   "metadata": {
    "collapsed": false
   },
   "outputs": [],
   "source": [
    "n_factors = len(exp_fixedInput['factors'])\n",
    "n_irrs = len(exp_fixedInput['irrs'])\n",
    "#print n_factors*n_irrs"
   ]
  },
  {
   "cell_type": "code",
   "execution_count": 4,
   "metadata": {
    "collapsed": false
   },
   "outputs": [],
   "source": [
    "%%capture\n",
    "# FF and CVISI\n",
    "# 140616_replay_input_apic.py\n",
    "light_on = 2100\n",
    "light_dur = 1000\n",
    "tstop = 4000\n",
    "exp_fixedInput_single = {\n",
    "    'filebase': '140616_replay_input_apic',\n",
    "    'light_on':2000,\n",
    "    'light_dur': 1000,\n",
    "    'tstop': 4000,\n",
    "    #'factors': [0.12],\n",
    "    'factors': [0.125,0.25,0.5,1.,2.,4.,8.],\n",
    "    #'irrs': [0.,0.001,0.002,0.003,0.004,0.005,0.006,0.007,0.008,0.009,0.01]+[0.5]+range(1,6),\n",
    "    'irrs': [ 0.00], #range(1,6),\n",
    "    'freq': 80,\n",
    "    'J': 0.5,\n",
    "    'syn_factor': -0.05,\n",
    "}\n",
    "\n",
    "af = run_analysis.AnalyticFrame()\n",
    "af.update_params({'tstart':light_on,'tstop':light_on+light_dur,\n",
    "                              'tstart_bg': 0,'tstop_bg':light_on,\n",
    "                              'tstart_post':light_on+light_dur,'tstop_post':tstop})\n",
    "        \n",
    "af.update_cmap(9)\n",
    "description = 'irr%.3f_factor%.2f_spikes80_J0.5_cellL5PC_inh-0.05_freqfactor1_shuffle5_stimpoisson_NpHR_none_ChR_none'#%(irr,factor)\n",
    "exp_comp_list = [[description,'']]\n",
    "expss = [ec[0] for ec in exp_comp_list]\n",
    "explabels = [ec[1] for ec in exp_comp_list]\n",
    "af.populate_expset(exp_fixedInput_single['filebase'],expss,explabels, [exp_fixedInput_single['irrs'], exp_fixedInput_single['factors']]) \n",
    "af.perform_analysis(['isi'])\n",
    "af.submenu_save()  \n",
    "af.submenu_load()\n",
    "af.submenu_print()\n",
    "bg_ffisi = af.get_analysis_values('ff_isi')\n",
    "bg_cvisi = af.get_analysis_values('cv_isi')\n",
    "print bg_ffisi\n",
    "print bg_cvisi"
   ]
  },
  {
   "cell_type": "code",
   "execution_count": 550,
   "metadata": {
    "collapsed": false
   },
   "outputs": [
    {
     "name": "stdout",
     "output_type": "stream",
     "text": [
      "Populating the interactive namespace from numpy and matplotlib\n"
     ]
    },
    {
     "name": "stderr",
     "output_type": "stream",
     "text": [
      "WARNING: pylab import has clobbered these variables: ['colors', 'pylab']\n",
      "`%matplotlib` prevents importing * from pylab and numpy\n"
     ]
    },
    {
     "data": {
      "text/plain": [
       "<module 'run_analysis' from '/home/sjarvis1/workspace/co_optogenetics/src/run_analysis.pyc'>"
      ]
     },
     "execution_count": 550,
     "metadata": {},
     "output_type": "execute_result"
    }
   ],
   "source": [
    "import pylab\n",
    "%pylab inline\n",
    "from run_analysis import ExperimentPlotter\n",
    "from matplotlib import cm, colors\n",
    "reload(run_analysis)"
   ]
  },
  {
   "cell_type": "code",
   "execution_count": 551,
   "metadata": {
    "collapsed": false
   },
   "outputs": [
    {
     "name": "stdout",
     "output_type": "stream",
     "text": [
      "jet <type 'str'>\n",
      "--->  jet <type 'str'>\n",
      "hsv <type 'str'>\n",
      "--->  hsv <type 'str'>\n",
      "[ 0.1  0.3  0.5  0.7  0.9]\n"
     ]
    }
   ],
   "source": [
    "lspace = (0.1,0.9)\n",
    "intensities =  np.linspace(lspace[0], lspace[1], n_irrs+1) #np.linspace(0.1, 0.9, n_irrs)\n",
    "expPlot = ExperimentPlotter()\n",
    "expPlot.update_cmap_index(7)\n",
    "print intensities"
   ]
  },
  {
   "cell_type": "code",
   "execution_count": 552,
   "metadata": {
    "collapsed": true
   },
   "outputs": [],
   "source": [
    "def turn_off_border(ax,turnoffs=['right','top']):\n",
    "    for loc, spine in ax.spines.iteritems():\n",
    "        if loc not in turnoffs:\n",
    "            spine.set_position(('outward',5))\n",
    "            ax.tick_params(direction='out')\n",
    "        elif loc in turnoffs:\n",
    "            #spine.set_color('none') # don't draw spine\n",
    "            spine.set_visible(False)\n",
    "            #ax.tick_params([])\n",
    "    ax.xaxis.set_ticks_position('bottom')\n",
    "    ax.yaxis.set_ticks_position('left')"
   ]
  },
  {
   "cell_type": "code",
   "execution_count": 553,
   "metadata": {
    "collapsed": false
   },
   "outputs": [
    {
     "name": "stdout",
     "output_type": "stream",
     "text": [
      "[0.125, 0.25, 0.5, 1.0, 2.0, 4.0, 8.0]\n",
      "[0.0, 0.088435374149659865, 0.092105263157894732, 0.098684210526315791, 0.088524590163934422, 0.063694267515923567, 0.012195121951219513]\n"
     ]
    }
   ],
   "source": [
    "print exp_fixedInput['factors']\n",
    "print y_cvisi"
   ]
  },
  {
   "cell_type": "code",
   "execution_count": 554,
   "metadata": {
    "collapsed": false
   },
   "outputs": [
    {
     "name": "stdout",
     "output_type": "stream",
     "text": [
      "0.1 (1.0, 0.5790446966917554, 0.0, 1.0) 0\n",
      "0.3 (0.23970412205706326, 1.0, 0.0, 1.0) 0\n",
      "0.5 (0.0, 1.0, 0.96470316317617644, 1.0) 0\n",
      "0.7 (0.14595412205706287, 0.0, 1.0, 1.0) 0\n",
      "[ 0.1  0.3  0.5  0.7]\n",
      "[ 0.1  0.3  0.5  0.7  0.9]\n"
     ]
    },
    {
     "data": {
      "image/png": "[encoded data removed]",
      "text/plain": [
       "<matplotlib.figure.Figure at 0x7fbf7e4455d0>"
      ]
     },
     "metadata": {},
     "output_type": "display_data"
    }
   ],
   "source": [
    "pylab.figure(figsize=(10,5))\n",
    "\n",
    "# plot bg value for cvisis\n",
    "\n",
    "m = cm.ScalarMappable(cmap=expPlot.get_cmap())\n",
    "m.set_array(intensities)\n",
    "\n",
    "pylab.axhline(y=bg_cvisi[0], color='#888888', linewidth=2, linestyle='--')\n",
    "\n",
    "colrs = ['#C92D22','#FFD426','#00C91E','#2F75D6']\n",
    "linestyle = ['-','--',':']\n",
    "n_levels = 4\n",
    "nvper_level = 1\n",
    "\n",
    "for i in range(n_irrs):\n",
    "    #print i*n_factors,(i+i)*n_factors\n",
    "    y_cvisi = ss[0][i*n_factors:(i+1)*n_factors]\n",
    "    #print len(y_cvisi)\n",
    "    c=expPlot._get_color(m,intensities[i])\n",
    "    #print intensities[i], c\n",
    "    #c = int(i/nvper_level)\n",
    "    ls = i%nvper_level\n",
    "    print intensities[i], c, ls\n",
    "    #pylab.plot(exp_fixedInput['factors'],y_cvisi,c=colrs[c],ls=linestyle[ls],label='%g'%(exp_fixedInput['irrs'][i]))\n",
    "    pylab.plot(exp_fixedInput['factors'],y_cvisi,c=c,ls=linestyle[ls],label='%g'%(exp_fixedInput['irrs'][i]))\n",
    "\n",
    "turn_off_border(pylab.gca())    \n",
    "pylab.yscale('log')  \n",
    "pylab.xscale('log')\n",
    "\n",
    "\n",
    "dc = intensities[1]-intensities[0]\n",
    "mapint = np.linspace(lspace[0], lspace[1], n_irrs+1)\n",
    "mvalues = mapint[:-1]\n",
    "print mvalues\n",
    "print mapint\n",
    "cb = pylab.colorbar(m,values=mvalues,boundaries=mapint)#ticks=intensities,\n",
    "cb.set_ticks(intensities + .1)\n",
    "cb.set_ticklabels(exp_fixedInput['irrs'])\n",
    "cb.set_label('irradiance (mW/mm$^2$)')\n",
    "\n",
    "#pylab.legend()\n",
    "pylab.xlabel('xNpHR')\n",
    "pylab.ylabel('CVISI')\n",
    "pylab.savefig('Fig6_CVISI.png',dpi=300)\n"
   ]
  },
  {
   "cell_type": "code",
   "execution_count": 556,
   "metadata": {
    "collapsed": false
   },
   "outputs": [
    {
     "name": "stdout",
     "output_type": "stream",
     "text": [
      "[ 0.1  0.3  0.5  0.7]\n",
      "[ 0.1  0.3  0.5  0.7  0.9]\n"
     ]
    },
    {
     "data": {
      "image/png": "[encoded data removed]",
      "text/plain": [
       "<matplotlib.figure.Figure at 0x7fbf7df6f110>"
      ]
     },
     "metadata": {},
     "output_type": "display_data"
    }
   ],
   "source": [
    "pylab.figure(figsize=(10,5))\n",
    "\n",
    "pylab.axhline(y=bg_ffisi[0], color='#888888', linewidth=2, linestyle='--')\n",
    "\n",
    "\n",
    "for i in range(n_irrs):\n",
    "    #print exp_fixedInput['irrs'][i],i*n_factors,(i+1)*n_factors\n",
    "    y_ff = rr[0][i*n_factors:(i+1)*n_factors]\n",
    "    #print y_ff\n",
    "    c=expPlot._get_color(m,intensities[i])\n",
    "    pylab.plot(exp_fixedInput['factors'],y_ff,c=c)\n",
    "\n",
    "turn_off_border(pylab.gca())\n",
    "pylab.yscale('log')\n",
    "pylab.xscale('log')\n",
    "\n",
    "dc = intensities[1]-intensities[0]\n",
    "mapint = np.linspace(lspace[0], lspace[1], n_irrs+1)\n",
    "mvalues = mapint[:-1]\n",
    "print mvalues\n",
    "print mapint\n",
    "cb = pylab.colorbar(m,values=mvalues,boundaries=mapint)#ticks=intensities,\n",
    "cb.set_ticks(intensities + .1)\n",
    "cb.set_ticklabels(exp_fixedInput['irrs'])\n",
    "cb.set_label('irradiance (mW/mm$^2$)')\n",
    "\n",
    "\n",
    "pylab.xlabel('xNpHR')\n",
    "pylab.ylabel('FFISI')\n",
    "pylab.savefig('Fig6_FFISI.png',dpi=300)\n"
   ]
  },
  {
   "cell_type": "code",
   "execution_count": null,
   "metadata": {
    "collapsed": true
   },
   "outputs": [],
   "source": [
    "\n",
    "# Transition : 140718_replaylong\n",
    "\n"
   ]
  },
  {
   "cell_type": "code",
   "execution_count": null,
   "metadata": {
    "collapsed": true
   },
   "outputs": [],
   "source": []
  },
  {
   "cell_type": "code",
   "execution_count": null,
   "metadata": {
    "collapsed": true
   },
   "outputs": [],
   "source": []
  },
  {
   "cell_type": "code",
   "execution_count": null,
   "metadata": {
    "collapsed": false
   },
   "outputs": [],
   "source": [
    "\n",
    "\n",
    "\n",
    "\n"
   ]
  },
  {
   "cell_type": "code",
   "execution_count": null,
   "metadata": {
    "collapsed": true
   },
   "outputs": [],
   "source": []
  },
  {
   "cell_type": "code",
   "execution_count": null,
   "metadata": {
    "collapsed": true
   },
   "outputs": [],
   "source": []
  },
  {
   "cell_type": "code",
   "execution_count": null,
   "metadata": {
    "collapsed": true
   },
   "outputs": [],
   "source": []
  },
  {
   "cell_type": "code",
   "execution_count": null,
   "metadata": {
    "collapsed": true
   },
   "outputs": [],
   "source": []
  },
  {
   "cell_type": "code",
   "execution_count": null,
   "metadata": {
    "collapsed": true
   },
   "outputs": [],
   "source": []
  },
  {
   "cell_type": "code",
   "execution_count": null,
   "metadata": {
    "collapsed": true
   },
   "outputs": [],
   "source": []
  },
  {
   "cell_type": "code",
   "execution_count": null,
   "metadata": {
    "collapsed": true
   },
   "outputs": [],
   "source": []
  },
  {
   "cell_type": "code",
   "execution_count": null,
   "metadata": {
    "collapsed": true
   },
   "outputs": [],
   "source": []
  },
  {
   "cell_type": "code",
   "execution_count": null,
   "metadata": {
    "collapsed": true
   },
   "outputs": [],
   "source": []
  },
  {
   "cell_type": "code",
   "execution_count": null,
   "metadata": {
    "collapsed": true
   },
   "outputs": [],
   "source": []
  },
  {
   "cell_type": "code",
   "execution_count": null,
   "metadata": {
    "collapsed": true
   },
   "outputs": [],
   "source": []
  },
  {
   "cell_type": "code",
   "execution_count": null,
   "metadata": {
    "collapsed": true
   },
   "outputs": [],
   "source": []
  },
  {
   "cell_type": "code",
   "execution_count": null,
   "metadata": {
    "collapsed": true
   },
   "outputs": [],
   "source": []
  }
 ],
 "metadata": {
  "kernelspec": {
   "display_name": "Python 2",
   "language": "python",
   "name": "python2"
  },
  "language_info": {
   "codemirror_mode": {
    "name": "ipython",
    "version": 2
   },
   "file_extension": ".py",
   "mimetype": "text/x-python",
   "name": "python",
   "nbconvert_exporter": "python",
   "pygments_lexer": "ipython2",
   "version": "2.7.6"
  }
 },
 "nbformat": 4,
 "nbformat_minor": 0
}
