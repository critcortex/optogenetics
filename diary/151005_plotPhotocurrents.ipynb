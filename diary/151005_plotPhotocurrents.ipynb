{
 "cells": [
  {
   "cell_type": "code",
   "execution_count": 1,
   "metadata": {
    "collapsed": true
   },
   "outputs": [],
   "source": [
    "#Purpose: record from iChR and iNpHR at soma "
   ]
  },
  {
   "cell_type": "code",
   "execution_count": 6,
   "metadata": {
    "collapsed": false
   },
   "outputs": [
    {
     "name": "stdout",
     "output_type": "stream",
     "text": [
      "Populating the interactive namespace from numpy and matplotlib\n"
     ]
    },
    {
     "name": "stderr",
     "output_type": "stream",
     "text": [
      "WARNING: pylab import has clobbered these variables: ['pylab']\n",
      "`%matplotlib` prevents importing * from pylab and numpy\n"
     ]
    }
   ],
   "source": [
    "from neuron import h, run, init\n",
    "import opsin as oplib\n",
    "import numpy as np\n",
    "import os\n",
    "import pylab\n",
    "%pylab inline"
   ]
  },
  {
   "cell_type": "code",
   "execution_count": 3,
   "metadata": {
    "collapsed": false
   },
   "outputs": [],
   "source": [
    "os.chdir('/home/sjarvis1/workspace/co_optogenetics')\n",
    "params = {}\n",
    "params['cell'] = ['Neuron', 'L5PC']\n",
    "params['cell_params'] = {}\n",
    "params['mark_loc'] ={}\n",
    "params['mark_loc']['names'] = ['mysoma']\n",
    "params['mark_loc']['sections'] = ['soma']\n",
    "params['mark_loc']['ids'] = [(0.,0.5)]"
   ]
  },
  {
   "cell_type": "code",
   "execution_count": null,
   "metadata": {
    "collapsed": false
   },
   "outputs": [],
   "source": [
    "# generate simple cell\n",
    "__import__(params['cell'][0]) \n",
    "neuronclass = sys.modules[params['cell'][0]]\n",
    "CellClass = getattr(neuronclass,params['cell'][1])\n",
    "cell = CellClass(params['cell_params'])"
   ]
  },
  {
   "cell_type": "code",
   "execution_count": null,
   "metadata": {
    "collapsed": true
   },
   "outputs": [],
   "source": [
    "marked_loc = {}\n",
    "ls = cell.get_subdomain_list('soma')\n",
    "tmp = ls.object(0)\n",
    "marked_loc['mysoma'] = ['soma', tmp, 0.5, 0]\n"
   ]
  },
  {
   "cell_type": "code",
   "execution_count": 14,
   "metadata": {
    "collapsed": false
   },
   "outputs": [
    {
     "data": {
      "text/plain": [
       "[<matplotlib.lines.Line2D at 0x7f483db20450>]"
      ]
     },
     "execution_count": 14,
     "metadata": {},
     "output_type": "execute_result"
    },
    {
     "data": {
      "image/png": "[encoded data removed]",
      "text/plain": [
       "<matplotlib.figure.Figure at 0x7f483db505d0>"
      ]
     },
     "metadata": {},
     "output_type": "display_data"
    }
   ],
   "source": [
    "\n",
    "dat = np.loadtxt('../140723_L5PC_basal_irr_ChRonlyirr0.001_factor0.50_I0.00_stimloc_stim0_iPhotoRec_NpHR_whole_ChR_whole_iChR.dat')\n",
    "ts = dat[0,:]\n",
    "ichr = dat[1,:]\n",
    "pylab.plot(ts,ichr)"
   ]
  },
  {
   "cell_type": "code",
   "execution_count": 15,
   "metadata": {
    "collapsed": false
   },
   "outputs": [
    {
     "data": {
      "text/plain": [
       "[<matplotlib.lines.Line2D at 0x7f483e2c45d0>]"
      ]
     },
     "execution_count": 15,
     "metadata": {},
     "output_type": "execute_result"
    },
    {
     "data": {
      "image/png": "[encoded data removed]",
      "text/plain": [
       "<matplotlib.figure.Figure at 0x7f4844285e10>"
      ]
     },
     "metadata": {},
     "output_type": "display_data"
    }
   ],
   "source": [
    "dat = np.loadtxt('../140723_L5PC_basal_irr_ChRonlyirr0.001_factor0.50_I0.00_stimloc_stim0_iPhotoRec_NpHR_whole_ChR_whole_iNpHR.dat')\n",
    "ts = dat[0,:]\n",
    "inphr = dat[1,:]\n",
    "pylab.plot(ts,inphr)"
   ]
  },
  {
   "cell_type": "code",
   "execution_count": null,
   "metadata": {
    "collapsed": true
   },
   "outputs": [],
   "source": []
  }
 ],
 "metadata": {
  "kernelspec": {
   "display_name": "Python 2",
   "language": "python",
   "name": "python2"
  },
  "language_info": {
   "codemirror_mode": {
    "name": "ipython",
    "version": 2
   },
   "file_extension": ".py",
   "mimetype": "text/x-python",
   "name": "python",
   "nbconvert_exporter": "python",
   "pygments_lexer": "ipython2",
   "version": "2.7.6"
  }
 },
 "nbformat": 4,
 "nbformat_minor": 0
}
