{
 "metadata": {
  "name": ""
 },
 "nbformat": 3,
 "nbformat_minor": 0,
 "worksheets": [
  {
   "cells": [
    {
     "cell_type": "code",
     "collapsed": false,
     "input": [
      "import numpy as np\n",
      "import math\n",
      "import pylab\n",
      "%pylab inline\n",
      "import sympy\n",
      "from sympy import symbols"
     ],
     "language": "python",
     "metadata": {},
     "outputs": [
      {
       "output_type": "stream",
       "stream": "stdout",
       "text": [
        "Populating the interactive namespace from numpy and matplotlib\n"
       ]
      },
      {
       "output_type": "stream",
       "stream": "stderr",
       "text": [
        "WARNING: pylab import has clobbered these variables: ['pylab']\n",
        "`%pylab --no-import-all` prevents importing * from pylab and numpy\n"
       ]
      }
     ],
     "prompt_number": 3
    },
    {
     "cell_type": "code",
     "collapsed": false,
     "input": [
      "t_end = 100\n",
      "a= 5\n",
      "b = 20\n",
      "D = 0.02"
     ],
     "language": "python",
     "metadata": {},
     "outputs": [],
     "prompt_number": 3
    },
    {
     "cell_type": "code",
     "collapsed": false,
     "input": [
      "ei_matrix_orig = np.array([[math.exp(-a*D), 0],\n",
      "                           [(1./(b-a))*(math.exp(-a*D)-math.exp(-b*D)), math.exp(-b*D) ]])\n",
      "print ei_matrix_orig\n",
      "v,w = np.linalg.eig(ei_matrix_orig)\n",
      "print w\n",
      "print v"
     ],
     "language": "python",
     "metadata": {},
     "outputs": [
      {
       "output_type": "stream",
       "stream": "stdout",
       "text": [
        "[[ 0.90483742  0.        ]\n",
        " [ 0.01563449  0.67032005]]\n",
        "[[ 0.          0.99778516]\n",
        " [ 1.          0.06651901]]\n",
        "[ 0.67032005  0.90483742]\n"
       ]
      }
     ],
     "prompt_number": 4
    },
    {
     "cell_type": "code",
     "collapsed": false,
     "input": [
      "t_end = 200\n",
      "corr_term = (math.exp(-a*D)-math.exp(-b*D))/((a-b)**2) - D*(math.exp(-a*D)/(a-b))\n",
      "#print corr_term\n",
      "\n",
      "ei_matrix_shot = np.array([[math.exp(-a*D), 0, 0],\n",
      "                           [D*math.exp(-a*D), math.exp(-a*D), 0],\n",
      "                           [corr_term, (1./(b-a))*(math.exp(-a*D)-math.exp(-b*D)), math.exp(-b*D) ]])\n",
      "\n",
      "print ei_matrix_shot\n",
      "v,w = np.linalg.eig(ei_matrix_shot)\n",
      "#print v\n",
      "#print w\n",
      "\n",
      "yo = np.array([0,0,0])\n",
      "x_in = np.array([0,0,0])\n",
      "ys = np.zeros((3,t_end))\n",
      "\n",
      "psp_size = a*b\n",
      "\n",
      "y_curr = np.dot(ei_matrix_shot,yo)\n",
      "\n",
      "ys[:,1] = y_curr\n",
      "\n",
      "for i in range(2,t_end):\n",
      "    if i == 30 :#or i == 50:\n",
      "        x_in = np.array([psp_size,0,0])\n",
      "    else:\n",
      "        x_in = np.array([0,0,0])\n",
      "    y_curr = np.dot(ei_matrix_shot,y_curr) + x_in.T\n",
      "    ys[:,i] = y_curr\n"
     ],
     "language": "python",
     "metadata": {},
     "outputs": [
      {
       "output_type": "stream",
       "stream": "stdout",
       "text": [
        "[[ 0.90483742  0.          0.        ]\n",
        " [ 0.01809675  0.90483742  0.        ]\n",
        " [ 0.00224875  0.01563449  0.67032005]]\n"
       ]
      }
     ],
     "prompt_number": 5
    },
    {
     "cell_type": "code",
     "collapsed": false,
     "input": [
      "pylab.figure()\n",
      "#pylab.plot(ys[0],'r')\n",
      "pylab.plot(ys[2,:],'b')\n",
      "pylab.show()"
     ],
     "language": "python",
     "metadata": {},
     "outputs": [
      {
       "metadata": {},
       "output_type": "display_data",
       "png": "[encoded data removed]",
       "text": [
        "<matplotlib.figure.Figure at 0x5461f90>"
       ]
      }
     ],
     "prompt_number": 6
    },
    {
     "cell_type": "heading",
     "level": 2,
     "metadata": {},
     "source": [
      "Testing sympy"
     ]
    },
    {
     "cell_type": "code",
     "collapsed": false,
     "input": [
      "from sympy import init_printing, mpmath, lambdify\n",
      "from sympy.mpmath import *\n",
      "\n",
      "from sympy.abc import x,y,z\n",
      "mp.dps = 15\n",
      "mp.pretty = True\n",
      "#M = MatrixSymbol('M', 3, 2)\n",
      "\n",
      "init_printing()\n",
      "delta = symbols('Delta')\n",
      "aa = symbols('aa')\n",
      "bb = symbols('bb')\n",
      "A_beta = sympy.Matrix([ [-x , 0 , 0],\n",
      "                  [1. , -x, 0],\n",
      "                  [0  , 1., -y]])\n",
      "print A_beta\n",
      "print a, b\n",
      "\n",
      "b_beta =  A_beta.subs([(x,a),(y,b),(z,D)])\n",
      "print b_beta\n",
      "#mpmath.expm(b_beta)\n",
      "##bb = lambdify( (x,y,z),A_beta)\n",
      "\n",
      "\n",
      "\n",
      "solution = mpmath.expm(b_beta*D)\n",
      "print solution\n",
      "#np_solution = np.array(solution,dtype=float)\n",
      "print ei_matrix_shot\n",
      "print \"Differences = \"\n",
      "#print solution-ei_matrix_shot\n",
      "print type(solution)\n",
      "print type(ei_matrix_shot)\n",
      "for x in solution:\n",
      "    print x\n",
      "conv = [float(x) for x in solution]\n",
      "print conv\n",
      "conv = np.array(conv)\n",
      "print conv\n",
      "#conv.reshape((3,3))\n",
      "print type(conv), len(conv)\n",
      "cc = conv.reshape((3,3))\n",
      "print cc\n",
      "print cc-ei_matrix_shot\n",
      "print cc[2,0]\n",
      "print ei_matrix_shot[2,0]"
     ],
     "language": "python",
     "metadata": {},
     "outputs": [
      {
       "output_type": "stream",
       "stream": "stdout",
       "text": [
        "[ -x,   0,  0]\n",
        "[1.0,  -x,  0]\n",
        "[  0, 1.0, -y]\n",
        "5 20\n",
        "[ -5,   0,   0]\n",
        "[1.0,  -5,   0]\n",
        "[  0, 1.0, -20]\n",
        "[    0.90483741803596                0.0                0.0]\n",
        "[  0.0180967483607192   0.90483741803596                0.0]\n",
        "[0.000164150459602078  0.015634491466688  0.670320046035639]\n",
        "[[ 0.90483742  0.          0.        ]\n",
        " [ 0.01809675  0.90483742  0.        ]\n",
        " [ 0.00224875  0.01563449  0.67032005]]\n",
        "Differences = \n",
        "<class 'sympy.mpmath.matrices.matrices.matrix'>\n",
        "<type 'numpy.ndarray'>\n",
        "0.90483741803596\n",
        "0.0\n",
        "0.0\n",
        "0.0180967483607192\n",
        "0.90483741803596\n",
        "0.0\n",
        "0.000164150459602078\n",
        "0.015634491466688\n",
        "0.670320046035639\n",
        "[0.9048374180359595, 0.0, 0.0, 0.018096748360719193, 0.9048374180359595, 0.0, 0.00016415045960207822, 0.01563449146668802, 0.6703200460356393]\n",
        "[  9.04837418e-01   0.00000000e+00   0.00000000e+00   1.80967484e-02\n",
        "   9.04837418e-01   0.00000000e+00   1.64150460e-04   1.56344915e-02\n",
        "   6.70320046e-01]\n",
        "<type 'numpy.ndarray'> 9\n",
        "[[  9.04837418e-01   0.00000000e+00   0.00000000e+00]\n",
        " [  1.80967484e-02   9.04837418e-01   0.00000000e+00]\n",
        " [  1.64150460e-04   1.56344915e-02   6.70320046e-01]]\n",
        "[[  0.00000000e+00   0.00000000e+00   0.00000000e+00]\n",
        " [  3.46944695e-18   0.00000000e+00   0.00000000e+00]\n",
        " [ -2.08459886e-03   6.93889390e-18   0.00000000e+00]]\n",
        "0.000164150459602\n",
        "0.00224874932183\n"
       ]
      }
     ],
     "prompt_number": 17
    },
    {
     "cell_type": "code",
     "collapsed": false,
     "input": [
      "t_end = 200\n",
      "corr_term = (math.exp(-a*D)-math.exp(-b*D))/((a-b)**2) - D*(math.exp(-a*D)/(a-b))\n",
      "#print corr_term\n",
      "\n",
      "ei_matrix_shot = np.array([[math.exp(-a*D), 0, 0],\n",
      "                           [D*math.exp(-a*D), math.exp(-a*D), 0],\n",
      "                           [corr_term, (1./(b-a))*(math.exp(-a*D)-math.exp(-b*D)), math.exp(-b*D) ]])\n",
      "\n",
      "print ei_matrix_shot\n",
      "v,w = np.linalg.eig(ei_matrix_shot)\n",
      "#print v\n",
      "#print w\n",
      "\n",
      "yo = np.array([0,0,0])\n",
      "x_in = np.array([0,0,0])\n",
      "ys = np.zeros((3,t_end))\n",
      "\n",
      "psp_size = a*b\n",
      "\n",
      "y_curr = np.dot(cc,yo)\n",
      "\n",
      "ys[:,1] = y_curr\n",
      "\n",
      "for i in range(2,t_end):\n",
      "    if i == 30 :#or i == 50:\n",
      "        x_in = np.array([psp_size,0,0])\n",
      "    else:\n",
      "        x_in = np.array([0,0,0])\n",
      "    y_curr = np.dot(cc,y_curr) + x_in.T\n",
      "    ys[:,i] = y_curr\n"
     ],
     "language": "python",
     "metadata": {},
     "outputs": [
      {
       "output_type": "stream",
       "stream": "stdout",
       "text": [
        "[[ 0.90483742  0.          0.        ]\n",
        " [ 0.01809675  0.90483742  0.        ]\n",
        " [ 0.00224875  0.01563449  0.67032005]]\n"
       ]
      }
     ],
     "prompt_number": 18
    },
    {
     "cell_type": "code",
     "collapsed": false,
     "input": [
      "pylab.figure()\n",
      "#pylab.plot(ys[0],'r')\n",
      "pylab.plot(ys[2,:],'b')\n",
      "pylab.show()"
     ],
     "language": "python",
     "metadata": {},
     "outputs": [
      {
       "metadata": {},
       "output_type": "display_data",
       "png": "[encoded data removed]",
       "text": [
        "<matplotlib.figure.Figure at 0x5531790>"
       ]
      }
     ],
     "prompt_number": 19
    },
    {
     "cell_type": "markdown",
     "metadata": {},
     "source": [
      "From MATLAB:\n",
      "\n",
      "$e^{\\Delta A}$ = \n",
      "[                                                          exp(-D*a),                                0,         0]\n",
      "[                                                        D*exp(-D*a),                        exp(-D*a),         0]\n",
      "[ -(exp(-D*a) - exp(-D*b) + D*a*exp(-D*a) - D*b*exp(-D*a))/(a - b)^2, -(exp(-D*a) - exp(-D*b))/(a - b), exp(-D*b)]\n",
      " "
     ]
    },
    {
     "cell_type": "code",
     "collapsed": false,
     "input": [],
     "language": "python",
     "metadata": {},
     "outputs": []
    },
    {
     "cell_type": "heading",
     "level": 2,
     "metadata": {},
     "source": [
      "EI model for voltage membrane"
     ]
    },
    {
     "cell_type": "markdown",
     "metadata": {},
     "source": [
      "Let's go back to Morrison et al (2007): \"Exact Subthreshold Integration with ... \". In this paper, they specifically model neurons with $\\dot{V} = -\\frac{V}{\\tau_m} + \\frac{I}{C}$"
     ]
    },
    {
     "cell_type": "code",
     "collapsed": false,
     "input": [
      "tau_a = 0.1\n",
      "tau_m = 2\n",
      "C = 250\n",
      "threshold = 20\n",
      "tau_r = 2\n",
      "i_inst =103.4\n",
      "t_end = 2000\n",
      "D = 0.02"
     ],
     "language": "python",
     "metadata": {},
     "outputs": [],
     "prompt_number": 28
    },
    {
     "cell_type": "code",
     "collapsed": false,
     "input": [
      "A = np.array([[ -1./tau_a, 0 , 0],\n",
      "              [ 1., -1./tau_a, 0],\n",
      "              [0 , 1./C , -1./tau_m]])\n",
      "\n",
      "ei_DA = np.array([[ exp(-D/tau_a),0,  0],\n",
      "                  [ D*exp(-D/tau_a),  exp(-D/tau_a),  0],\n",
      "                  [ -(tau_a*tau_m*(tau_a*tau_m*exp(-D/tau_a) - tau_a*tau_m*exp(-D/tau_m) - D*tau_a*exp(-D/tau_a) + D*tau_m*exp(-D/tau_a)))/(C*(tau_a - tau_m)**2), (tau_a*tau_m*exp(-D/tau_a) - tau_a*tau_m*exp(-D/tau_m))/(C*(tau_a - tau_m)), exp(-D/tau_m)]])\n",
      "\n",
      "print ei_DA\n",
      "y0 = np.array([i_inst, 0 , 0])\n",
      "y0 = np.array([0, 0 , 0])\n",
      "\n",
      "x_in = np.array([ math.exp(1)/tau_a, 0 , 0 ])\n",
      "\n",
      "print y0\n",
      "print x_in"
     ],
     "language": "python",
     "metadata": {},
     "outputs": [
      {
       "output_type": "stream",
       "stream": "stdout",
       "text": [
        "[[  8.18730753e-01   0.00000000e+00   0.00000000e+00]\n",
        " [  1.63746151e-02   8.18730753e-01   0.00000000e+00]\n",
        " [  6.98514685e-07   7.21343498e-05   9.90049834e-01]]\n",
        "[0 0 0]\n",
        "[ 27.18281828   0.           0.        ]\n"
       ]
      }
     ],
     "prompt_number": 29
    },
    {
     "cell_type": "code",
     "collapsed": false,
     "input": [
      "ys = np.zeros((3,t_end))\n",
      "y_curr = np.dot(ei_DA,y0)\n",
      "ys[:,0] = y_curr\n",
      "input_x = 0\n",
      "for i in range(1,t_end):\n",
      "    if i == 200 :#or i == 50:\n",
      "        input_x = 10\n",
      "    else:\n",
      "        input_x = 0\n",
      "    #print (input_x*x_in)\n",
      "    y_curr = np.dot(ei_DA,y_curr) + (input_x*x_in).T\n",
      "    ys[:,i] = y_curr"
     ],
     "language": "python",
     "metadata": {},
     "outputs": [],
     "prompt_number": 30
    },
    {
     "cell_type": "code",
     "collapsed": false,
     "input": [
      "pylab.figure()\n",
      "#pylab.plot(ys[0],'r')\n",
      "pylab.plot(ys[2,:],'b')\n",
      "#pylab.xlim(0,100)\n",
      "pylab.show()\n"
     ],
     "language": "python",
     "metadata": {},
     "outputs": [
      {
       "metadata": {},
       "output_type": "display_data",
       "png": "[encoded data removed]",
       "text": [
        "<matplotlib.figure.Figure at 0x4993090>"
       ]
      }
     ],
     "prompt_number": 31
    },
    {
     "cell_type": "heading",
     "level": 2,
     "metadata": {},
     "source": [
      "Updating for optogenetics"
     ]
    },
    {
     "cell_type": "markdown",
     "metadata": {},
     "source": [
      "The updated version should have: $\\dot{V} = -\\frac{V}{\\tau_m} + \\frac{I}{C} + I_{photo}$ where $I_{photo} = g V \\Psi(\\phi)$ and $\\Psi(\\phi) = s_3 + \\gamma s_4$ for $\\gamma < 1$ and $s_i$ from a 6-state model"
     ]
    },
    {
     "cell_type": "code",
     "collapsed": false,
     "input": [
      "a10,a2,a30,a31,a4,a6 = 5.,1.,0.022,0.0135,0.025,0.00033\n",
      "b1,b20,b21,b3,b40 = 0.13,0.011,0.0048,1.,1.1\n",
      "a3 = a30+a31\n",
      "a1 = a10\n",
      "b2 = b20 + b21\n",
      "b4 = b40\n",
      "s6 = np.array([[0,0,  b1, 0, 0, a6],\n",
      "              [0, -a2,0, 0, 0, 0],\n",
      "              [0,  a2, -(b1),0,0,0],\n",
      "              [0, 0 ,0,-(a4),b3,0],\n",
      "              [0, 0, 0, 0, -b3, 0],\n",
      "              [0, 0, 0, a4, 0, -(0+a6)]])\n",
      "\n",
      "pho_0 = 10**16\n",
      "gamma = 0.05\n",
      "v0 = 43\n",
      "v1 = -4.1\n",
      "A = 0.01\n",
      "g =  5e-4*A\n",
      "\n",
      "x_in = np.array([-a1, a1, -a3+b2, a3-b2, b4, -b4 ])\n",
      "\n",
      "\n",
      "D = 0.001\n",
      "\n",
      "\"\"\" Altered parameters - testing \"\"\"\n",
      "#a2 = 0.01\n"
     ],
     "language": "python",
     "metadata": {},
     "outputs": [
      {
       "metadata": {},
       "output_type": "pyout",
       "prompt_number": 231,
       "text": [
        "' Altered parameters - testing '"
       ]
      }
     ],
     "prompt_number": 231
    },
    {
     "cell_type": "code",
     "collapsed": false,
     "input": [
      "# from matlab: \n",
      "exp_Ds6 = np.array([[ 1, (a2 - b1 - a2*exp(-D*b1) + b1*exp(-D*a2))/(a2 - b1), 1 - exp(-D*b1), (a4 - a6 - a4*exp(-D*a6) + a6*exp(-D*a4))/(a4 - a6), -(a4*a6**2 - a4**2*a6 - a4*b3**2 + a4**2*b3 + a6*b3**2 - a6**2*b3 - a4*a6**2*exp(-D*b3) + a4*b3**2*exp(-D*a6) - a6*b3**2*exp(-D*a4) + a4**2*a6*exp(-D*b3) - a4**2*b3*exp(-D*a6) + a6**2*b3*exp(-D*a4))/((a4 - a6)*(a4 - b3)*(a6 - b3)), 1 - exp(-D*a6)],\n",
      "[ 0,                                          exp(-D*a2),              0,                                                   0,                                                                                                                                                                                                                          0,              0],\n",
      "[ 0,          -(a2*exp(-D*a2) - a2*exp(-D*b1))/(a2 - b1),     exp(-D*b1),                                                   0,                                                                                                                                                                                                                          0,              0],\n",
      "[ 0,                                                   0,              0,                                          exp(-D*a4),                                                                                                                                                                                 -(b3*exp(-D*a4) - b3*exp(-D*b3))/(a4 - b3),              0],\n",
      "[ 0,                                                   0,              0,                                                   0,                                                                                                                                                                                                                 exp(-D*b3),              0],\n",
      "[ 0,                                                   0,              0,          -(a4*exp(-D*a4) - a4*exp(-D*a6))/(a4 - a6),                                                                                   -(a4*b3*(a4*exp(-D*a6) - a6*exp(-D*a4) - a4*exp(-D*b3) + b3*exp(-D*a4) + a6*exp(-D*b3) - b3*exp(-D*a6)))/((a4 - a6)*(a4 - b3)*(a6 - b3)),     exp(-D*a6)]])\n",
      "print exp_Ds6"
     ],
     "language": "python",
     "metadata": {},
     "outputs": [
      {
       "output_type": "stream",
       "stream": "stdout",
       "text": [
        "[[  1.00000000e+00   6.49755229e-08   1.29991550e-04   4.12496297e-12\n",
        "    1.31664884e-15   3.29999946e-07]\n",
        " [  0.00000000e+00   9.99000500e-01   0.00000000e+00   0.00000000e+00\n",
        "    0.00000000e+00   0.00000000e+00]\n",
        " [  0.00000000e+00   9.99435191e-04   9.99870008e-01   0.00000000e+00\n",
        "    0.00000000e+00   0.00000000e+00]\n",
        " [  0.00000000e+00   0.00000000e+00   0.00000000e+00   9.99975000e-01\n",
        "    9.99487671e-04   0.00000000e+00]\n",
        " [  0.00000000e+00   0.00000000e+00   0.00000000e+00   0.00000000e+00\n",
        "    9.99000500e-01   0.00000000e+00]\n",
        " [  0.00000000e+00   0.00000000e+00   0.00000000e+00   2.49996834e-05\n",
        "    1.24957288e-08   9.99999670e-01]]\n"
       ]
      }
     ],
     "prompt_number": 232
    },
    {
     "cell_type": "code",
     "collapsed": false,
     "input": [
      "t_end = 5000000\n",
      "ys = np.zeros((6,t_end))\n",
      "vm = np.zeros((t_end))\n",
      "y0 = np.zeros((6))\n",
      "vcorr = -60\n",
      "#print y0\n",
      "#print exp_Ds6\n",
      "y_curr = np.dot(exp_Ds6,y0)\n",
      "ys[:,0] = y_curr\n",
      "#print y_curr\n",
      "\n",
      "def calc_xin(pho):\n",
      "    if pho < pho_0:\n",
      "        pho = pho_0\n",
      "    a1 = a10*pho/pho_0\n",
      "    a3 = (a30+a31*math.log(pho/pho_0))\n",
      "    b2 = (b20+b21*math.log(pho/pho_0))\n",
      "    b4 = b40*pho/pho_0\n",
      "    x_in = np.array([-a1, a1, -a3+b2, a3-b2, b4, -b4 ])\n",
      "    return x_in\n",
      "\n",
      "input_x = 0\n",
      "for t in range(1,t_end):\n",
      "    if t>1500 and t<3000000:\n",
      "        pho = 1000000000*pho_0\n",
      "    else:\n",
      "        pho = 0\n",
      "    #print (input_x*x_in)\n",
      "    xin = calc_xin(pho)\n",
      "    #print xin\n",
      "    y_curr = np.dot(exp_Ds6,y_curr) + (xin).T\n",
      "    ys[:,t] = y_curr\n",
      "    f = (1.-np.exp((vm[t-1]+vcorr)/v0))/v1\n",
      "    #print g, f\n",
      "    #print y_curr[2]\n",
      "    #print gamma\n",
      "    #print t\n",
      "    vm[t] = g*f*(y_curr[2] + gamma*y_curr[3])\n",
      "    #print g, f, vm[t]"
     ],
     "language": "python",
     "metadata": {},
     "outputs": [],
     "prompt_number": 236
    },
    {
     "cell_type": "code",
     "collapsed": false,
     "input": [
      "pylab.figure()\n",
      "#pylab.plot(ys[0],'r')\n",
      "pylab.plot(vm,'b')\n",
      "#pylab.xlim(0,100)\n",
      "pylab.show()"
     ],
     "language": "python",
     "metadata": {},
     "outputs": [
      {
       "metadata": {},
       "output_type": "display_data",
       "png": "[encoded data removed]",
       "text": [
        "<matplotlib.figure.Figure at 0x4922310>"
       ]
      }
     ],
     "prompt_number": 237
    },
    {
     "cell_type": "code",
     "collapsed": false,
     "input": [
      "# original\n",
      "a2 = 1.\n",
      "b1 = 0.13\n",
      "# alternative values\n",
      "a2 = 10.\n",
      "b1 = 0.13\n",
      "\n",
      "a2 = 1\n",
      "b1 = 0.13\n",
      "\n",
      "\n",
      "def calc_rates(pho):\n",
      "    if pho < pho_0:\n",
      "        pho = pho_0\n",
      "    a1 = a10*pho/pho_0\n",
      "    a3 = (a30+a31*math.log(pho/pho_0))\n",
      "    b2 = (b20+b21*math.log(pho/pho_0))\n",
      "    b4 = b40*pho/pho_0\n",
      "    \n",
      "    r1 = b1*b2*b3\n",
      "    r2 = a1*b2*b3\n",
      "    r3 = a1*a2*b3\n",
      "    r4 = a1*a2*a3\n",
      "    \n",
      "    return r1,r2,r3,r4,a1,a3,b2,b4\n",
      "\n",
      "\n",
      "def calc_peak(pho):\n",
      "    r1,r2,r3,r4,a1,a3,b2,b4 = calc_rates(pho)\n",
      "    \n",
      "    cond_peak = a1/(a1+b1+a2)\n",
      "    return cond_peak\n",
      "\n",
      "def calc_ss(pho):\n",
      "    r1,r2,r3,r4,a1,a3,b2,b4 = calc_rates(pho)\n",
      "    \n",
      "    cond_ss = r3/(r1+r2+r3+r4)*(1+gamma*a3/b2)\n",
      "    return cond_ss\n",
      "    \n",
      "    \n",
      "\n",
      "rs = calc_rates(10*pho_0)\n",
      "print rs\n",
      "pho = 1000000000*pho_0\n",
      "print \"peak = \",calc_peak(pho)\n",
      "print \"ss   = \",calc_ss(pho)\n"
     ],
     "language": "python",
     "metadata": {},
     "outputs": [
      {
       "output_type": "stream",
       "stream": "stdout",
       "text": [
        "(0.0028668130980282844, 1.102620422318571, 50.0, 2.654244937770981, 50.0, 0.05308489875541962, 0.022052408446371418, 11.000000000000002)\n",
        "peak =  0.999999999774\n",
        "ss   =  0.804808852594\n"
       ]
      }
     ],
     "prompt_number": 224
    }
   ],
   "metadata": {}
  }
 ]
}